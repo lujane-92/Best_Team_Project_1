{
 "cells": [
  {
   "cell_type": "code",
   "execution_count": 2,
   "metadata": {},
   "outputs": [],
   "source": [
    "# Dependencies\n",
    "import pandas as pd\n",
    "import matplotlib.pyplot as plt\n",
    "import scipy.stats as sts\n",
    "import numpy as np"
   ]
  },
  {
   "cell_type": "code",
   "execution_count": 3,
   "metadata": {},
   "outputs": [
    {
     "data": {
      "text/html": [
       "<div>\n",
       "<style scoped>\n",
       "    .dataframe tbody tr th:only-of-type {\n",
       "        vertical-align: middle;\n",
       "    }\n",
       "\n",
       "    .dataframe tbody tr th {\n",
       "        vertical-align: top;\n",
       "    }\n",
       "\n",
       "    .dataframe thead th {\n",
       "        text-align: right;\n",
       "    }\n",
       "</style>\n",
       "<table border=\"1\" class=\"dataframe\">\n",
       "  <thead>\n",
       "    <tr style=\"text-align: right;\">\n",
       "      <th></th>\n",
       "      <th>Timestamp</th>\n",
       "      <th>What is your age?</th>\n",
       "      <th>Which social media platform/s do you like the most or use the most?</th>\n",
       "      <th>How much time do you spend on social media in a day?</th>\n",
       "      <th>How much time do you spend on physical activities in a day?</th>\n",
       "      <th>How much do you feel that you are exposed to inappropriate content on these platforms (out of 10)?</th>\n",
       "      <th>Have you ever been a victim of any of these cyber crimes?</th>\n",
       "      <th>Which type of communication do you generally prefer?</th>\n",
       "      <th>Unnamed: 8</th>\n",
       "      <th>Unnamed: 9</th>\n",
       "      <th>Unnamed: 10</th>\n",
       "      <th>Unnamed: 11</th>\n",
       "      <th>Unnamed: 12</th>\n",
       "      <th>Unnamed: 13</th>\n",
       "    </tr>\n",
       "  </thead>\n",
       "  <tbody>\n",
       "    <tr>\n",
       "      <th>0</th>\n",
       "      <td>2/3/2018 17:13:01</td>\n",
       "      <td>19</td>\n",
       "      <td>Whatsapp, Facebook, Instagram</td>\n",
       "      <td>upto 4 hrs</td>\n",
       "      <td>less than 1 hr</td>\n",
       "      <td>3</td>\n",
       "      <td>Fake profiles</td>\n",
       "      <td>through phone</td>\n",
       "      <td>NaN</td>\n",
       "      <td>NaN</td>\n",
       "      <td>NaN</td>\n",
       "      <td>NaN</td>\n",
       "      <td>NaN</td>\n",
       "      <td>NaN</td>\n",
       "    </tr>\n",
       "    <tr>\n",
       "      <th>1</th>\n",
       "      <td>2/3/2018 17:18:50</td>\n",
       "      <td>19</td>\n",
       "      <td>Whatsapp, Facebook, Youtube, Instagram</td>\n",
       "      <td>more than 4 hrs</td>\n",
       "      <td>less than 1 hr</td>\n",
       "      <td>5</td>\n",
       "      <td>Photos being misused</td>\n",
       "      <td>Text message</td>\n",
       "      <td>NaN</td>\n",
       "      <td>NaN</td>\n",
       "      <td>NaN</td>\n",
       "      <td>NaN</td>\n",
       "      <td>NaN</td>\n",
       "      <td>NaN</td>\n",
       "    </tr>\n",
       "    <tr>\n",
       "      <th>2</th>\n",
       "      <td>2/3/2018 17:35:25</td>\n",
       "      <td>19</td>\n",
       "      <td>Whatsapp, Facebook, Instagram</td>\n",
       "      <td>upto 4 hrs</td>\n",
       "      <td>less than 1 hr</td>\n",
       "      <td>5</td>\n",
       "      <td>Hacking</td>\n",
       "      <td>through phone</td>\n",
       "      <td>NaN</td>\n",
       "      <td>NaN</td>\n",
       "      <td>NaN</td>\n",
       "      <td>NaN</td>\n",
       "      <td>NaN</td>\n",
       "      <td>NaN</td>\n",
       "    </tr>\n",
       "    <tr>\n",
       "      <th>3</th>\n",
       "      <td>2/3/2018 17:44:30</td>\n",
       "      <td>19</td>\n",
       "      <td>Whatsapp, Facebook, Youtube, Twitter</td>\n",
       "      <td>1 - 2.5 hrs</td>\n",
       "      <td>less than 1 hr</td>\n",
       "      <td>2</td>\n",
       "      <td>None of the above</td>\n",
       "      <td>face to face</td>\n",
       "      <td>NaN</td>\n",
       "      <td>NaN</td>\n",
       "      <td>NaN</td>\n",
       "      <td>NaN</td>\n",
       "      <td>NaN</td>\n",
       "      <td>NaN</td>\n",
       "    </tr>\n",
       "    <tr>\n",
       "      <th>4</th>\n",
       "      <td>2/3/2018 17:46:11</td>\n",
       "      <td>18</td>\n",
       "      <td>Youtube, Instagram</td>\n",
       "      <td>upto 4 hrs</td>\n",
       "      <td>1 - 2.5 hrs</td>\n",
       "      <td>3</td>\n",
       "      <td>None of the above</td>\n",
       "      <td>Text message</td>\n",
       "      <td>NaN</td>\n",
       "      <td>NaN</td>\n",
       "      <td>NaN</td>\n",
       "      <td>NaN</td>\n",
       "      <td>NaN</td>\n",
       "      <td>NaN</td>\n",
       "    </tr>\n",
       "  </tbody>\n",
       "</table>\n",
       "</div>"
      ],
      "text/plain": [
       "           Timestamp  What is your age?  \\\n",
       "0  2/3/2018 17:13:01                 19   \n",
       "1  2/3/2018 17:18:50                 19   \n",
       "2  2/3/2018 17:35:25                 19   \n",
       "3  2/3/2018 17:44:30                 19   \n",
       "4  2/3/2018 17:46:11                 18   \n",
       "\n",
       "  Which social media platform/s do you like the most or use the most?  \\\n",
       "0                      Whatsapp, Facebook, Instagram                    \n",
       "1             Whatsapp, Facebook, Youtube, Instagram                    \n",
       "2                      Whatsapp, Facebook, Instagram                    \n",
       "3               Whatsapp, Facebook, Youtube, Twitter                    \n",
       "4                                 Youtube, Instagram                    \n",
       "\n",
       "  How much time do you spend on social media in a day?  \\\n",
       "0                                         upto 4 hrs     \n",
       "1                                    more than 4 hrs     \n",
       "2                                         upto 4 hrs     \n",
       "3                                        1 - 2.5 hrs     \n",
       "4                                         upto 4 hrs     \n",
       "\n",
       "  How much time do you spend on physical activities in a day?  \\\n",
       "0                                     less than 1 hr            \n",
       "1                                     less than 1 hr            \n",
       "2                                     less than 1 hr            \n",
       "3                                     less than 1 hr            \n",
       "4                                        1 - 2.5 hrs            \n",
       "\n",
       "   How much do you feel that you are exposed to inappropriate content on these platforms (out of 10)?  \\\n",
       "0                                                  3                                                    \n",
       "1                                                  5                                                    \n",
       "2                                                  5                                                    \n",
       "3                                                  2                                                    \n",
       "4                                                  3                                                    \n",
       "\n",
       "  Have you ever been a victim of any of these cyber crimes?  \\\n",
       "0                                      Fake profiles          \n",
       "1                               Photos being misused          \n",
       "2                                            Hacking          \n",
       "3                                  None of the above          \n",
       "4                                  None of the above          \n",
       "\n",
       "  Which type of communication do you generally prefer?  Unnamed: 8  \\\n",
       "0                                      through phone           NaN   \n",
       "1                                       Text message           NaN   \n",
       "2                                      through phone           NaN   \n",
       "3                                       face to face           NaN   \n",
       "4                                       Text message           NaN   \n",
       "\n",
       "   Unnamed: 9  Unnamed: 10  Unnamed: 11  Unnamed: 12  Unnamed: 13  \n",
       "0         NaN          NaN          NaN          NaN          NaN  \n",
       "1         NaN          NaN          NaN          NaN          NaN  \n",
       "2         NaN          NaN          NaN          NaN          NaN  \n",
       "3         NaN          NaN          NaN          NaN          NaN  \n",
       "4         NaN          NaN          NaN          NaN          NaN  "
      ]
     },
     "execution_count": 3,
     "metadata": {},
     "output_type": "execute_result"
    }
   ],
   "source": [
    "responses_df = pd.read_csv('../001 - Data/Effects_of_Social_Media_(Responses).csv')\n",
    "responses_df.head()"
   ]
  },
  {
   "cell_type": "code",
   "execution_count": 4,
   "metadata": {},
   "outputs": [
    {
     "data": {
      "text/plain": [
       "Index(['Timestamp', 'What is your age?',\n",
       "       'Which social media platform/s do you like the most or use the most?',\n",
       "       'How much time do you spend on social media in a day?',\n",
       "       'How much time do you spend on physical activities in a day?',\n",
       "       'How much do you feel that you are exposed to inappropriate content on these platforms (out of 10)?',\n",
       "       'Have you ever been a victim of any of these cyber crimes?',\n",
       "       'Which type of communication do you generally prefer?', 'Unnamed: 8',\n",
       "       'Unnamed: 9', 'Unnamed: 10', 'Unnamed: 11', 'Unnamed: 12',\n",
       "       'Unnamed: 13'],\n",
       "      dtype='object')"
      ]
     },
     "execution_count": 4,
     "metadata": {},
     "output_type": "execute_result"
    }
   ],
   "source": [
    "responses_df.columns"
   ]
  },
  {
   "cell_type": "code",
   "execution_count": 5,
   "metadata": {
    "scrolled": true
   },
   "outputs": [
    {
     "data": {
      "text/html": [
       "<div>\n",
       "<style scoped>\n",
       "    .dataframe tbody tr th:only-of-type {\n",
       "        vertical-align: middle;\n",
       "    }\n",
       "\n",
       "    .dataframe tbody tr th {\n",
       "        vertical-align: top;\n",
       "    }\n",
       "\n",
       "    .dataframe thead th {\n",
       "        text-align: right;\n",
       "    }\n",
       "</style>\n",
       "<table border=\"1\" class=\"dataframe\">\n",
       "  <thead>\n",
       "    <tr style=\"text-align: right;\">\n",
       "      <th></th>\n",
       "      <th>What is your age?</th>\n",
       "      <th>Which social media platform/s do you like the most or use the most?</th>\n",
       "      <th>How much time do you spend on social media in a day?</th>\n",
       "      <th>How much time do you spend on physical activities in a day?</th>\n",
       "      <th>How much do you feel that you are exposed to inappropriate content on these platforms (out of 10)?</th>\n",
       "      <th>Have you ever been a victim of any of these cyber crimes?</th>\n",
       "      <th>Which type of communication do you generally prefer?</th>\n",
       "    </tr>\n",
       "  </thead>\n",
       "  <tbody>\n",
       "    <tr>\n",
       "      <th>0</th>\n",
       "      <td>19</td>\n",
       "      <td>Whatsapp, Facebook, Instagram</td>\n",
       "      <td>upto 4 hrs</td>\n",
       "      <td>less than 1 hr</td>\n",
       "      <td>3</td>\n",
       "      <td>Fake profiles</td>\n",
       "      <td>through phone</td>\n",
       "    </tr>\n",
       "    <tr>\n",
       "      <th>1</th>\n",
       "      <td>19</td>\n",
       "      <td>Whatsapp, Facebook, Youtube, Instagram</td>\n",
       "      <td>more than 4 hrs</td>\n",
       "      <td>less than 1 hr</td>\n",
       "      <td>5</td>\n",
       "      <td>Photos being misused</td>\n",
       "      <td>Text message</td>\n",
       "    </tr>\n",
       "    <tr>\n",
       "      <th>2</th>\n",
       "      <td>19</td>\n",
       "      <td>Whatsapp, Facebook, Instagram</td>\n",
       "      <td>upto 4 hrs</td>\n",
       "      <td>less than 1 hr</td>\n",
       "      <td>5</td>\n",
       "      <td>Hacking</td>\n",
       "      <td>through phone</td>\n",
       "    </tr>\n",
       "    <tr>\n",
       "      <th>3</th>\n",
       "      <td>19</td>\n",
       "      <td>Whatsapp, Facebook, Youtube, Twitter</td>\n",
       "      <td>1 - 2.5 hrs</td>\n",
       "      <td>less than 1 hr</td>\n",
       "      <td>2</td>\n",
       "      <td>None of the above</td>\n",
       "      <td>face to face</td>\n",
       "    </tr>\n",
       "    <tr>\n",
       "      <th>4</th>\n",
       "      <td>18</td>\n",
       "      <td>Youtube, Instagram</td>\n",
       "      <td>upto 4 hrs</td>\n",
       "      <td>1 - 2.5 hrs</td>\n",
       "      <td>3</td>\n",
       "      <td>None of the above</td>\n",
       "      <td>Text message</td>\n",
       "    </tr>\n",
       "  </tbody>\n",
       "</table>\n",
       "</div>"
      ],
      "text/plain": [
       "   What is your age?  \\\n",
       "0                 19   \n",
       "1                 19   \n",
       "2                 19   \n",
       "3                 19   \n",
       "4                 18   \n",
       "\n",
       "  Which social media platform/s do you like the most or use the most?  \\\n",
       "0                      Whatsapp, Facebook, Instagram                    \n",
       "1             Whatsapp, Facebook, Youtube, Instagram                    \n",
       "2                      Whatsapp, Facebook, Instagram                    \n",
       "3               Whatsapp, Facebook, Youtube, Twitter                    \n",
       "4                                 Youtube, Instagram                    \n",
       "\n",
       "  How much time do you spend on social media in a day?  \\\n",
       "0                                         upto 4 hrs     \n",
       "1                                    more than 4 hrs     \n",
       "2                                         upto 4 hrs     \n",
       "3                                        1 - 2.5 hrs     \n",
       "4                                         upto 4 hrs     \n",
       "\n",
       "  How much time do you spend on physical activities in a day?  \\\n",
       "0                                     less than 1 hr            \n",
       "1                                     less than 1 hr            \n",
       "2                                     less than 1 hr            \n",
       "3                                     less than 1 hr            \n",
       "4                                        1 - 2.5 hrs            \n",
       "\n",
       "   How much do you feel that you are exposed to inappropriate content on these platforms (out of 10)?  \\\n",
       "0                                                  3                                                    \n",
       "1                                                  5                                                    \n",
       "2                                                  5                                                    \n",
       "3                                                  2                                                    \n",
       "4                                                  3                                                    \n",
       "\n",
       "  Have you ever been a victim of any of these cyber crimes?  \\\n",
       "0                                      Fake profiles          \n",
       "1                               Photos being misused          \n",
       "2                                            Hacking          \n",
       "3                                  None of the above          \n",
       "4                                  None of the above          \n",
       "\n",
       "  Which type of communication do you generally prefer?  \n",
       "0                                      through phone    \n",
       "1                                       Text message    \n",
       "2                                      through phone    \n",
       "3                                       face to face    \n",
       "4                                       Text message    "
      ]
     },
     "execution_count": 5,
     "metadata": {},
     "output_type": "execute_result"
    }
   ],
   "source": [
    "responses_df = responses_df[['What is your age?',\n",
    "       'Which social media platform/s do you like the most or use the most?',\n",
    "       'How much time do you spend on social media in a day?',\n",
    "       'How much time do you spend on physical activities in a day?',\n",
    "       'How much do you feel that you are exposed to inappropriate content on these platforms (out of 10)?',\n",
    "       'Have you ever been a victim of any of these cyber crimes?',\n",
    "       'Which type of communication do you generally prefer?']]\n",
    "responses_df.head()"
   ]
  },
  {
   "cell_type": "code",
   "execution_count": null,
   "metadata": {},
   "outputs": [],
   "source": [
    "# Creating dataframe only for 18 to 21(young population)\n",
    "response_1 = responses_df.loc[(responses_df[\"What is your age?\"] >= 18) & (responses_df[\"What is your age?\"] <= 21)]\n",
    "\n",
    "response_1.head(5)"
   ]
  },
  {
   "cell_type": "code",
   "execution_count": 6,
   "metadata": {},
   "outputs": [
    {
     "data": {
      "text/plain": [
       "array(['Whatsapp, Facebook, Instagram',\n",
       "       'Whatsapp, Facebook, Youtube, Instagram',\n",
       "       'Whatsapp, Facebook, Youtube, Twitter', 'Youtube, Instagram',\n",
       "       'Whatsapp, Youtube, Instagram',\n",
       "       'Whatsapp, Facebook, Youtube, Twitter, Instagram, Snapchat',\n",
       "       'Facebook, Twitter', 'Whatsapp, Youtube, Instagram, Hike',\n",
       "       'Whatsapp', 'Whatsapp, Instagram', 'Youtube',\n",
       "       'Whatsapp, Facebook, Youtube', 'Instagram',\n",
       "       'Whatsapp, Facebook, Youtube, Instagram, Snapchat, Tinder',\n",
       "       'Whatsapp, Youtube', 'Snapchat',\n",
       "       'Whatsapp, Facebook, Youtube, Twitter, Instagram, Snapchat, Hike, Tinder',\n",
       "       'Whatsapp, Youtube, Instagram, Snapchat',\n",
       "       'Whatsapp, Instagram, Snapchat',\n",
       "       'Whatsapp, Facebook, Instagram, Snapchat',\n",
       "       'Whatsapp, Facebook, Instagram, Hike',\n",
       "       'Whatsapp, Facebook, Youtube, Twitter, Instagram, Snapchat, Hike',\n",
       "       'Facebook, Youtube, Instagram',\n",
       "       'Whatsapp, Facebook, Youtube, Instagram, Snapchat', 'Twitter',\n",
       "       'Facebook', 'Whatsapp, Facebook', 'Whatsapp, Hike',\n",
       "       'Whatsapp, Facebook, Youtube, Twitter, Instagram, Hike',\n",
       "       'Whatsapp, Facebook, Youtube, Instagram, Hike',\n",
       "       'Whatsapp, Youtube, Twitter', 'Whatsapp, Twitter, Snapchat',\n",
       "       'Whatsapp, Youtube, Instagram, Snapchat, Hike',\n",
       "       'Whatsapp, Facebook, Instagram, Snapchat, Hike',\n",
       "       'Whatsapp, Facebook, Youtube, Twitter, Instagram',\n",
       "       'Whatsapp, Facebook, Youtube, Hike',\n",
       "       'Whatsapp, Facebook, Youtube, Instagram, Snapchat, Hike',\n",
       "       'Facebook, Youtube', 'Youtube, Twitter',\n",
       "       'Youtube, Instagram, Snapchat',\n",
       "       'Facebook, Youtube, Instagram, Snapchat',\n",
       "       'Whatsapp, Facebook, Youtube, Hike, Tinder', 'Facebook, Instagram',\n",
       "       'Whatsapp, Youtube, Twitter, Instagram',\n",
       "       'Whatsapp, Facebook, Youtube, Snapchat', 'Instagram, Snapchat',\n",
       "       'Youtube, Twitter, Instagram, Snapchat',\n",
       "       'Whatsapp, Instagram, Snapchat, Hike, Tinder',\n",
       "       'Whatsapp, Facebook, Youtube, Instagram, Tinder',\n",
       "       'Whatsapp, Youtube, Snapchat',\n",
       "       'Whatsapp, Twitter, Instagram, Snapchat'], dtype=object)"
      ]
     },
     "execution_count": 6,
     "metadata": {},
     "output_type": "execute_result"
    }
   ],
   "source": [
    "platform_choice = responses_df['Which social media platform/s do you like the most or use the most?']\n",
    "platform_choice.unique()"
   ]
  },
  {
   "cell_type": "code",
   "execution_count": 7,
   "metadata": {},
   "outputs": [
    {
     "data": {
      "text/html": [
       "<div>\n",
       "<style scoped>\n",
       "    .dataframe tbody tr th:only-of-type {\n",
       "        vertical-align: middle;\n",
       "    }\n",
       "\n",
       "    .dataframe tbody tr th {\n",
       "        vertical-align: top;\n",
       "    }\n",
       "\n",
       "    .dataframe thead th {\n",
       "        text-align: right;\n",
       "    }\n",
       "</style>\n",
       "<table border=\"1\" class=\"dataframe\">\n",
       "  <thead>\n",
       "    <tr style=\"text-align: right;\">\n",
       "      <th></th>\n",
       "      <th>0</th>\n",
       "      <th>1</th>\n",
       "      <th>2</th>\n",
       "      <th>3</th>\n",
       "      <th>4</th>\n",
       "      <th>5</th>\n",
       "      <th>6</th>\n",
       "      <th>7</th>\n",
       "    </tr>\n",
       "  </thead>\n",
       "  <tbody>\n",
       "    <tr>\n",
       "      <th>0</th>\n",
       "      <td>Whatsapp</td>\n",
       "      <td>Facebook</td>\n",
       "      <td>Instagram</td>\n",
       "      <td>None</td>\n",
       "      <td>None</td>\n",
       "      <td>None</td>\n",
       "      <td>None</td>\n",
       "      <td>None</td>\n",
       "    </tr>\n",
       "    <tr>\n",
       "      <th>1</th>\n",
       "      <td>Whatsapp</td>\n",
       "      <td>Facebook</td>\n",
       "      <td>Youtube</td>\n",
       "      <td>Instagram</td>\n",
       "      <td>None</td>\n",
       "      <td>None</td>\n",
       "      <td>None</td>\n",
       "      <td>None</td>\n",
       "    </tr>\n",
       "    <tr>\n",
       "      <th>2</th>\n",
       "      <td>Whatsapp</td>\n",
       "      <td>Facebook</td>\n",
       "      <td>Instagram</td>\n",
       "      <td>None</td>\n",
       "      <td>None</td>\n",
       "      <td>None</td>\n",
       "      <td>None</td>\n",
       "      <td>None</td>\n",
       "    </tr>\n",
       "    <tr>\n",
       "      <th>3</th>\n",
       "      <td>Whatsapp</td>\n",
       "      <td>Facebook</td>\n",
       "      <td>Youtube</td>\n",
       "      <td>Twitter</td>\n",
       "      <td>None</td>\n",
       "      <td>None</td>\n",
       "      <td>None</td>\n",
       "      <td>None</td>\n",
       "    </tr>\n",
       "    <tr>\n",
       "      <th>4</th>\n",
       "      <td>Youtube</td>\n",
       "      <td>Instagram</td>\n",
       "      <td>None</td>\n",
       "      <td>None</td>\n",
       "      <td>None</td>\n",
       "      <td>None</td>\n",
       "      <td>None</td>\n",
       "      <td>None</td>\n",
       "    </tr>\n",
       "  </tbody>\n",
       "</table>\n",
       "</div>"
      ],
      "text/plain": [
       "          0           1           2           3     4     5     6     7\n",
       "0  Whatsapp    Facebook   Instagram        None  None  None  None  None\n",
       "1  Whatsapp    Facebook     Youtube   Instagram  None  None  None  None\n",
       "2  Whatsapp    Facebook   Instagram        None  None  None  None  None\n",
       "3  Whatsapp    Facebook     Youtube     Twitter  None  None  None  None\n",
       "4   Youtube   Instagram        None        None  None  None  None  None"
      ]
     },
     "execution_count": 7,
     "metadata": {},
     "output_type": "execute_result"
    }
   ],
   "source": [
    "platform_choice = responses_df['Which social media platform/s do you like the most or use the most?']\n",
    "platform_choice = platform_choice.str.split(',', expand=True)\n",
    "platform_choice.head()"
   ]
  },
  {
   "cell_type": "code",
   "execution_count": 8,
   "metadata": {},
   "outputs": [
    {
     "data": {
      "text/plain": [
       "{'Facebook': 120,\n",
       " 'Whatsapp': 207,\n",
       " 'Instagram': 164,\n",
       " 'Twitter': 29,\n",
       " 'Youtube': 162,\n",
       " 'Snapchat': 48,\n",
       " 'Other': 28}"
      ]
     },
     "execution_count": 8,
     "metadata": {},
     "output_type": "execute_result"
    }
   ],
   "source": [
    "platform_choice = responses_df['Which social media platform/s do you like the most or use the most?']\n",
    "\n",
    "facebook = 0\n",
    "whatsapp = 0\n",
    "instagram = 0\n",
    "twitter = 0\n",
    "youtube = 0\n",
    "snapchat = 0\n",
    "other = 0\n",
    "\n",
    "for i in range(0,len(platform_choice)):\n",
    "    if platform_choice[i].count('Facebook') > 0:\n",
    "        facebook = facebook + 1\n",
    "    if platform_choice[i].count('Whatsapp') > 0:\n",
    "        whatsapp = whatsapp + 1\n",
    "    if platform_choice[i].count('Instagram') > 0:\n",
    "        instagram = instagram + 1\n",
    "    if platform_choice[i].count('Twitter') > 0:\n",
    "        twitter = twitter + 1\n",
    "    if platform_choice[i].count('Youtube') > 0:\n",
    "        youtube = youtube + 1\n",
    "    if platform_choice[i].count('Snapchat') > 0:\n",
    "        snapchat = snapchat + 1\n",
    "    if platform_choice[i].count('Hike') > 0:\n",
    "        other = other + 1\n",
    "    if platform_choice[i].count('Tinder') > 0:\n",
    "        other = other + 1\n",
    "        \n",
    "platform_choice_count = {\"Facebook\" : facebook,\n",
    "                         \"Whatsapp\" : whatsapp,\n",
    "                         \"Instagram\" : instagram,\n",
    "                         \"Twitter\" : twitter,\n",
    "                         \"Youtube\" : youtube,\n",
    "                         \"Snapchat\" : snapchat,\n",
    "                         \"Other\" : other}\n",
    "platform_choice_count "
   ]
  },
  {
   "cell_type": "code",
   "execution_count": 9,
   "metadata": {},
   "outputs": [
    {
     "data": {
      "text/plain": [
       "array(['Fake profiles', 'Photos being misused', 'Hacking',\n",
       "       'None of the above', 'Photos being misused, Fake profiles',\n",
       "       'Hacking, Photos being misused',\n",
       "       'Fake profiles, None of the above',\n",
       "       'Hacking, Photos being misused, Fake profiles',\n",
       "       'Hacking, Fake profiles'], dtype=object)"
      ]
     },
     "execution_count": 9,
     "metadata": {},
     "output_type": "execute_result"
    }
   ],
   "source": [
    "crime_df = responses_df['Have you ever been a victim of any of these cyber crimes?']\n",
    "crime_df.unique()"
   ]
  },
  {
   "cell_type": "code",
   "execution_count": 10,
   "metadata": {},
   "outputs": [
    {
     "data": {
      "text/plain": [
       "array(['Fake profiles', 'Photos being misused', 'Hacking',\n",
       "       'None of the above', 'Photos being misused, Fake profiles',\n",
       "       'Hacking, Photos being misused',\n",
       "       'Hacking, Photos being misused, Fake profiles',\n",
       "       'Hacking, Fake profiles'], dtype=object)"
      ]
     },
     "execution_count": 10,
     "metadata": {},
     "output_type": "execute_result"
    }
   ],
   "source": [
    "crime_df = crime_df.replace(to_replace =\"Fake profiles, None of the above\", value =\"Fake profiles\") \n",
    "crime_df.unique()"
   ]
  },
  {
   "cell_type": "code",
   "execution_count": 11,
   "metadata": {},
   "outputs": [
    {
     "data": {
      "text/plain": [
       "{'Fake profiles': 46,\n",
       " 'Photos being misused': 12,\n",
       " 'Hacking': 20,\n",
       " 'None of the above': 224}"
      ]
     },
     "execution_count": 11,
     "metadata": {},
     "output_type": "execute_result"
    }
   ],
   "source": [
    "fake = 0\n",
    "photo_misuse = 0\n",
    "hacking = 0\n",
    "none = 0\n",
    "\n",
    "for i in range(0,len(crime_df)):\n",
    "    if crime_df[i].count('Fake profiles') > 0:\n",
    "        fake = fake + 1\n",
    "    if crime_df[i].count('Photos being misused') > 0:\n",
    "        photo_misuse = photo_misuse + 1\n",
    "    if crime_df[i].count('Hacking') > 0:\n",
    "        hacking = hacking + 1\n",
    "    if crime_df[i].count('None of the above') > 0:\n",
    "        none = none + 1\n",
    "\n",
    "crime_count = {\"Fake profiles\" : fake,\n",
    "               \"Photos being misused\" : photo_misuse,\n",
    "               \"Hacking\" : hacking,\n",
    "               \"None of the above\" : none}\n",
    "crime_count "
   ]
  },
  {
   "cell_type": "code",
   "execution_count": 12,
   "metadata": {},
   "outputs": [
    {
     "data": {
      "text/plain": [
       "array(['through phone', 'Text message', 'face to face',\n",
       "       'face to face, Text message',\n",
       "       'face to face, through phone, through social media',\n",
       "       'face to face, through phone',\n",
       "       'face to face, through phone, Text message',\n",
       "       'face to face, through phone, Text message, through social media',\n",
       "       'face to face, through social media', 'through social media',\n",
       "       'Text message, through social media',\n",
       "       'through phone, through social media'], dtype=object)"
      ]
     },
     "execution_count": 12,
     "metadata": {},
     "output_type": "execute_result"
    }
   ],
   "source": [
    "preferred_com = responses_df['Which type of communication do you generally prefer?']\n",
    "preferred_com.unique()"
   ]
  },
  {
   "cell_type": "code",
   "execution_count": 13,
   "metadata": {},
   "outputs": [
    {
     "data": {
      "text/plain": [
       "face to face                                                       136\n",
       "Text message                                                        36\n",
       "face to face, through phone                                         28\n",
       "through social media                                                22\n",
       "through phone                                                       19\n",
       "face to face, through phone, Text message, through social media     15\n",
       "face to face, through social media                                   8\n",
       "face to face, Text message                                           8\n",
       "face to face, through phone, Text message                            8\n",
       "face to face, through phone, through social media                    5\n",
       "Text message, through social media                                   4\n",
       "through phone, through social media                                  2\n",
       "Name: Which type of communication do you generally prefer?, dtype: int64"
      ]
     },
     "execution_count": 13,
     "metadata": {},
     "output_type": "execute_result"
    }
   ],
   "source": [
    "preferred_com.value_counts()"
   ]
  },
  {
   "cell_type": "code",
   "execution_count": 14,
   "metadata": {},
   "outputs": [
    {
     "data": {
      "text/plain": [
       "{'Face to face': 208,\n",
       " 'Text message': 71,\n",
       " 'through phone': 77,\n",
       " 'through social media': 56}"
      ]
     },
     "execution_count": 14,
     "metadata": {},
     "output_type": "execute_result"
    }
   ],
   "source": [
    "face = 0\n",
    "text = 0\n",
    "phone = 0\n",
    "social = 0\n",
    "\n",
    "for i in range(0,len(preferred_com)):\n",
    "    if preferred_com[i].count('face to face') > 0:\n",
    "        face = face + 1\n",
    "    if preferred_com[i].count('Text message') > 0:\n",
    "        text = text + 1\n",
    "    if preferred_com[i].count('through phone') > 0:\n",
    "        phone = phone + 1\n",
    "    if preferred_com[i].count('through social media') > 0:\n",
    "        social = social + 1\n",
    "        \n",
    "preferred_com_count = {\"Face to face\" : face,\n",
    "               \"Text message\" : text,\n",
    "               \"through phone\" : phone,\n",
    "               \"through social media\" : social}\n",
    "preferred_com_count"
   ]
  },
  {
   "cell_type": "code",
   "execution_count": 15,
   "metadata": {},
   "outputs": [
    {
     "data": {
      "text/html": [
       "<div>\n",
       "<style scoped>\n",
       "    .dataframe tbody tr th:only-of-type {\n",
       "        vertical-align: middle;\n",
       "    }\n",
       "\n",
       "    .dataframe tbody tr th {\n",
       "        vertical-align: top;\n",
       "    }\n",
       "\n",
       "    .dataframe thead th {\n",
       "        text-align: right;\n",
       "    }\n",
       "</style>\n",
       "<table border=\"1\" class=\"dataframe\">\n",
       "  <thead>\n",
       "    <tr style=\"text-align: right;\">\n",
       "      <th></th>\n",
       "      <th>What is your age?</th>\n",
       "      <th>Which social media platform/s do you like the most or use the most?</th>\n",
       "      <th>How much time do you spend on social media in a day?</th>\n",
       "      <th>How much time do you spend on physical activities in a day?</th>\n",
       "      <th>How much do you feel that you are exposed to inappropriate content on these platforms (out of 10)?</th>\n",
       "      <th>Have you ever been a victim of any of these cyber crimes?</th>\n",
       "      <th>Which type of communication do you generally prefer?</th>\n",
       "    </tr>\n",
       "  </thead>\n",
       "  <tbody>\n",
       "    <tr>\n",
       "      <th>0</th>\n",
       "      <td>19</td>\n",
       "      <td>Whatsapp, Facebook, Instagram</td>\n",
       "      <td>upto 4 hrs</td>\n",
       "      <td>less than 1 hr</td>\n",
       "      <td>3</td>\n",
       "      <td>Fake profiles</td>\n",
       "      <td>through phone</td>\n",
       "    </tr>\n",
       "    <tr>\n",
       "      <th>1</th>\n",
       "      <td>19</td>\n",
       "      <td>Whatsapp, Facebook, Youtube, Instagram</td>\n",
       "      <td>more than 4 hrs</td>\n",
       "      <td>less than 1 hr</td>\n",
       "      <td>5</td>\n",
       "      <td>Photos being misused</td>\n",
       "      <td>Text message</td>\n",
       "    </tr>\n",
       "    <tr>\n",
       "      <th>2</th>\n",
       "      <td>19</td>\n",
       "      <td>Whatsapp, Facebook, Instagram</td>\n",
       "      <td>upto 4 hrs</td>\n",
       "      <td>less than 1 hr</td>\n",
       "      <td>5</td>\n",
       "      <td>Hacking</td>\n",
       "      <td>through phone</td>\n",
       "    </tr>\n",
       "    <tr>\n",
       "      <th>3</th>\n",
       "      <td>19</td>\n",
       "      <td>Whatsapp, Facebook, Youtube, Twitter</td>\n",
       "      <td>1 - 2.5 hrs</td>\n",
       "      <td>less than 1 hr</td>\n",
       "      <td>2</td>\n",
       "      <td>None of the above</td>\n",
       "      <td>face to face</td>\n",
       "    </tr>\n",
       "    <tr>\n",
       "      <th>4</th>\n",
       "      <td>18</td>\n",
       "      <td>Youtube, Instagram</td>\n",
       "      <td>upto 4 hrs</td>\n",
       "      <td>1 - 2.5 hrs</td>\n",
       "      <td>3</td>\n",
       "      <td>None of the above</td>\n",
       "      <td>Text message</td>\n",
       "    </tr>\n",
       "    <tr>\n",
       "      <th>...</th>\n",
       "      <td>...</td>\n",
       "      <td>...</td>\n",
       "      <td>...</td>\n",
       "      <td>...</td>\n",
       "      <td>...</td>\n",
       "      <td>...</td>\n",
       "      <td>...</td>\n",
       "    </tr>\n",
       "    <tr>\n",
       "      <th>286</th>\n",
       "      <td>19</td>\n",
       "      <td>Whatsapp, Facebook, Youtube, Instagram, Hike</td>\n",
       "      <td>1 - 2.5 hrs</td>\n",
       "      <td>none</td>\n",
       "      <td>5</td>\n",
       "      <td>None of the above</td>\n",
       "      <td>face to face, through social media</td>\n",
       "    </tr>\n",
       "    <tr>\n",
       "      <th>287</th>\n",
       "      <td>18</td>\n",
       "      <td>Instagram</td>\n",
       "      <td>upto 4 hrs</td>\n",
       "      <td>1 - 2.5 hrs</td>\n",
       "      <td>10</td>\n",
       "      <td>None of the above</td>\n",
       "      <td>through phone, through social media</td>\n",
       "    </tr>\n",
       "    <tr>\n",
       "      <th>288</th>\n",
       "      <td>18</td>\n",
       "      <td>Whatsapp</td>\n",
       "      <td>1 - 2.5 hrs</td>\n",
       "      <td>1 - 2.5 hrs</td>\n",
       "      <td>4</td>\n",
       "      <td>Hacking</td>\n",
       "      <td>through social media</td>\n",
       "    </tr>\n",
       "    <tr>\n",
       "      <th>289</th>\n",
       "      <td>19</td>\n",
       "      <td>Whatsapp, Youtube, Twitter</td>\n",
       "      <td>more than 4 hrs</td>\n",
       "      <td>less than 1 hr</td>\n",
       "      <td>3</td>\n",
       "      <td>None of the above</td>\n",
       "      <td>through social media</td>\n",
       "    </tr>\n",
       "    <tr>\n",
       "      <th>290</th>\n",
       "      <td>18</td>\n",
       "      <td>Whatsapp, Youtube, Twitter</td>\n",
       "      <td>1 - 2.5 hrs</td>\n",
       "      <td>less than 1 hr</td>\n",
       "      <td>5</td>\n",
       "      <td>None of the above</td>\n",
       "      <td>face to face, through phone, Text message</td>\n",
       "    </tr>\n",
       "  </tbody>\n",
       "</table>\n",
       "<p>291 rows × 7 columns</p>\n",
       "</div>"
      ],
      "text/plain": [
       "     What is your age?  \\\n",
       "0                   19   \n",
       "1                   19   \n",
       "2                   19   \n",
       "3                   19   \n",
       "4                   18   \n",
       "..                 ...   \n",
       "286                 19   \n",
       "287                 18   \n",
       "288                 18   \n",
       "289                 19   \n",
       "290                 18   \n",
       "\n",
       "    Which social media platform/s do you like the most or use the most?  \\\n",
       "0                        Whatsapp, Facebook, Instagram                    \n",
       "1               Whatsapp, Facebook, Youtube, Instagram                    \n",
       "2                        Whatsapp, Facebook, Instagram                    \n",
       "3                 Whatsapp, Facebook, Youtube, Twitter                    \n",
       "4                                   Youtube, Instagram                    \n",
       "..                                                 ...                    \n",
       "286       Whatsapp, Facebook, Youtube, Instagram, Hike                    \n",
       "287                                          Instagram                    \n",
       "288                                           Whatsapp                    \n",
       "289                         Whatsapp, Youtube, Twitter                    \n",
       "290                         Whatsapp, Youtube, Twitter                    \n",
       "\n",
       "    How much time do you spend on social media in a day?  \\\n",
       "0                                           upto 4 hrs     \n",
       "1                                      more than 4 hrs     \n",
       "2                                           upto 4 hrs     \n",
       "3                                          1 - 2.5 hrs     \n",
       "4                                           upto 4 hrs     \n",
       "..                                                 ...     \n",
       "286                                        1 - 2.5 hrs     \n",
       "287                                         upto 4 hrs     \n",
       "288                                        1 - 2.5 hrs     \n",
       "289                                    more than 4 hrs     \n",
       "290                                        1 - 2.5 hrs     \n",
       "\n",
       "    How much time do you spend on physical activities in a day?  \\\n",
       "0                                       less than 1 hr            \n",
       "1                                       less than 1 hr            \n",
       "2                                       less than 1 hr            \n",
       "3                                       less than 1 hr            \n",
       "4                                          1 - 2.5 hrs            \n",
       "..                                                 ...            \n",
       "286                                               none            \n",
       "287                                        1 - 2.5 hrs            \n",
       "288                                        1 - 2.5 hrs            \n",
       "289                                     less than 1 hr            \n",
       "290                                     less than 1 hr            \n",
       "\n",
       "     How much do you feel that you are exposed to inappropriate content on these platforms (out of 10)?  \\\n",
       "0                                                    3                                                    \n",
       "1                                                    5                                                    \n",
       "2                                                    5                                                    \n",
       "3                                                    2                                                    \n",
       "4                                                    3                                                    \n",
       "..                                                 ...                                                    \n",
       "286                                                  5                                                    \n",
       "287                                                 10                                                    \n",
       "288                                                  4                                                    \n",
       "289                                                  3                                                    \n",
       "290                                                  5                                                    \n",
       "\n",
       "    Have you ever been a victim of any of these cyber crimes?  \\\n",
       "0                                        Fake profiles          \n",
       "1                                 Photos being misused          \n",
       "2                                              Hacking          \n",
       "3                                    None of the above          \n",
       "4                                    None of the above          \n",
       "..                                                 ...          \n",
       "286                                  None of the above          \n",
       "287                                  None of the above          \n",
       "288                                            Hacking          \n",
       "289                                  None of the above          \n",
       "290                                  None of the above          \n",
       "\n",
       "    Which type of communication do you generally prefer?  \n",
       "0                                        through phone    \n",
       "1                                         Text message    \n",
       "2                                        through phone    \n",
       "3                                         face to face    \n",
       "4                                         Text message    \n",
       "..                                                 ...    \n",
       "286                 face to face, through social media    \n",
       "287                through phone, through social media    \n",
       "288                               through social media    \n",
       "289                               through social media    \n",
       "290          face to face, through phone, Text message    \n",
       "\n",
       "[291 rows x 7 columns]"
      ]
     },
     "execution_count": 15,
     "metadata": {},
     "output_type": "execute_result"
    }
   ],
   "source": [
    "responses_df"
   ]
  },
  {
   "cell_type": "code",
   "execution_count": 30,
   "metadata": {},
   "outputs": [
    {
     "name": "stdout",
     "output_type": "stream",
     "text": [
      "                                                    Whatsapp\n",
      "How much time do you spend on social media in a...          \n",
      "1 - 2.5 hrs                                               84\n",
      "less than 1 hr                                            32\n",
      "more than 4 hrs                                           37\n",
      "none                                                       1\n",
      "upto 4 hrs                                                53\n"
     ]
    },
    {
     "name": "stderr",
     "output_type": "stream",
     "text": [
      "/opt/anaconda3/envs/PythonData/lib/python3.6/site-packages/ipykernel_launcher.py:2: SettingWithCopyWarning: \n",
      "A value is trying to be set on a copy of a slice from a DataFrame.\n",
      "Try using .loc[row_indexer,col_indexer] = value instead\n",
      "\n",
      "See the caveats in the documentation: https://pandas.pydata.org/pandas-docs/stable/user_guide/indexing.html#returning-a-view-versus-a-copy\n",
      "  \n",
      "/opt/anaconda3/envs/PythonData/lib/python3.6/site-packages/ipykernel_launcher.py:3: SettingWithCopyWarning: \n",
      "A value is trying to be set on a copy of a slice from a DataFrame.\n",
      "Try using .loc[row_indexer,col_indexer] = value instead\n",
      "\n",
      "See the caveats in the documentation: https://pandas.pydata.org/pandas-docs/stable/user_guide/indexing.html#returning-a-view-versus-a-copy\n",
      "  This is separate from the ipykernel package so we can avoid doing imports until\n",
      "/opt/anaconda3/envs/PythonData/lib/python3.6/site-packages/ipykernel_launcher.py:4: SettingWithCopyWarning: \n",
      "A value is trying to be set on a copy of a slice from a DataFrame.\n",
      "Try using .loc[row_indexer,col_indexer] = value instead\n",
      "\n",
      "See the caveats in the documentation: https://pandas.pydata.org/pandas-docs/stable/user_guide/indexing.html#returning-a-view-versus-a-copy\n",
      "  after removing the cwd from sys.path.\n"
     ]
    },
    {
     "data": {
      "text/html": [
       "<div>\n",
       "<style scoped>\n",
       "    .dataframe tbody tr th:only-of-type {\n",
       "        vertical-align: middle;\n",
       "    }\n",
       "\n",
       "    .dataframe tbody tr th {\n",
       "        vertical-align: top;\n",
       "    }\n",
       "\n",
       "    .dataframe thead th {\n",
       "        text-align: right;\n",
       "    }\n",
       "</style>\n",
       "<table border=\"1\" class=\"dataframe\">\n",
       "  <thead>\n",
       "    <tr style=\"text-align: right;\">\n",
       "      <th></th>\n",
       "      <th>Which social media platform/s do you like the most or use the most?</th>\n",
       "      <th>How much time do you spend on social media in a day?</th>\n",
       "      <th>Which type of communication do you generally prefer?</th>\n",
       "      <th>Whatsapp</th>\n",
       "      <th>Facebook</th>\n",
       "      <th>Youtube</th>\n",
       "      <th>Instagram</th>\n",
       "      <th>Twitter</th>\n",
       "      <th>Snapchat</th>\n",
       "      <th>Hike</th>\n",
       "      <th>Tinder</th>\n",
       "    </tr>\n",
       "  </thead>\n",
       "  <tbody>\n",
       "    <tr>\n",
       "      <th>0</th>\n",
       "      <td>Whatsapp, Facebook, Instagram</td>\n",
       "      <td>upto 4 hrs</td>\n",
       "      <td>through phone</td>\n",
       "      <td>1</td>\n",
       "      <td>1</td>\n",
       "      <td>0</td>\n",
       "      <td>1</td>\n",
       "      <td>0</td>\n",
       "      <td>0</td>\n",
       "      <td>0</td>\n",
       "      <td>0</td>\n",
       "    </tr>\n",
       "    <tr>\n",
       "      <th>1</th>\n",
       "      <td>Whatsapp, Facebook, Youtube, Instagram</td>\n",
       "      <td>more than 4 hrs</td>\n",
       "      <td>Text message</td>\n",
       "      <td>1</td>\n",
       "      <td>1</td>\n",
       "      <td>1</td>\n",
       "      <td>1</td>\n",
       "      <td>0</td>\n",
       "      <td>0</td>\n",
       "      <td>0</td>\n",
       "      <td>0</td>\n",
       "    </tr>\n",
       "    <tr>\n",
       "      <th>2</th>\n",
       "      <td>Whatsapp, Facebook, Instagram</td>\n",
       "      <td>upto 4 hrs</td>\n",
       "      <td>through phone</td>\n",
       "      <td>1</td>\n",
       "      <td>1</td>\n",
       "      <td>0</td>\n",
       "      <td>1</td>\n",
       "      <td>0</td>\n",
       "      <td>0</td>\n",
       "      <td>0</td>\n",
       "      <td>0</td>\n",
       "    </tr>\n",
       "    <tr>\n",
       "      <th>3</th>\n",
       "      <td>Whatsapp, Facebook, Youtube, Twitter</td>\n",
       "      <td>1 - 2.5 hrs</td>\n",
       "      <td>face to face</td>\n",
       "      <td>1</td>\n",
       "      <td>1</td>\n",
       "      <td>1</td>\n",
       "      <td>0</td>\n",
       "      <td>1</td>\n",
       "      <td>0</td>\n",
       "      <td>0</td>\n",
       "      <td>0</td>\n",
       "    </tr>\n",
       "    <tr>\n",
       "      <th>4</th>\n",
       "      <td>Youtube, Instagram</td>\n",
       "      <td>upto 4 hrs</td>\n",
       "      <td>Text message</td>\n",
       "      <td>0</td>\n",
       "      <td>0</td>\n",
       "      <td>1</td>\n",
       "      <td>1</td>\n",
       "      <td>0</td>\n",
       "      <td>0</td>\n",
       "      <td>0</td>\n",
       "      <td>0</td>\n",
       "    </tr>\n",
       "  </tbody>\n",
       "</table>\n",
       "</div>"
      ],
      "text/plain": [
       "  Which social media platform/s do you like the most or use the most?  \\\n",
       "0                      Whatsapp, Facebook, Instagram                    \n",
       "1             Whatsapp, Facebook, Youtube, Instagram                    \n",
       "2                      Whatsapp, Facebook, Instagram                    \n",
       "3               Whatsapp, Facebook, Youtube, Twitter                    \n",
       "4                                 Youtube, Instagram                    \n",
       "\n",
       "  How much time do you spend on social media in a day?  \\\n",
       "0                                         upto 4 hrs     \n",
       "1                                    more than 4 hrs     \n",
       "2                                         upto 4 hrs     \n",
       "3                                        1 - 2.5 hrs     \n",
       "4                                         upto 4 hrs     \n",
       "\n",
       "  Which type of communication do you generally prefer? Whatsapp Facebook  \\\n",
       "0                                      through phone          1        1   \n",
       "1                                       Text message          1        1   \n",
       "2                                      through phone          1        1   \n",
       "3                                       face to face          1        1   \n",
       "4                                       Text message          0        0   \n",
       "\n",
       "  Youtube Instagram Twitter Snapchat Hike Tinder  \n",
       "0       0         1       0        0    0      0  \n",
       "1       1         1       0        0    0      0  \n",
       "2       0         1       0        0    0      0  \n",
       "3       1         0       1        0    0      0  \n",
       "4       1         1       0        0    0      0  "
      ]
     },
     "execution_count": 30,
     "metadata": {},
     "output_type": "execute_result"
    }
   ],
   "source": [
    "responses_df1=responses_df[[\"Which social media platform/s do you like the most or use the most?\",\"How much time do you spend on social media in a day?\",\"Which type of communication do you generally prefer?\"]]\n",
    "responses_df1[\"Whatsapp\"]=\"\"\n",
    "responses_df1[\"Facebook\"]=\"\"\n",
    "responses_df1[\"Youtube\"]=\"\"\n",
    "responses_df1[\"Instagram\"]=\"\"\n",
    "responses_df1[\"Twitter\"]=\"\"\n",
    "responses_df1[\"Snapchat\"]=\"\"\n",
    "responses_df1[\"Hike\"]=\"\"\n",
    "responses_df1[\"Tinder\"]=\"\"\n",
    "responses_df1.head(7)\n",
    "\n",
    "for index , row in responses_df1.iterrows():\n",
    "    if \"Whatsapp\" in row['Which social media platform/s do you like the most or use the most?']:\n",
    "        row[\"Whatsapp\"]=1\n",
    "    else:\n",
    "        row[\"Whatsapp\"]=0\n",
    "    if \"Facebook\" in row['Which social media platform/s do you like the most or use the most?']:\n",
    "        row[\"Facebook\"]=1\n",
    "    else:\n",
    "        row[\"Facebook\"]=0\n",
    "    if \"Youtube\" in row['Which social media platform/s do you like the most or use the most?']:\n",
    "        row[\"Youtube\"]=1\n",
    "    else:\n",
    "        row[\"Youtube\"]=0\n",
    "    if \"Instagram\" in row['Which social media platform/s do you like the most or use the most?']:\n",
    "        row[\"Instagram\"]=1\n",
    "    else:\n",
    "        row[\"Instagram\"]=0   \n",
    "    if \"Twitter\" in row['Which social media platform/s do you like the most or use the most?']:\n",
    "        row[\"Twitter\"]=1\n",
    "    else:\n",
    "        row[\"Twitter\"]=0 \n",
    "    if \"Snapchat\" in row['Which social media platform/s do you like the most or use the most?']:\n",
    "        row[\"Snapchat\"]=1\n",
    "    else:\n",
    "        row[\"Snapchat\"]=0\n",
    "    if \"Hike\" in row['Which social media platform/s do you like the most or use the most?']:\n",
    "        row[\"Hike\"]=1\n",
    "    else:\n",
    "        row[\"Hike\"]=0\n",
    "    if \"Tinder\" in row['Which social media platform/s do you like the most or use the most?']:\n",
    "        row[\"Tinder\"]=1\n",
    "    else:\n",
    "        row[\"Tinder\"]=0\n",
    "responses_df1.head()\n",
    "    "
   ]
  },
  {
   "cell_type": "code",
   "execution_count": 115,
   "metadata": {},
   "outputs": [
    {
     "name": "stdout",
     "output_type": "stream",
     "text": [
      "[0, 1, 2, 3, 4]\n"
     ]
    },
    {
     "data": {
      "text/html": [
       "<div>\n",
       "<style scoped>\n",
       "    .dataframe tbody tr th:only-of-type {\n",
       "        vertical-align: middle;\n",
       "    }\n",
       "\n",
       "    .dataframe tbody tr th {\n",
       "        vertical-align: top;\n",
       "    }\n",
       "\n",
       "    .dataframe thead th {\n",
       "        text-align: right;\n",
       "    }\n",
       "</style>\n",
       "<table border=\"1\" class=\"dataframe\">\n",
       "  <thead>\n",
       "    <tr style=\"text-align: right;\">\n",
       "      <th></th>\n",
       "      <th>Whatsapp</th>\n",
       "      <th>Facebook</th>\n",
       "      <th>Youtube</th>\n",
       "      <th>Instagram</th>\n",
       "      <th>Twitter</th>\n",
       "      <th>Snapchat</th>\n",
       "      <th>Hike</th>\n",
       "      <th>Tinder</th>\n",
       "    </tr>\n",
       "    <tr>\n",
       "      <th>How much time do you spend on social media in a day?</th>\n",
       "      <th></th>\n",
       "      <th></th>\n",
       "      <th></th>\n",
       "      <th></th>\n",
       "      <th></th>\n",
       "      <th></th>\n",
       "      <th></th>\n",
       "      <th></th>\n",
       "    </tr>\n",
       "  </thead>\n",
       "  <tbody>\n",
       "    <tr>\n",
       "      <th>none</th>\n",
       "      <td>1</td>\n",
       "      <td>0</td>\n",
       "      <td>0</td>\n",
       "      <td>0</td>\n",
       "      <td>0</td>\n",
       "      <td>0</td>\n",
       "      <td>0</td>\n",
       "      <td>0</td>\n",
       "    </tr>\n",
       "    <tr>\n",
       "      <th>less than 1 hr</th>\n",
       "      <td>32</td>\n",
       "      <td>15</td>\n",
       "      <td>17</td>\n",
       "      <td>23</td>\n",
       "      <td>3</td>\n",
       "      <td>5</td>\n",
       "      <td>3</td>\n",
       "      <td>0</td>\n",
       "    </tr>\n",
       "    <tr>\n",
       "      <th>1 - 2.5 hrs</th>\n",
       "      <td>84</td>\n",
       "      <td>41</td>\n",
       "      <td>67</td>\n",
       "      <td>62</td>\n",
       "      <td>14</td>\n",
       "      <td>19</td>\n",
       "      <td>6</td>\n",
       "      <td>1</td>\n",
       "    </tr>\n",
       "    <tr>\n",
       "      <th>upto 4 hrs</th>\n",
       "      <td>53</td>\n",
       "      <td>32</td>\n",
       "      <td>45</td>\n",
       "      <td>47</td>\n",
       "      <td>9</td>\n",
       "      <td>12</td>\n",
       "      <td>8</td>\n",
       "      <td>3</td>\n",
       "    </tr>\n",
       "    <tr>\n",
       "      <th>more than 4 hrs</th>\n",
       "      <td>37</td>\n",
       "      <td>32</td>\n",
       "      <td>33</td>\n",
       "      <td>32</td>\n",
       "      <td>3</td>\n",
       "      <td>12</td>\n",
       "      <td>5</td>\n",
       "      <td>2</td>\n",
       "    </tr>\n",
       "  </tbody>\n",
       "</table>\n",
       "</div>"
      ],
      "text/plain": [
       "                                                    Whatsapp  Facebook  \\\n",
       "How much time do you spend on social media in a...                       \n",
       "none                                                       1         0   \n",
       "less than 1 hr                                            32        15   \n",
       "1 - 2.5 hrs                                               84        41   \n",
       "upto 4 hrs                                                53        32   \n",
       "more than 4 hrs                                           37        32   \n",
       "\n",
       "                                                    Youtube  Instagram  \\\n",
       "How much time do you spend on social media in a...                       \n",
       "none                                                      0          0   \n",
       "less than 1 hr                                           17         23   \n",
       "1 - 2.5 hrs                                              67         62   \n",
       "upto 4 hrs                                               45         47   \n",
       "more than 4 hrs                                          33         32   \n",
       "\n",
       "                                                    Twitter  Snapchat  Hike  \\\n",
       "How much time do you spend on social media in a...                            \n",
       "none                                                      0         0     0   \n",
       "less than 1 hr                                            3         5     3   \n",
       "1 - 2.5 hrs                                              14        19     6   \n",
       "upto 4 hrs                                                9        12     8   \n",
       "more than 4 hrs                                           3        12     5   \n",
       "\n",
       "                                                    Tinder  \n",
       "How much time do you spend on social media in a...          \n",
       "none                                                     0  \n",
       "less than 1 hr                                           0  \n",
       "1 - 2.5 hrs                                              1  \n",
       "upto 4 hrs                                               3  \n",
       "more than 4 hrs                                          2  "
      ]
     },
     "execution_count": 115,
     "metadata": {},
     "output_type": "execute_result"
    }
   ],
   "source": [
    "responses_df2=responses_df1[[\"How much time do you spend on social media in a day?\",\"Whatsapp\",\"Facebook\",\"Youtube\",\"Instagram\",\"Twitter\",\"Snapchat\",\"Hike\",\"Tinder\"]]\n",
    "responses_df2_g=responses_df2.groupby(\"How much time do you spend on social media in a day?\")\n",
    "responses_df2_groupby=responses_df2_g.sum()\n",
    "print(x_label)\n",
    "responses_df2_groupby=responses_df2_groupby.reindex([\"none\", \"less than 1 hr\", \"1 - 2.5 hrs\",\"upto 4 hrs\",\"more than 4 hrs\"])\n",
    "responses_df2_groupby"
   ]
  },
  {
   "cell_type": "code",
   "execution_count": 116,
   "metadata": {},
   "outputs": [
    {
     "data": {
      "text/plain": [
       "([<matplotlib.axis.XTick at 0x1a24f69278>,\n",
       "  <matplotlib.axis.XTick at 0x1a24eb8b70>,\n",
       "  <matplotlib.axis.XTick at 0x1a24eb8898>,\n",
       "  <matplotlib.axis.XTick at 0x1a24f91358>,\n",
       "  <matplotlib.axis.XTick at 0x1a24f91828>],\n",
       " <a list of 5 Text xticklabel objects>)"
      ]
     },
     "execution_count": 116,
     "metadata": {},
     "output_type": "execute_result"
    },
    {
     "data": {
      "image/png": "[encoded data removed]",
      "text/plain": [
       "<Figure size 432x288 with 1 Axes>"
      ]
     },
     "metadata": {
      "needs_background": "light"
     },
     "output_type": "display_data"
    }
   ],
   "source": [
    "\n",
    "\n",
    "x_axis = np.arange(len(responses_df2_groupby.index))\n",
    "Youtube_plot=plt.plot(x_axis,[v[0] for v in responses_df2_groupby[[\"Whatsapp\"]].to_numpy().tolist()])\n",
    "tick_locations = [value for value in x_axis]\n",
    "plt.xticks(tick_locations, [j for j in responses_df2_groupby.index])\n"
   ]
  },
  {
   "cell_type": "code",
   "execution_count": 98,
   "metadata": {},
   "outputs": [
    {
     "data": {
      "text/plain": [
       "([<matplotlib.axis.XTick at 0x1a247ac710>,\n",
       "  <matplotlib.axis.XTick at 0x1a247ac0b8>,\n",
       "  <matplotlib.axis.XTick at 0x1a2479dfd0>,\n",
       "  <matplotlib.axis.XTick at 0x1a247cabe0>,\n",
       "  <matplotlib.axis.XTick at 0x1a2466f160>],\n",
       " <a list of 5 Text xticklabel objects>)"
      ]
     },
     "execution_count": 98,
     "metadata": {},
     "output_type": "execute_result"
    },
    {
     "data": {
      "image/png": "[encoded data removed]",
      "text/plain": [
       "<Figure size 432x288 with 1 Axes>"
      ]
     },
     "metadata": {
      "needs_background": "light"
     },
     "output_type": "display_data"
    }
   ],
   "source": [
    "x_axis = np.arange(len(responses_df2_groupby.index))\n",
    "Youtube_plot=plt.plot(x_label,[v[0] for v in responses_df2_groupby[[\"Facebook\"]].to_numpy().tolist()])\n",
    "tick_locations = [value for value in x_axis]\n",
    "plt.xticks(tick_locations, [j for j in responses_df2_groupby.index])\n"
   ]
  },
  {
   "cell_type": "code",
   "execution_count": 99,
   "metadata": {},
   "outputs": [
    {
     "data": {
      "text/plain": [
       "([<matplotlib.axis.XTick at 0x1a2469b5c0>,\n",
       "  <matplotlib.axis.XTick at 0x1a2468fb38>,\n",
       "  <matplotlib.axis.XTick at 0x1a2468fc18>,\n",
       "  <matplotlib.axis.XTick at 0x1a24852898>,\n",
       "  <matplotlib.axis.XTick at 0x1a24852d68>],\n",
       " <a list of 5 Text xticklabel objects>)"
      ]
     },
     "execution_count": 99,
     "metadata": {},
     "output_type": "execute_result"
    },
    {
     "data": {
      "image/png": "[encoded data removed]",
      "text/plain": [
       "<Figure size 432x288 with 1 Axes>"
      ]
     },
     "metadata": {
      "needs_background": "light"
     },
     "output_type": "display_data"
    }
   ],
   "source": [
    "x_axis = np.arange(len(responses_df2_groupby.index))\n",
    "Youtube_plot=plt.plot(x_label,[v[0] for v in responses_df2_groupby[[\"Youtube\"]].to_numpy().tolist()])\n",
    "tick_locations = [value for value in x_axis]\n",
    "plt.xticks(tick_locations, [j for j in responses_df2_groupby.index])\n"
   ]
  },
  {
   "cell_type": "code",
   "execution_count": 100,
   "metadata": {},
   "outputs": [
    {
     "data": {
      "text/plain": [
       "([<matplotlib.axis.XTick at 0x1a249b12b0>,\n",
       "  <matplotlib.axis.XTick at 0x1a249a7c88>,\n",
       "  <matplotlib.axis.XTick at 0x1a249a7358>,\n",
       "  <matplotlib.axis.XTick at 0x1a249da630>,\n",
       "  <matplotlib.axis.XTick at 0x1a249dab00>],\n",
       " <a list of 5 Text xticklabel objects>)"
      ]
     },
     "execution_count": 100,
     "metadata": {},
     "output_type": "execute_result"
    },
    {
     "data": {
      "image/png": "[encoded data removed]",
      "text/plain": [
       "<Figure size 432x288 with 1 Axes>"
      ]
     },
     "metadata": {
      "needs_background": "light"
     },
     "output_type": "display_data"
    }
   ],
   "source": [
    "x_axis = np.arange(len(responses_df2_groupby.index))\n",
    "Youtube_plot=plt.plot(x_label,[v[0] for v in responses_df2_groupby[[\"Instagram\"]].to_numpy().tolist()])\n",
    "tick_locations = [value for value in x_axis]\n",
    "plt.xticks(tick_locations, [j for j in responses_df2_groupby.index])\n"
   ]
  },
  {
   "cell_type": "code",
   "execution_count": 101,
   "metadata": {},
   "outputs": [
    {
     "data": {
      "text/plain": [
       "([<matplotlib.axis.XTick at 0x1a2494eb38>,\n",
       "  <matplotlib.axis.XTick at 0x1a2494e1d0>,\n",
       "  <matplotlib.axis.XTick at 0x1a2494e358>,\n",
       "  <matplotlib.axis.XTick at 0x1a24a5ceb8>,\n",
       "  <matplotlib.axis.XTick at 0x1a24a683c8>],\n",
       " <a list of 5 Text xticklabel objects>)"
      ]
     },
     "execution_count": 101,
     "metadata": {},
     "output_type": "execute_result"
    },
    {
     "data": {
      "image/png": "[encoded data removed]",
      "text/plain": [
       "<Figure size 432x288 with 1 Axes>"
      ]
     },
     "metadata": {
      "needs_background": "light"
     },
     "output_type": "display_data"
    }
   ],
   "source": [
    "x_axis = np.arange(len(responses_df2_groupby.index))\n",
    "Youtube_plot=plt.plot(x_label,[v[0] for v in responses_df2_groupby[[\"Twitter\"]].to_numpy().tolist()])\n",
    "tick_locations = [value for value in x_axis]\n",
    "plt.xticks(tick_locations, [j for j in responses_df2_groupby.index])\n"
   ]
  },
  {
   "cell_type": "code",
   "execution_count": 102,
   "metadata": {},
   "outputs": [
    {
     "data": {
      "text/plain": [
       "([<matplotlib.axis.XTick at 0x1a24bc3860>,\n",
       "  <matplotlib.axis.XTick at 0x1a24bc30b8>,\n",
       "  <matplotlib.axis.XTick at 0x1a249a26a0>,\n",
       "  <matplotlib.axis.XTick at 0x1a24be2c50>,\n",
       "  <matplotlib.axis.XTick at 0x1a24bee198>],\n",
       " <a list of 5 Text xticklabel objects>)"
      ]
     },
     "execution_count": 102,
     "metadata": {},
     "output_type": "execute_result"
    },
    {
     "data": {
      "image/png": "[encoded data removed]",
      "text/plain": [
       "<Figure size 432x288 with 1 Axes>"
      ]
     },
     "metadata": {
      "needs_background": "light"
     },
     "output_type": "display_data"
    }
   ],
   "source": [
    "x_axis = np.arange(len(responses_df2_groupby.index))\n",
    "Youtube_plot=plt.plot(x_label,[v[0] for v in responses_df2_groupby[[\"Snapchat\"]].to_numpy().tolist()])\n",
    "tick_locations = [value for value in x_axis]\n",
    "plt.xticks(tick_locations, [j for j in responses_df2_groupby.index])\n"
   ]
  },
  {
   "cell_type": "code",
   "execution_count": 103,
   "metadata": {},
   "outputs": [
    {
     "data": {
      "text/plain": [
       "([<matplotlib.axis.XTick at 0x1a24b686a0>,\n",
       "  <matplotlib.axis.XTick at 0x1a24b5b7b8>,\n",
       "  <matplotlib.axis.XTick at 0x1a24b5b240>,\n",
       "  <matplotlib.axis.XTick at 0x1a24c749b0>,\n",
       "  <matplotlib.axis.XTick at 0x1a24c74e80>],\n",
       " <a list of 5 Text xticklabel objects>)"
      ]
     },
     "execution_count": 103,
     "metadata": {},
     "output_type": "execute_result"
    },
    {
     "data": {
      "image/png": "[encoded data removed]",
      "text/plain": [
       "<Figure size 432x288 with 1 Axes>"
      ]
     },
     "metadata": {
      "needs_background": "light"
     },
     "output_type": "display_data"
    }
   ],
   "source": [
    "x_axis = np.arange(len(responses_df2_groupby.index))\n",
    "Youtube_plot=plt.plot(x_label,[v[0] for v in responses_df2_groupby[[\"Hike\"]].to_numpy().tolist()])\n",
    "tick_locations = [value for value in x_axis]\n",
    "plt.xticks(tick_locations, [j for j in responses_df2_groupby.index])"
   ]
  },
  {
   "cell_type": "code",
   "execution_count": 104,
   "metadata": {},
   "outputs": [
    {
     "data": {
      "text/plain": [
       "([<matplotlib.axis.XTick at 0x1a24dda780>,\n",
       "  <matplotlib.axis.XTick at 0x1a24dda080>,\n",
       "  <matplotlib.axis.XTick at 0x1a24c9f4e0>,\n",
       "  <matplotlib.axis.XTick at 0x1a24df8ac8>,\n",
       "  <matplotlib.axis.XTick at 0x1a24df8e80>],\n",
       " <a list of 5 Text xticklabel objects>)"
      ]
     },
     "execution_count": 104,
     "metadata": {},
     "output_type": "execute_result"
    },
    {
     "data": {
      "image/png": "[encoded data removed]",
      "text/plain": [
       "<Figure size 432x288 with 1 Axes>"
      ]
     },
     "metadata": {
      "needs_background": "light"
     },
     "output_type": "display_data"
    }
   ],
   "source": [
    "x_axis = np.arange(len(responses_df2_groupby.index))\n",
    "Youtube_plot=plt.plot(x_label,[v[0] for v in responses_df2_groupby[[\"Tinder\"]].to_numpy().tolist()])\n",
    "tick_locations = [value for value in x_axis]\n",
    "plt.xticks(tick_locations, [j for j in responses_df2_groupby.index])"
   ]
  },
  {
   "cell_type": "code",
   "execution_count": 106,
   "metadata": {},
   "outputs": [
    {
     "data": {
      "text/plain": [
       "array(['through phone', 'Text message', 'face to face',\n",
       "       'face to face, Text message',\n",
       "       'face to face, through phone, through social media',\n",
       "       'face to face, through phone',\n",
       "       'face to face, through phone, Text message',\n",
       "       'face to face, through phone, Text message, through social media',\n",
       "       'face to face, through social media', 'through social media',\n",
       "       'Text message, through social media',\n",
       "       'through phone, through social media'], dtype=object)"
      ]
     },
     "execution_count": 106,
     "metadata": {},
     "output_type": "execute_result"
    }
   ],
   "source": [
    "responses_df[\"Which type of communication do you generally prefer?\"].unique()"
   ]
  },
  {
   "cell_type": "code",
   "execution_count": 109,
   "metadata": {},
   "outputs": [
    {
     "name": "stderr",
     "output_type": "stream",
     "text": [
      "/opt/anaconda3/envs/PythonData/lib/python3.6/site-packages/ipykernel_launcher.py:2: SettingWithCopyWarning: \n",
      "A value is trying to be set on a copy of a slice from a DataFrame.\n",
      "Try using .loc[row_indexer,col_indexer] = value instead\n",
      "\n",
      "See the caveats in the documentation: https://pandas.pydata.org/pandas-docs/stable/user_guide/indexing.html#returning-a-view-versus-a-copy\n",
      "  \n",
      "/opt/anaconda3/envs/PythonData/lib/python3.6/site-packages/ipykernel_launcher.py:3: SettingWithCopyWarning: \n",
      "A value is trying to be set on a copy of a slice from a DataFrame.\n",
      "Try using .loc[row_indexer,col_indexer] = value instead\n",
      "\n",
      "See the caveats in the documentation: https://pandas.pydata.org/pandas-docs/stable/user_guide/indexing.html#returning-a-view-versus-a-copy\n",
      "  This is separate from the ipykernel package so we can avoid doing imports until\n",
      "/opt/anaconda3/envs/PythonData/lib/python3.6/site-packages/ipykernel_launcher.py:4: SettingWithCopyWarning: \n",
      "A value is trying to be set on a copy of a slice from a DataFrame.\n",
      "Try using .loc[row_indexer,col_indexer] = value instead\n",
      "\n",
      "See the caveats in the documentation: https://pandas.pydata.org/pandas-docs/stable/user_guide/indexing.html#returning-a-view-versus-a-copy\n",
      "  after removing the cwd from sys.path.\n",
      "/opt/anaconda3/envs/PythonData/lib/python3.6/site-packages/ipykernel_launcher.py:5: SettingWithCopyWarning: \n",
      "A value is trying to be set on a copy of a slice from a DataFrame.\n",
      "Try using .loc[row_indexer,col_indexer] = value instead\n",
      "\n",
      "See the caveats in the documentation: https://pandas.pydata.org/pandas-docs/stable/user_guide/indexing.html#returning-a-view-versus-a-copy\n",
      "  \"\"\"\n"
     ]
    },
    {
     "data": {
      "text/html": [
       "<div>\n",
       "<style scoped>\n",
       "    .dataframe tbody tr th:only-of-type {\n",
       "        vertical-align: middle;\n",
       "    }\n",
       "\n",
       "    .dataframe tbody tr th {\n",
       "        vertical-align: top;\n",
       "    }\n",
       "\n",
       "    .dataframe thead th {\n",
       "        text-align: right;\n",
       "    }\n",
       "</style>\n",
       "<table border=\"1\" class=\"dataframe\">\n",
       "  <thead>\n",
       "    <tr style=\"text-align: right;\">\n",
       "      <th></th>\n",
       "      <th>Which type of communication do you generally prefer?</th>\n",
       "      <th>How much time do you spend on social media in a day?</th>\n",
       "      <th>through phone</th>\n",
       "      <th>Text message</th>\n",
       "      <th>face to face</th>\n",
       "      <th>through social media</th>\n",
       "    </tr>\n",
       "  </thead>\n",
       "  <tbody>\n",
       "    <tr>\n",
       "      <th>0</th>\n",
       "      <td>through phone</td>\n",
       "      <td>upto 4 hrs</td>\n",
       "      <td>1</td>\n",
       "      <td>0</td>\n",
       "      <td>0</td>\n",
       "      <td>0</td>\n",
       "    </tr>\n",
       "    <tr>\n",
       "      <th>1</th>\n",
       "      <td>Text message</td>\n",
       "      <td>more than 4 hrs</td>\n",
       "      <td>0</td>\n",
       "      <td>1</td>\n",
       "      <td>0</td>\n",
       "      <td>0</td>\n",
       "    </tr>\n",
       "    <tr>\n",
       "      <th>2</th>\n",
       "      <td>through phone</td>\n",
       "      <td>upto 4 hrs</td>\n",
       "      <td>1</td>\n",
       "      <td>0</td>\n",
       "      <td>0</td>\n",
       "      <td>0</td>\n",
       "    </tr>\n",
       "    <tr>\n",
       "      <th>3</th>\n",
       "      <td>face to face</td>\n",
       "      <td>1 - 2.5 hrs</td>\n",
       "      <td>0</td>\n",
       "      <td>0</td>\n",
       "      <td>1</td>\n",
       "      <td>0</td>\n",
       "    </tr>\n",
       "    <tr>\n",
       "      <th>4</th>\n",
       "      <td>Text message</td>\n",
       "      <td>upto 4 hrs</td>\n",
       "      <td>0</td>\n",
       "      <td>1</td>\n",
       "      <td>0</td>\n",
       "      <td>0</td>\n",
       "    </tr>\n",
       "    <tr>\n",
       "      <th>5</th>\n",
       "      <td>face to face, Text message</td>\n",
       "      <td>upto 4 hrs</td>\n",
       "      <td>0</td>\n",
       "      <td>1</td>\n",
       "      <td>1</td>\n",
       "      <td>0</td>\n",
       "    </tr>\n",
       "    <tr>\n",
       "      <th>6</th>\n",
       "      <td>face to face</td>\n",
       "      <td>1 - 2.5 hrs</td>\n",
       "      <td>0</td>\n",
       "      <td>0</td>\n",
       "      <td>1</td>\n",
       "      <td>0</td>\n",
       "    </tr>\n",
       "    <tr>\n",
       "      <th>7</th>\n",
       "      <td>through phone</td>\n",
       "      <td>more than 4 hrs</td>\n",
       "      <td>1</td>\n",
       "      <td>0</td>\n",
       "      <td>0</td>\n",
       "      <td>0</td>\n",
       "    </tr>\n",
       "    <tr>\n",
       "      <th>8</th>\n",
       "      <td>through phone</td>\n",
       "      <td>upto 4 hrs</td>\n",
       "      <td>1</td>\n",
       "      <td>0</td>\n",
       "      <td>0</td>\n",
       "      <td>0</td>\n",
       "    </tr>\n",
       "    <tr>\n",
       "      <th>9</th>\n",
       "      <td>face to face</td>\n",
       "      <td>1 - 2.5 hrs</td>\n",
       "      <td>0</td>\n",
       "      <td>0</td>\n",
       "      <td>1</td>\n",
       "      <td>0</td>\n",
       "    </tr>\n",
       "  </tbody>\n",
       "</table>\n",
       "</div>"
      ],
      "text/plain": [
       "  Which type of communication do you generally prefer?  \\\n",
       "0                                      through phone     \n",
       "1                                       Text message     \n",
       "2                                      through phone     \n",
       "3                                       face to face     \n",
       "4                                       Text message     \n",
       "5                         face to face, Text message     \n",
       "6                                       face to face     \n",
       "7                                      through phone     \n",
       "8                                      through phone     \n",
       "9                                       face to face     \n",
       "\n",
       "  How much time do you spend on social media in a day? through phone  \\\n",
       "0                                         upto 4 hrs               1   \n",
       "1                                    more than 4 hrs               0   \n",
       "2                                         upto 4 hrs               1   \n",
       "3                                        1 - 2.5 hrs               0   \n",
       "4                                         upto 4 hrs               0   \n",
       "5                                         upto 4 hrs               0   \n",
       "6                                        1 - 2.5 hrs               0   \n",
       "7                                    more than 4 hrs               1   \n",
       "8                                         upto 4 hrs               1   \n",
       "9                                        1 - 2.5 hrs               0   \n",
       "\n",
       "  Text message face to face through social media  \n",
       "0            0            0                    0  \n",
       "1            1            0                    0  \n",
       "2            0            0                    0  \n",
       "3            0            1                    0  \n",
       "4            1            0                    0  \n",
       "5            1            1                    0  \n",
       "6            0            1                    0  \n",
       "7            0            0                    0  \n",
       "8            0            0                    0  \n",
       "9            0            1                    0  "
      ]
     },
     "execution_count": 109,
     "metadata": {},
     "output_type": "execute_result"
    }
   ],
   "source": [
    "responses_df3=responses_df[[\"Which type of communication do you generally prefer?\",\"How much time do you spend on social media in a day?\"]]\n",
    "responses_df3[\"through phone\"]=\"\"\n",
    "responses_df3[\"Text message\"]=\"\"\n",
    "responses_df3[\"face to face\"]=\"\"\n",
    "responses_df3[\"through social media\"]=\"\"\n",
    "responses_df3.head(7)\n",
    "\n",
    "for index , row in responses_df3.iterrows():\n",
    "    if \"through phone\" in row['Which type of communication do you generally prefer?']:\n",
    "        row[\"through phone\"]=1\n",
    "    else:\n",
    "        row[\"through phone\"]=0\n",
    "    if \"Text message\" in row['Which type of communication do you generally prefer?']:\n",
    "        row[\"Text message\"]=1\n",
    "    else:\n",
    "        row[\"Text message\"]=0\n",
    "    if \"face to face\" in row['Which type of communication do you generally prefer?']:\n",
    "        row[\"face to face\"]=1\n",
    "    else:\n",
    "        row[\"face to face\"]=0\n",
    "    if \"through social media\" in row['Which type of communication do you generally prefer?']:\n",
    "        row[\"through social media\"]=1\n",
    "    else:\n",
    "        row[\"through social media\"]=0   \n",
    "    \n",
    "responses_df3.head(10)\n",
    "    "
   ]
  },
  {
   "cell_type": "code",
   "execution_count": 112,
   "metadata": {},
   "outputs": [
    {
     "name": "stdout",
     "output_type": "stream",
     "text": [
      "Index(['1 - 2.5 hrs', 'less than 1 hr', 'more than 4 hrs', 'none',\n",
      "       'upto 4 hrs'],\n",
      "      dtype='object', name='How much time do you spend on social media in a day?')\n"
     ]
    },
    {
     "data": {
      "text/html": [
       "<div>\n",
       "<style scoped>\n",
       "    .dataframe tbody tr th:only-of-type {\n",
       "        vertical-align: middle;\n",
       "    }\n",
       "\n",
       "    .dataframe tbody tr th {\n",
       "        vertical-align: top;\n",
       "    }\n",
       "\n",
       "    .dataframe thead th {\n",
       "        text-align: right;\n",
       "    }\n",
       "</style>\n",
       "<table border=\"1\" class=\"dataframe\">\n",
       "  <thead>\n",
       "    <tr style=\"text-align: right;\">\n",
       "      <th></th>\n",
       "      <th>through phone</th>\n",
       "      <th>Text message</th>\n",
       "      <th>face to face</th>\n",
       "      <th>through social media</th>\n",
       "    </tr>\n",
       "    <tr>\n",
       "      <th>How much time do you spend on social media in a day?</th>\n",
       "      <th></th>\n",
       "      <th></th>\n",
       "      <th></th>\n",
       "      <th></th>\n",
       "    </tr>\n",
       "  </thead>\n",
       "  <tbody>\n",
       "    <tr>\n",
       "      <th>none</th>\n",
       "      <td>0</td>\n",
       "      <td>0</td>\n",
       "      <td>1</td>\n",
       "      <td>0</td>\n",
       "    </tr>\n",
       "    <tr>\n",
       "      <th>less than 1 hr</th>\n",
       "      <td>8</td>\n",
       "      <td>10</td>\n",
       "      <td>38</td>\n",
       "      <td>2</td>\n",
       "    </tr>\n",
       "    <tr>\n",
       "      <th>1 - 2.5 hrs</th>\n",
       "      <td>29</td>\n",
       "      <td>31</td>\n",
       "      <td>89</td>\n",
       "      <td>14</td>\n",
       "    </tr>\n",
       "    <tr>\n",
       "      <th>upto 4 hrs</th>\n",
       "      <td>24</td>\n",
       "      <td>14</td>\n",
       "      <td>50</td>\n",
       "      <td>21</td>\n",
       "    </tr>\n",
       "    <tr>\n",
       "      <th>more than 4 hrs</th>\n",
       "      <td>16</td>\n",
       "      <td>16</td>\n",
       "      <td>30</td>\n",
       "      <td>19</td>\n",
       "    </tr>\n",
       "  </tbody>\n",
       "</table>\n",
       "</div>"
      ],
      "text/plain": [
       "                                                    through phone  \\\n",
       "How much time do you spend on social media in a...                  \n",
       "none                                                            0   \n",
       "less than 1 hr                                                  8   \n",
       "1 - 2.5 hrs                                                    29   \n",
       "upto 4 hrs                                                     24   \n",
       "more than 4 hrs                                                16   \n",
       "\n",
       "                                                    Text message  \\\n",
       "How much time do you spend on social media in a...                 \n",
       "none                                                           0   \n",
       "less than 1 hr                                                10   \n",
       "1 - 2.5 hrs                                                   31   \n",
       "upto 4 hrs                                                    14   \n",
       "more than 4 hrs                                               16   \n",
       "\n",
       "                                                    face to face  \\\n",
       "How much time do you spend on social media in a...                 \n",
       "none                                                           1   \n",
       "less than 1 hr                                                38   \n",
       "1 - 2.5 hrs                                                   89   \n",
       "upto 4 hrs                                                    50   \n",
       "more than 4 hrs                                               30   \n",
       "\n",
       "                                                    through social media  \n",
       "How much time do you spend on social media in a...                        \n",
       "none                                                                   0  \n",
       "less than 1 hr                                                         2  \n",
       "1 - 2.5 hrs                                                           14  \n",
       "upto 4 hrs                                                            21  \n",
       "more than 4 hrs                                                       19  "
      ]
     },
     "execution_count": 112,
     "metadata": {},
     "output_type": "execute_result"
    }
   ],
   "source": [
    "responses_df4=responses_df3[[\"How much time do you spend on social media in a day?\",\"through phone\",\"Text message\",\"face to face\",\"through social media\"]]\n",
    "responses_df4_g=responses_df4.groupby(\"How much time do you spend on social media in a day?\")\n",
    "responses_df4_groupby=responses_df4_g.sum()\n",
    "print(responses_df4_groupby.index)\n",
    "responses_df4_groupby=responses_df4_groupby.reindex([\"none\", \"less than 1 hr\", \"1 - 2.5 hrs\",\"upto 4 hrs\",\"more than 4 hrs\"])\n",
    "responses_df4_groupby"
   ]
  },
  {
   "cell_type": "code",
   "execution_count": 117,
   "metadata": {},
   "outputs": [
    {
     "data": {
      "text/plain": [
       "([<matplotlib.axis.XTick at 0x1a25029c50>,\n",
       "  <matplotlib.axis.XTick at 0x1a250292b0>,\n",
       "  <matplotlib.axis.XTick at 0x1a25029748>,\n",
       "  <matplotlib.axis.XTick at 0x1a25050f60>,\n",
       "  <matplotlib.axis.XTick at 0x1a2505b470>],\n",
       " <a list of 5 Text xticklabel objects>)"
      ]
     },
     "execution_count": 117,
     "metadata": {},
     "output_type": "execute_result"
    },
    {
     "data": {
      "image/png": "[encoded data removed]",
      "text/plain": [
       "<Figure size 432x288 with 1 Axes>"
      ]
     },
     "metadata": {
      "needs_background": "light"
     },
     "output_type": "display_data"
    }
   ],
   "source": [
    "x_axis = np.arange(len(responses_df4_groupby.index))\n",
    "Youtube_plot=plt.plot(x_axis,[v[0] for v in responses_df4_groupby[[\"through phone\"]].to_numpy().tolist()])\n",
    "tick_locations = [value for value in x_axis]\n",
    "plt.xticks(tick_locations, [j for j in responses_df4_groupby.index])\n"
   ]
  },
  {
   "cell_type": "code",
   "execution_count": 118,
   "metadata": {},
   "outputs": [
    {
     "data": {
      "text/plain": [
       "([<matplotlib.axis.XTick at 0x1a24fcf438>,\n",
       "  <matplotlib.axis.XTick at 0x1a24fcacf8>,\n",
       "  <matplotlib.axis.XTick at 0x1a24fca9e8>,\n",
       "  <matplotlib.axis.XTick at 0x1a250dc7b8>,\n",
       "  <matplotlib.axis.XTick at 0x1a250dcc88>],\n",
       " <a list of 5 Text xticklabel objects>)"
      ]
     },
     "execution_count": 118,
     "metadata": {},
     "output_type": "execute_result"
    },
    {
     "data": {
      "image/png": "[encoded data removed]",
      "text/plain": [
       "<Figure size 432x288 with 1 Axes>"
      ]
     },
     "metadata": {
      "needs_background": "light"
     },
     "output_type": "display_data"
    }
   ],
   "source": [
    "x_axis = np.arange(len(responses_df4_groupby.index))\n",
    "Youtube_plot=plt.plot(x_axis,[v[0] for v in responses_df4_groupby[[\"Text message\"]].to_numpy().tolist()])\n",
    "tick_locations = [value for value in x_axis]\n",
    "plt.xticks(tick_locations, [j for j in responses_df4_groupby.index])"
   ]
  },
  {
   "cell_type": "code",
   "execution_count": 119,
   "metadata": {},
   "outputs": [
    {
     "data": {
      "text/plain": [
       "([<matplotlib.axis.XTick at 0x1a2510bc88>,\n",
       "  <matplotlib.axis.XTick at 0x1a2510b588>,\n",
       "  <matplotlib.axis.XTick at 0x1a2510b2b0>,\n",
       "  <matplotlib.axis.XTick at 0x1a251d5c18>,\n",
       "  <matplotlib.axis.XTick at 0x1a251e14e0>],\n",
       " <a list of 5 Text xticklabel objects>)"
      ]
     },
     "execution_count": 119,
     "metadata": {},
     "output_type": "execute_result"
    },
    {
     "data": {
      "image/png": "[encoded data removed]",
      "text/plain": [
       "<Figure size 432x288 with 1 Axes>"
      ]
     },
     "metadata": {
      "needs_background": "light"
     },
     "output_type": "display_data"
    }
   ],
   "source": [
    "x_axis = np.arange(len(responses_df4_groupby.index))\n",
    "Youtube_plot=plt.plot(x_axis,[v[0] for v in responses_df4_groupby[[\"face to face\"]].to_numpy().tolist()])\n",
    "tick_locations = [value for value in x_axis]\n",
    "plt.xticks(tick_locations, [j for j in responses_df4_groupby.index])"
   ]
  },
  {
   "cell_type": "code",
   "execution_count": 120,
   "metadata": {},
   "outputs": [
    {
     "data": {
      "text/plain": [
       "([<matplotlib.axis.XTick at 0x1a2532c9e8>,\n",
       "  <matplotlib.axis.XTick at 0x1a2532c358>,\n",
       "  <matplotlib.axis.XTick at 0x1a2532c208>,\n",
       "  <matplotlib.axis.XTick at 0x1a2534dd68>,\n",
       "  <matplotlib.axis.XTick at 0x1a25359278>],\n",
       " <a list of 5 Text xticklabel objects>)"
      ]
     },
     "execution_count": 120,
     "metadata": {},
     "output_type": "execute_result"
    },
    {
     "data": {
      "image/png": "[encoded data removed]",
      "text/plain": [
       "<Figure size 432x288 with 1 Axes>"
      ]
     },
     "metadata": {
      "needs_background": "light"
     },
     "output_type": "display_data"
    }
   ],
   "source": [
    "x_axis = np.arange(len(responses_df4_groupby.index))\n",
    "Youtube_plot=plt.plot(x_axis,[v[0] for v in responses_df4_groupby[[\"through social media\"]].to_numpy().tolist()])\n",
    "tick_locations = [value for value in x_axis]\n",
    "plt.xticks(tick_locations, [j for j in responses_df4_groupby.index])"
   ]
  },
  {
   "cell_type": "code",
   "execution_count": 121,
   "metadata": {},
   "outputs": [
    {
     "data": {
      "text/html": [
       "<div>\n",
       "<style scoped>\n",
       "    .dataframe tbody tr th:only-of-type {\n",
       "        vertical-align: middle;\n",
       "    }\n",
       "\n",
       "    .dataframe tbody tr th {\n",
       "        vertical-align: top;\n",
       "    }\n",
       "\n",
       "    .dataframe thead th {\n",
       "        text-align: right;\n",
       "    }\n",
       "</style>\n",
       "<table border=\"1\" class=\"dataframe\">\n",
       "  <thead>\n",
       "    <tr style=\"text-align: right;\">\n",
       "      <th></th>\n",
       "      <th>What is your age?</th>\n",
       "      <th>Which social media platform/s do you like the most or use the most?</th>\n",
       "      <th>How much time do you spend on social media in a day?</th>\n",
       "      <th>How much time do you spend on physical activities in a day?</th>\n",
       "      <th>How much do you feel that you are exposed to inappropriate content on these platforms (out of 10)?</th>\n",
       "      <th>Have you ever been a victim of any of these cyber crimes?</th>\n",
       "      <th>Which type of communication do you generally prefer?</th>\n",
       "    </tr>\n",
       "  </thead>\n",
       "  <tbody>\n",
       "    <tr>\n",
       "      <th>0</th>\n",
       "      <td>19</td>\n",
       "      <td>Whatsapp, Facebook, Instagram</td>\n",
       "      <td>upto 4 hrs</td>\n",
       "      <td>less than 1 hr</td>\n",
       "      <td>3</td>\n",
       "      <td>Fake profiles</td>\n",
       "      <td>through phone</td>\n",
       "    </tr>\n",
       "    <tr>\n",
       "      <th>1</th>\n",
       "      <td>19</td>\n",
       "      <td>Whatsapp, Facebook, Youtube, Instagram</td>\n",
       "      <td>more than 4 hrs</td>\n",
       "      <td>less than 1 hr</td>\n",
       "      <td>5</td>\n",
       "      <td>Photos being misused</td>\n",
       "      <td>Text message</td>\n",
       "    </tr>\n",
       "    <tr>\n",
       "      <th>2</th>\n",
       "      <td>19</td>\n",
       "      <td>Whatsapp, Facebook, Instagram</td>\n",
       "      <td>upto 4 hrs</td>\n",
       "      <td>less than 1 hr</td>\n",
       "      <td>5</td>\n",
       "      <td>Hacking</td>\n",
       "      <td>through phone</td>\n",
       "    </tr>\n",
       "    <tr>\n",
       "      <th>3</th>\n",
       "      <td>19</td>\n",
       "      <td>Whatsapp, Facebook, Youtube, Twitter</td>\n",
       "      <td>1 - 2.5 hrs</td>\n",
       "      <td>less than 1 hr</td>\n",
       "      <td>2</td>\n",
       "      <td>None of the above</td>\n",
       "      <td>face to face</td>\n",
       "    </tr>\n",
       "    <tr>\n",
       "      <th>4</th>\n",
       "      <td>18</td>\n",
       "      <td>Youtube, Instagram</td>\n",
       "      <td>upto 4 hrs</td>\n",
       "      <td>1 - 2.5 hrs</td>\n",
       "      <td>3</td>\n",
       "      <td>None of the above</td>\n",
       "      <td>Text message</td>\n",
       "    </tr>\n",
       "    <tr>\n",
       "      <th>...</th>\n",
       "      <td>...</td>\n",
       "      <td>...</td>\n",
       "      <td>...</td>\n",
       "      <td>...</td>\n",
       "      <td>...</td>\n",
       "      <td>...</td>\n",
       "      <td>...</td>\n",
       "    </tr>\n",
       "    <tr>\n",
       "      <th>286</th>\n",
       "      <td>19</td>\n",
       "      <td>Whatsapp, Facebook, Youtube, Instagram, Hike</td>\n",
       "      <td>1 - 2.5 hrs</td>\n",
       "      <td>none</td>\n",
       "      <td>5</td>\n",
       "      <td>None of the above</td>\n",
       "      <td>face to face, through social media</td>\n",
       "    </tr>\n",
       "    <tr>\n",
       "      <th>287</th>\n",
       "      <td>18</td>\n",
       "      <td>Instagram</td>\n",
       "      <td>upto 4 hrs</td>\n",
       "      <td>1 - 2.5 hrs</td>\n",
       "      <td>10</td>\n",
       "      <td>None of the above</td>\n",
       "      <td>through phone, through social media</td>\n",
       "    </tr>\n",
       "    <tr>\n",
       "      <th>288</th>\n",
       "      <td>18</td>\n",
       "      <td>Whatsapp</td>\n",
       "      <td>1 - 2.5 hrs</td>\n",
       "      <td>1 - 2.5 hrs</td>\n",
       "      <td>4</td>\n",
       "      <td>Hacking</td>\n",
       "      <td>through social media</td>\n",
       "    </tr>\n",
       "    <tr>\n",
       "      <th>289</th>\n",
       "      <td>19</td>\n",
       "      <td>Whatsapp, Youtube, Twitter</td>\n",
       "      <td>more than 4 hrs</td>\n",
       "      <td>less than 1 hr</td>\n",
       "      <td>3</td>\n",
       "      <td>None of the above</td>\n",
       "      <td>through social media</td>\n",
       "    </tr>\n",
       "    <tr>\n",
       "      <th>290</th>\n",
       "      <td>18</td>\n",
       "      <td>Whatsapp, Youtube, Twitter</td>\n",
       "      <td>1 - 2.5 hrs</td>\n",
       "      <td>less than 1 hr</td>\n",
       "      <td>5</td>\n",
       "      <td>None of the above</td>\n",
       "      <td>face to face, through phone, Text message</td>\n",
       "    </tr>\n",
       "  </tbody>\n",
       "</table>\n",
       "<p>291 rows × 7 columns</p>\n",
       "</div>"
      ],
      "text/plain": [
       "     What is your age?  \\\n",
       "0                   19   \n",
       "1                   19   \n",
       "2                   19   \n",
       "3                   19   \n",
       "4                   18   \n",
       "..                 ...   \n",
       "286                 19   \n",
       "287                 18   \n",
       "288                 18   \n",
       "289                 19   \n",
       "290                 18   \n",
       "\n",
       "    Which social media platform/s do you like the most or use the most?  \\\n",
       "0                        Whatsapp, Facebook, Instagram                    \n",
       "1               Whatsapp, Facebook, Youtube, Instagram                    \n",
       "2                        Whatsapp, Facebook, Instagram                    \n",
       "3                 Whatsapp, Facebook, Youtube, Twitter                    \n",
       "4                                   Youtube, Instagram                    \n",
       "..                                                 ...                    \n",
       "286       Whatsapp, Facebook, Youtube, Instagram, Hike                    \n",
       "287                                          Instagram                    \n",
       "288                                           Whatsapp                    \n",
       "289                         Whatsapp, Youtube, Twitter                    \n",
       "290                         Whatsapp, Youtube, Twitter                    \n",
       "\n",
       "    How much time do you spend on social media in a day?  \\\n",
       "0                                           upto 4 hrs     \n",
       "1                                      more than 4 hrs     \n",
       "2                                           upto 4 hrs     \n",
       "3                                          1 - 2.5 hrs     \n",
       "4                                           upto 4 hrs     \n",
       "..                                                 ...     \n",
       "286                                        1 - 2.5 hrs     \n",
       "287                                         upto 4 hrs     \n",
       "288                                        1 - 2.5 hrs     \n",
       "289                                    more than 4 hrs     \n",
       "290                                        1 - 2.5 hrs     \n",
       "\n",
       "    How much time do you spend on physical activities in a day?  \\\n",
       "0                                       less than 1 hr            \n",
       "1                                       less than 1 hr            \n",
       "2                                       less than 1 hr            \n",
       "3                                       less than 1 hr            \n",
       "4                                          1 - 2.5 hrs            \n",
       "..                                                 ...            \n",
       "286                                               none            \n",
       "287                                        1 - 2.5 hrs            \n",
       "288                                        1 - 2.5 hrs            \n",
       "289                                     less than 1 hr            \n",
       "290                                     less than 1 hr            \n",
       "\n",
       "     How much do you feel that you are exposed to inappropriate content on these platforms (out of 10)?  \\\n",
       "0                                                    3                                                    \n",
       "1                                                    5                                                    \n",
       "2                                                    5                                                    \n",
       "3                                                    2                                                    \n",
       "4                                                    3                                                    \n",
       "..                                                 ...                                                    \n",
       "286                                                  5                                                    \n",
       "287                                                 10                                                    \n",
       "288                                                  4                                                    \n",
       "289                                                  3                                                    \n",
       "290                                                  5                                                    \n",
       "\n",
       "    Have you ever been a victim of any of these cyber crimes?  \\\n",
       "0                                        Fake profiles          \n",
       "1                                 Photos being misused          \n",
       "2                                              Hacking          \n",
       "3                                    None of the above          \n",
       "4                                    None of the above          \n",
       "..                                                 ...          \n",
       "286                                  None of the above          \n",
       "287                                  None of the above          \n",
       "288                                            Hacking          \n",
       "289                                  None of the above          \n",
       "290                                  None of the above          \n",
       "\n",
       "    Which type of communication do you generally prefer?  \n",
       "0                                        through phone    \n",
       "1                                         Text message    \n",
       "2                                        through phone    \n",
       "3                                         face to face    \n",
       "4                                         Text message    \n",
       "..                                                 ...    \n",
       "286                 face to face, through social media    \n",
       "287                through phone, through social media    \n",
       "288                               through social media    \n",
       "289                               through social media    \n",
       "290          face to face, through phone, Text message    \n",
       "\n",
       "[291 rows x 7 columns]"
      ]
     },
     "execution_count": 121,
     "metadata": {},
     "output_type": "execute_result"
    }
   ],
   "source": [
    "responses_df"
   ]
  },
  {
   "cell_type": "code",
   "execution_count": 124,
   "metadata": {},
   "outputs": [
    {
     "name": "stderr",
     "output_type": "stream",
     "text": [
      "/opt/anaconda3/envs/PythonData/lib/python3.6/site-packages/ipykernel_launcher.py:2: SettingWithCopyWarning: \n",
      "A value is trying to be set on a copy of a slice from a DataFrame.\n",
      "Try using .loc[row_indexer,col_indexer] = value instead\n",
      "\n",
      "See the caveats in the documentation: https://pandas.pydata.org/pandas-docs/stable/user_guide/indexing.html#returning-a-view-versus-a-copy\n",
      "  \n",
      "/opt/anaconda3/envs/PythonData/lib/python3.6/site-packages/ipykernel_launcher.py:3: SettingWithCopyWarning: \n",
      "A value is trying to be set on a copy of a slice from a DataFrame.\n",
      "Try using .loc[row_indexer,col_indexer] = value instead\n",
      "\n",
      "See the caveats in the documentation: https://pandas.pydata.org/pandas-docs/stable/user_guide/indexing.html#returning-a-view-versus-a-copy\n",
      "  This is separate from the ipykernel package so we can avoid doing imports until\n",
      "/opt/anaconda3/envs/PythonData/lib/python3.6/site-packages/ipykernel_launcher.py:4: SettingWithCopyWarning: \n",
      "A value is trying to be set on a copy of a slice from a DataFrame.\n",
      "Try using .loc[row_indexer,col_indexer] = value instead\n",
      "\n",
      "See the caveats in the documentation: https://pandas.pydata.org/pandas-docs/stable/user_guide/indexing.html#returning-a-view-versus-a-copy\n",
      "  after removing the cwd from sys.path.\n",
      "/opt/anaconda3/envs/PythonData/lib/python3.6/site-packages/ipykernel_launcher.py:5: SettingWithCopyWarning: \n",
      "A value is trying to be set on a copy of a slice from a DataFrame.\n",
      "Try using .loc[row_indexer,col_indexer] = value instead\n",
      "\n",
      "See the caveats in the documentation: https://pandas.pydata.org/pandas-docs/stable/user_guide/indexing.html#returning-a-view-versus-a-copy\n",
      "  \"\"\"\n"
     ]
    },
    {
     "data": {
      "text/html": [
       "<div>\n",
       "<style scoped>\n",
       "    .dataframe tbody tr th:only-of-type {\n",
       "        vertical-align: middle;\n",
       "    }\n",
       "\n",
       "    .dataframe tbody tr th {\n",
       "        vertical-align: top;\n",
       "    }\n",
       "\n",
       "    .dataframe thead th {\n",
       "        text-align: right;\n",
       "    }\n",
       "</style>\n",
       "<table border=\"1\" class=\"dataframe\">\n",
       "  <thead>\n",
       "    <tr style=\"text-align: right;\">\n",
       "      <th></th>\n",
       "      <th>Have you ever been a victim of any of these cyber crimes?</th>\n",
       "      <th>How much time do you spend on social media in a day?</th>\n",
       "      <th>Fake profiles</th>\n",
       "      <th>Photos being misused</th>\n",
       "      <th>Hacking</th>\n",
       "      <th>None of the above</th>\n",
       "    </tr>\n",
       "  </thead>\n",
       "  <tbody>\n",
       "    <tr>\n",
       "      <th>0</th>\n",
       "      <td>Fake profiles</td>\n",
       "      <td>upto 4 hrs</td>\n",
       "      <td>1</td>\n",
       "      <td>0</td>\n",
       "      <td>0</td>\n",
       "      <td>0</td>\n",
       "    </tr>\n",
       "    <tr>\n",
       "      <th>1</th>\n",
       "      <td>Photos being misused</td>\n",
       "      <td>more than 4 hrs</td>\n",
       "      <td>0</td>\n",
       "      <td>1</td>\n",
       "      <td>0</td>\n",
       "      <td>0</td>\n",
       "    </tr>\n",
       "    <tr>\n",
       "      <th>2</th>\n",
       "      <td>Hacking</td>\n",
       "      <td>upto 4 hrs</td>\n",
       "      <td>0</td>\n",
       "      <td>0</td>\n",
       "      <td>1</td>\n",
       "      <td>0</td>\n",
       "    </tr>\n",
       "    <tr>\n",
       "      <th>3</th>\n",
       "      <td>None of the above</td>\n",
       "      <td>1 - 2.5 hrs</td>\n",
       "      <td>0</td>\n",
       "      <td>0</td>\n",
       "      <td>0</td>\n",
       "      <td>1</td>\n",
       "    </tr>\n",
       "    <tr>\n",
       "      <th>4</th>\n",
       "      <td>None of the above</td>\n",
       "      <td>upto 4 hrs</td>\n",
       "      <td>0</td>\n",
       "      <td>0</td>\n",
       "      <td>0</td>\n",
       "      <td>1</td>\n",
       "    </tr>\n",
       "  </tbody>\n",
       "</table>\n",
       "</div>"
      ],
      "text/plain": [
       "  Have you ever been a victim of any of these cyber crimes?  \\\n",
       "0                                      Fake profiles          \n",
       "1                               Photos being misused          \n",
       "2                                            Hacking          \n",
       "3                                  None of the above          \n",
       "4                                  None of the above          \n",
       "\n",
       "  How much time do you spend on social media in a day? Fake profiles  \\\n",
       "0                                         upto 4 hrs               1   \n",
       "1                                    more than 4 hrs               0   \n",
       "2                                         upto 4 hrs               0   \n",
       "3                                        1 - 2.5 hrs               0   \n",
       "4                                         upto 4 hrs               0   \n",
       "\n",
       "  Photos being misused Hacking None of the above  \n",
       "0                    0       0                 0  \n",
       "1                    1       0                 0  \n",
       "2                    0       1                 0  \n",
       "3                    0       0                 1  \n",
       "4                    0       0                 1  "
      ]
     },
     "execution_count": 124,
     "metadata": {},
     "output_type": "execute_result"
    }
   ],
   "source": [
    "responses_df5=responses_df[[\"Have you ever been a victim of any of these cyber crimes?\",\"How much time do you spend on social media in a day?\"]]\n",
    "responses_df5[\"Fake profiles\"]=\"\"\n",
    "responses_df5[\"Photos being misused\"]=\"\"\n",
    "responses_df5[\"Hacking\"]=\"\"\n",
    "responses_df5[\"None of the above\"]=\"\"\n",
    "responses_df5.head(7)\n",
    "\n",
    "for index , row in responses_df5.iterrows():\n",
    "    if \"Fake profiles\" in row['Have you ever been a victim of any of these cyber crimes?']:\n",
    "        row[\"Fake profiles\"]=1\n",
    "    else:\n",
    "        row[\"Fake profiles\"]=0\n",
    "    if \"Photos being misused\" in row['Have you ever been a victim of any of these cyber crimes?']:\n",
    "        row[\"Photos being misused\"]=1\n",
    "    else:\n",
    "        row[\"Photos being misused\"]=0\n",
    "    if \"Hacking\" in row['Have you ever been a victim of any of these cyber crimes?']:\n",
    "        row[\"Hacking\"]=1\n",
    "    else:\n",
    "        row[\"Hacking\"]=0\n",
    "    if \"None of the above\" in row['Have you ever been a victim of any of these cyber crimes?']:\n",
    "        row[\"None of the above\"]=1\n",
    "    else:\n",
    "        row[\"None of the above\"]=0   \n",
    "    \n",
    "responses_df5.head()\n",
    "    \n",
    "    "
   ]
  },
  {
   "cell_type": "code",
   "execution_count": 129,
   "metadata": {},
   "outputs": [
    {
     "name": "stdout",
     "output_type": "stream",
     "text": [
      "    How much time do you spend on social media in a day? Fake profiles  \\\n",
      "0                                           upto 4 hrs               1   \n",
      "1                                      more than 4 hrs               0   \n",
      "2                                           upto 4 hrs               0   \n",
      "3                                          1 - 2.5 hrs               0   \n",
      "4                                           upto 4 hrs               0   \n",
      "..                                                 ...             ...   \n",
      "286                                        1 - 2.5 hrs               0   \n",
      "287                                         upto 4 hrs               0   \n",
      "288                                        1 - 2.5 hrs               0   \n",
      "289                                    more than 4 hrs               0   \n",
      "290                                        1 - 2.5 hrs               0   \n",
      "\n",
      "    Photos being misused Hacking None of the above  \n",
      "0                      0       0                 0  \n",
      "1                      1       0                 0  \n",
      "2                      0       1                 0  \n",
      "3                      0       0                 1  \n",
      "4                      0       0                 1  \n",
      "..                   ...     ...               ...  \n",
      "286                    0       0                 1  \n",
      "287                    0       0                 1  \n",
      "288                    0       1                 0  \n",
      "289                    0       0                 1  \n",
      "290                    0       0                 1  \n",
      "\n",
      "[291 rows x 5 columns]\n"
     ]
    },
    {
     "data": {
      "text/html": [
       "<div>\n",
       "<style scoped>\n",
       "    .dataframe tbody tr th:only-of-type {\n",
       "        vertical-align: middle;\n",
       "    }\n",
       "\n",
       "    .dataframe tbody tr th {\n",
       "        vertical-align: top;\n",
       "    }\n",
       "\n",
       "    .dataframe thead th {\n",
       "        text-align: right;\n",
       "    }\n",
       "</style>\n",
       "<table border=\"1\" class=\"dataframe\">\n",
       "  <thead>\n",
       "    <tr style=\"text-align: right;\">\n",
       "      <th></th>\n",
       "      <th>Fake profiles</th>\n",
       "      <th>Photos being misused</th>\n",
       "      <th>Hacking</th>\n",
       "      <th>None of the above</th>\n",
       "    </tr>\n",
       "    <tr>\n",
       "      <th>How much time do you spend on social media in a day?</th>\n",
       "      <th></th>\n",
       "      <th></th>\n",
       "      <th></th>\n",
       "      <th></th>\n",
       "    </tr>\n",
       "  </thead>\n",
       "  <tbody>\n",
       "    <tr>\n",
       "      <th>none</th>\n",
       "      <td>1</td>\n",
       "      <td>0</td>\n",
       "      <td>0</td>\n",
       "      <td>1</td>\n",
       "    </tr>\n",
       "    <tr>\n",
       "      <th>less than 1 hr</th>\n",
       "      <td>9</td>\n",
       "      <td>1</td>\n",
       "      <td>2</td>\n",
       "      <td>38</td>\n",
       "    </tr>\n",
       "    <tr>\n",
       "      <th>1 - 2.5 hrs</th>\n",
       "      <td>18</td>\n",
       "      <td>5</td>\n",
       "      <td>7</td>\n",
       "      <td>98</td>\n",
       "    </tr>\n",
       "    <tr>\n",
       "      <th>upto 4 hrs</th>\n",
       "      <td>10</td>\n",
       "      <td>4</td>\n",
       "      <td>7</td>\n",
       "      <td>48</td>\n",
       "    </tr>\n",
       "    <tr>\n",
       "      <th>more than 4 hrs</th>\n",
       "      <td>8</td>\n",
       "      <td>2</td>\n",
       "      <td>4</td>\n",
       "      <td>41</td>\n",
       "    </tr>\n",
       "  </tbody>\n",
       "</table>\n",
       "</div>"
      ],
      "text/plain": [
       "                                                    Fake profiles  \\\n",
       "How much time do you spend on social media in a...                  \n",
       "none                                                            1   \n",
       "less than 1 hr                                                  9   \n",
       "1 - 2.5 hrs                                                    18   \n",
       "upto 4 hrs                                                     10   \n",
       "more than 4 hrs                                                 8   \n",
       "\n",
       "                                                    Photos being misused  \\\n",
       "How much time do you spend on social media in a...                         \n",
       "none                                                                   0   \n",
       "less than 1 hr                                                         1   \n",
       "1 - 2.5 hrs                                                            5   \n",
       "upto 4 hrs                                                             4   \n",
       "more than 4 hrs                                                        2   \n",
       "\n",
       "                                                    Hacking  None of the above  \n",
       "How much time do you spend on social media in a...                              \n",
       "none                                                      0                  1  \n",
       "less than 1 hr                                            2                 38  \n",
       "1 - 2.5 hrs                                               7                 98  \n",
       "upto 4 hrs                                                7                 48  \n",
       "more than 4 hrs                                           4                 41  "
      ]
     },
     "execution_count": 129,
     "metadata": {},
     "output_type": "execute_result"
    }
   ],
   "source": [
    "responses_df6=responses_df5[[\"How much time do you spend on social media in a day?\",\"Fake profiles\",\"Photos being misused\",\"Hacking\",\"None of the above\"]]\n",
    "responses_df6_g=responses_df6.groupby(\"How much time do you spend on social media in a day?\")\n",
    "responses_df6_groupby=responses_df6_g.sum()\n",
    "print(responses_df6)\n",
    "responses_df6_groupby=responses_df6_groupby.reindex([\"none\", \"less than 1 hr\", \"1 - 2.5 hrs\",\"upto 4 hrs\",\"more than 4 hrs\"])\n",
    "responses_df6_groupby"
   ]
  },
  {
   "cell_type": "code",
   "execution_count": 130,
   "metadata": {},
   "outputs": [
    {
     "data": {
      "text/plain": [
       "([<matplotlib.axis.XTick at 0x1a255344a8>,\n",
       "  <matplotlib.axis.XTick at 0x1a2552ce10>,\n",
       "  <matplotlib.axis.XTick at 0x1a2552cb38>,\n",
       "  <matplotlib.axis.XTick at 0x1a2555a4e0>,\n",
       "  <matplotlib.axis.XTick at 0x1a2555a9b0>],\n",
       " <a list of 5 Text xticklabel objects>)"
      ]
     },
     "execution_count": 130,
     "metadata": {},
     "output_type": "execute_result"
    },
    {
     "data": {
      "image/png": "[encoded data removed]",
      "text/plain": [
       "<Figure size 432x288 with 1 Axes>"
      ]
     },
     "metadata": {
      "needs_background": "light"
     },
     "output_type": "display_data"
    }
   ],
   "source": [
    "x_axis = np.arange(len(responses_df6_groupby.index))\n",
    "Youtube_plot=plt.plot(x_axis,[v[0] for v in responses_df6_groupby[[\"Fake profiles\"]].to_numpy().tolist()])\n",
    "tick_locations = [value for value in x_axis]\n",
    "plt.xticks(tick_locations, [j for j in responses_df6_groupby.index])"
   ]
  },
  {
   "cell_type": "code",
   "execution_count": 131,
   "metadata": {},
   "outputs": [
    {
     "data": {
      "text/plain": [
       "([<matplotlib.axis.XTick at 0x1a25604860>,\n",
       "  <matplotlib.axis.XTick at 0x1a25604198>,\n",
       "  <matplotlib.axis.XTick at 0x1a255f9d30>,\n",
       "  <matplotlib.axis.XTick at 0x1a25625a20>,\n",
       "  <matplotlib.axis.XTick at 0x1a25625ef0>],\n",
       " <a list of 5 Text xticklabel objects>)"
      ]
     },
     "execution_count": 131,
     "metadata": {},
     "output_type": "execute_result"
    },
    {
     "data": {
      "image/png": "[encoded data removed]",
      "text/plain": [
       "<Figure size 432x288 with 1 Axes>"
      ]
     },
     "metadata": {
      "needs_background": "light"
     },
     "output_type": "display_data"
    }
   ],
   "source": [
    "x_axis = np.arange(len(responses_df6_groupby.index))\n",
    "Youtube_plot=plt.plot(x_axis,[v[0] for v in responses_df6_groupby[[\"Photos being misused\"]].to_numpy().tolist()])\n",
    "tick_locations = [value for value in x_axis]\n",
    "plt.xticks(tick_locations, [j for j in responses_df6_groupby.index])"
   ]
  },
  {
   "cell_type": "code",
   "execution_count": 132,
   "metadata": {},
   "outputs": [
    {
     "data": {
      "text/plain": [
       "([<matplotlib.axis.XTick at 0x1a25595898>,\n",
       "  <matplotlib.axis.XTick at 0x1a255951d0>,\n",
       "  <matplotlib.axis.XTick at 0x1a255950b8>,\n",
       "  <matplotlib.axis.XTick at 0x1a256cac18>,\n",
       "  <matplotlib.axis.XTick at 0x1a256d4160>],\n",
       " <a list of 5 Text xticklabel objects>)"
      ]
     },
     "execution_count": 132,
     "metadata": {},
     "output_type": "execute_result"
    },
    {
     "data": {
      "image/png": "[encoded data removed]",
      "text/plain": [
       "<Figure size 432x288 with 1 Axes>"
      ]
     },
     "metadata": {
      "needs_background": "light"
     },
     "output_type": "display_data"
    }
   ],
   "source": [
    "x_axis = np.arange(len(responses_df6_groupby.index))\n",
    "Youtube_plot=plt.plot(x_axis,[v[0] for v in responses_df6_groupby[[\"Hacking\"]].to_numpy().tolist()])\n",
    "tick_locations = [value for value in x_axis]\n",
    "plt.xticks(tick_locations, [j for j in responses_df6_groupby.index])"
   ]
  },
  {
   "cell_type": "code",
   "execution_count": 133,
   "metadata": {},
   "outputs": [
    {
     "data": {
      "text/plain": [
       "([<matplotlib.axis.XTick at 0x1a25887470>,\n",
       "  <matplotlib.axis.XTick at 0x1a256fa9b0>,\n",
       "  <matplotlib.axis.XTick at 0x1a256fa278>,\n",
       "  <matplotlib.axis.XTick at 0x1a258a97f0>,\n",
       "  <matplotlib.axis.XTick at 0x1a258a9cc0>],\n",
       " <a list of 5 Text xticklabel objects>)"
      ]
     },
     "execution_count": 133,
     "metadata": {},
     "output_type": "execute_result"
    },
    {
     "data": {
      "image/png": "[encoded data removed]",
      "text/plain": [
       "<Figure size 432x288 with 1 Axes>"
      ]
     },
     "metadata": {
      "needs_background": "light"
     },
     "output_type": "display_data"
    }
   ],
   "source": [
    "x_axis = np.arange(len(responses_df6_groupby.index))\n",
    "Youtube_plot=plt.plot(x_axis,[v[0] for v in responses_df6_groupby[[\"None of the above\"]].to_numpy().tolist()])\n",
    "tick_locations = [value for value in x_axis]\n",
    "plt.xticks(tick_locations, [j for j in responses_df6_groupby.index])"
   ]
  },
  {
   "cell_type": "code",
   "execution_count": null,
   "metadata": {},
   "outputs": [],
   "source": []
  }
 ],
 "metadata": {
  "kernelspec": {
   "display_name": "Python 3",
   "language": "python",
   "name": "python3"
  },
  "language_info": {
   "codemirror_mode": {
    "name": "ipython",
    "version": 3
   },
   "file_extension": ".py",
   "mimetype": "text/x-python",
   "name": "python",
   "nbconvert_exporter": "python",
   "pygments_lexer": "ipython3",
   "version": "3.7.4"
  }
 },
 "nbformat": 4,
 "nbformat_minor": 2
}
