{
 "cells": [
  {
   "cell_type": "code",
   "execution_count": 3,
   "metadata": {},
   "outputs": [],
   "source": [
    "# Dependencies\n",
    "import pandas as pd\n",
    "import matplotlib.pyplot as plt\n",
    "import scipy.stats as sts\n",
    "import numpy as np"
   ]
  },
  {
   "cell_type": "code",
   "execution_count": 4,
   "metadata": {},
   "outputs": [
    {
     "ename": "FileNotFoundError",
     "evalue": "[Errno 2] File b'../001 - Data/Effects_of_Social_Media_(Responses).csv' does not exist: b'../001 - Data/Effects_of_Social_Media_(Responses).csv'",
     "output_type": "error",
     "traceback": [
      "\u001b[1;31m---------------------------------------------------------------------------\u001b[0m",
      "\u001b[1;31mFileNotFoundError\u001b[0m                         Traceback (most recent call last)",
      "\u001b[1;32m<ipython-input-4-f0b5ff024573>\u001b[0m in \u001b[0;36m<module>\u001b[1;34m\u001b[0m\n\u001b[1;32m----> 1\u001b[1;33m \u001b[0mresponses_df\u001b[0m \u001b[1;33m=\u001b[0m \u001b[0mpd\u001b[0m\u001b[1;33m.\u001b[0m\u001b[0mread_csv\u001b[0m\u001b[1;33m(\u001b[0m\u001b[1;34m'../001 - Data/Effects_of_Social_Media_(Responses).csv'\u001b[0m\u001b[1;33m)\u001b[0m\u001b[1;33m\u001b[0m\u001b[1;33m\u001b[0m\u001b[0m\n\u001b[0m\u001b[0;32m      2\u001b[0m \u001b[0mresponses_df\u001b[0m\u001b[1;33m.\u001b[0m\u001b[0mhead\u001b[0m\u001b[1;33m(\u001b[0m\u001b[1;33m)\u001b[0m\u001b[1;33m\u001b[0m\u001b[1;33m\u001b[0m\u001b[0m\n",
      "\u001b[1;32m~\\Anaconda3\\lib\\site-packages\\pandas\\io\\parsers.py\u001b[0m in \u001b[0;36mparser_f\u001b[1;34m(filepath_or_buffer, sep, delimiter, header, names, index_col, usecols, squeeze, prefix, mangle_dupe_cols, dtype, engine, converters, true_values, false_values, skipinitialspace, skiprows, skipfooter, nrows, na_values, keep_default_na, na_filter, verbose, skip_blank_lines, parse_dates, infer_datetime_format, keep_date_col, date_parser, dayfirst, cache_dates, iterator, chunksize, compression, thousands, decimal, lineterminator, quotechar, quoting, doublequote, escapechar, comment, encoding, dialect, error_bad_lines, warn_bad_lines, delim_whitespace, low_memory, memory_map, float_precision)\u001b[0m\n\u001b[0;32m    683\u001b[0m         )\n\u001b[0;32m    684\u001b[0m \u001b[1;33m\u001b[0m\u001b[0m\n\u001b[1;32m--> 685\u001b[1;33m         \u001b[1;32mreturn\u001b[0m \u001b[0m_read\u001b[0m\u001b[1;33m(\u001b[0m\u001b[0mfilepath_or_buffer\u001b[0m\u001b[1;33m,\u001b[0m \u001b[0mkwds\u001b[0m\u001b[1;33m)\u001b[0m\u001b[1;33m\u001b[0m\u001b[1;33m\u001b[0m\u001b[0m\n\u001b[0m\u001b[0;32m    686\u001b[0m \u001b[1;33m\u001b[0m\u001b[0m\n\u001b[0;32m    687\u001b[0m     \u001b[0mparser_f\u001b[0m\u001b[1;33m.\u001b[0m\u001b[0m__name__\u001b[0m \u001b[1;33m=\u001b[0m \u001b[0mname\u001b[0m\u001b[1;33m\u001b[0m\u001b[1;33m\u001b[0m\u001b[0m\n",
      "\u001b[1;32m~\\Anaconda3\\lib\\site-packages\\pandas\\io\\parsers.py\u001b[0m in \u001b[0;36m_read\u001b[1;34m(filepath_or_buffer, kwds)\u001b[0m\n\u001b[0;32m    455\u001b[0m \u001b[1;33m\u001b[0m\u001b[0m\n\u001b[0;32m    456\u001b[0m     \u001b[1;31m# Create the parser.\u001b[0m\u001b[1;33m\u001b[0m\u001b[1;33m\u001b[0m\u001b[1;33m\u001b[0m\u001b[0m\n\u001b[1;32m--> 457\u001b[1;33m     \u001b[0mparser\u001b[0m \u001b[1;33m=\u001b[0m \u001b[0mTextFileReader\u001b[0m\u001b[1;33m(\u001b[0m\u001b[0mfp_or_buf\u001b[0m\u001b[1;33m,\u001b[0m \u001b[1;33m**\u001b[0m\u001b[0mkwds\u001b[0m\u001b[1;33m)\u001b[0m\u001b[1;33m\u001b[0m\u001b[1;33m\u001b[0m\u001b[0m\n\u001b[0m\u001b[0;32m    458\u001b[0m \u001b[1;33m\u001b[0m\u001b[0m\n\u001b[0;32m    459\u001b[0m     \u001b[1;32mif\u001b[0m \u001b[0mchunksize\u001b[0m \u001b[1;32mor\u001b[0m \u001b[0miterator\u001b[0m\u001b[1;33m:\u001b[0m\u001b[1;33m\u001b[0m\u001b[1;33m\u001b[0m\u001b[0m\n",
      "\u001b[1;32m~\\Anaconda3\\lib\\site-packages\\pandas\\io\\parsers.py\u001b[0m in \u001b[0;36m__init__\u001b[1;34m(self, f, engine, **kwds)\u001b[0m\n\u001b[0;32m    893\u001b[0m             \u001b[0mself\u001b[0m\u001b[1;33m.\u001b[0m\u001b[0moptions\u001b[0m\u001b[1;33m[\u001b[0m\u001b[1;34m\"has_index_names\"\u001b[0m\u001b[1;33m]\u001b[0m \u001b[1;33m=\u001b[0m \u001b[0mkwds\u001b[0m\u001b[1;33m[\u001b[0m\u001b[1;34m\"has_index_names\"\u001b[0m\u001b[1;33m]\u001b[0m\u001b[1;33m\u001b[0m\u001b[1;33m\u001b[0m\u001b[0m\n\u001b[0;32m    894\u001b[0m \u001b[1;33m\u001b[0m\u001b[0m\n\u001b[1;32m--> 895\u001b[1;33m         \u001b[0mself\u001b[0m\u001b[1;33m.\u001b[0m\u001b[0m_make_engine\u001b[0m\u001b[1;33m(\u001b[0m\u001b[0mself\u001b[0m\u001b[1;33m.\u001b[0m\u001b[0mengine\u001b[0m\u001b[1;33m)\u001b[0m\u001b[1;33m\u001b[0m\u001b[1;33m\u001b[0m\u001b[0m\n\u001b[0m\u001b[0;32m    896\u001b[0m \u001b[1;33m\u001b[0m\u001b[0m\n\u001b[0;32m    897\u001b[0m     \u001b[1;32mdef\u001b[0m \u001b[0mclose\u001b[0m\u001b[1;33m(\u001b[0m\u001b[0mself\u001b[0m\u001b[1;33m)\u001b[0m\u001b[1;33m:\u001b[0m\u001b[1;33m\u001b[0m\u001b[1;33m\u001b[0m\u001b[0m\n",
      "\u001b[1;32m~\\Anaconda3\\lib\\site-packages\\pandas\\io\\parsers.py\u001b[0m in \u001b[0;36m_make_engine\u001b[1;34m(self, engine)\u001b[0m\n\u001b[0;32m   1133\u001b[0m     \u001b[1;32mdef\u001b[0m \u001b[0m_make_engine\u001b[0m\u001b[1;33m(\u001b[0m\u001b[0mself\u001b[0m\u001b[1;33m,\u001b[0m \u001b[0mengine\u001b[0m\u001b[1;33m=\u001b[0m\u001b[1;34m\"c\"\u001b[0m\u001b[1;33m)\u001b[0m\u001b[1;33m:\u001b[0m\u001b[1;33m\u001b[0m\u001b[1;33m\u001b[0m\u001b[0m\n\u001b[0;32m   1134\u001b[0m         \u001b[1;32mif\u001b[0m \u001b[0mengine\u001b[0m \u001b[1;33m==\u001b[0m \u001b[1;34m\"c\"\u001b[0m\u001b[1;33m:\u001b[0m\u001b[1;33m\u001b[0m\u001b[1;33m\u001b[0m\u001b[0m\n\u001b[1;32m-> 1135\u001b[1;33m             \u001b[0mself\u001b[0m\u001b[1;33m.\u001b[0m\u001b[0m_engine\u001b[0m \u001b[1;33m=\u001b[0m \u001b[0mCParserWrapper\u001b[0m\u001b[1;33m(\u001b[0m\u001b[0mself\u001b[0m\u001b[1;33m.\u001b[0m\u001b[0mf\u001b[0m\u001b[1;33m,\u001b[0m \u001b[1;33m**\u001b[0m\u001b[0mself\u001b[0m\u001b[1;33m.\u001b[0m\u001b[0moptions\u001b[0m\u001b[1;33m)\u001b[0m\u001b[1;33m\u001b[0m\u001b[1;33m\u001b[0m\u001b[0m\n\u001b[0m\u001b[0;32m   1136\u001b[0m         \u001b[1;32melse\u001b[0m\u001b[1;33m:\u001b[0m\u001b[1;33m\u001b[0m\u001b[1;33m\u001b[0m\u001b[0m\n\u001b[0;32m   1137\u001b[0m             \u001b[1;32mif\u001b[0m \u001b[0mengine\u001b[0m \u001b[1;33m==\u001b[0m \u001b[1;34m\"python\"\u001b[0m\u001b[1;33m:\u001b[0m\u001b[1;33m\u001b[0m\u001b[1;33m\u001b[0m\u001b[0m\n",
      "\u001b[1;32m~\\Anaconda3\\lib\\site-packages\\pandas\\io\\parsers.py\u001b[0m in \u001b[0;36m__init__\u001b[1;34m(self, src, **kwds)\u001b[0m\n\u001b[0;32m   1915\u001b[0m         \u001b[0mkwds\u001b[0m\u001b[1;33m[\u001b[0m\u001b[1;34m\"usecols\"\u001b[0m\u001b[1;33m]\u001b[0m \u001b[1;33m=\u001b[0m \u001b[0mself\u001b[0m\u001b[1;33m.\u001b[0m\u001b[0musecols\u001b[0m\u001b[1;33m\u001b[0m\u001b[1;33m\u001b[0m\u001b[0m\n\u001b[0;32m   1916\u001b[0m \u001b[1;33m\u001b[0m\u001b[0m\n\u001b[1;32m-> 1917\u001b[1;33m         \u001b[0mself\u001b[0m\u001b[1;33m.\u001b[0m\u001b[0m_reader\u001b[0m \u001b[1;33m=\u001b[0m \u001b[0mparsers\u001b[0m\u001b[1;33m.\u001b[0m\u001b[0mTextReader\u001b[0m\u001b[1;33m(\u001b[0m\u001b[0msrc\u001b[0m\u001b[1;33m,\u001b[0m \u001b[1;33m**\u001b[0m\u001b[0mkwds\u001b[0m\u001b[1;33m)\u001b[0m\u001b[1;33m\u001b[0m\u001b[1;33m\u001b[0m\u001b[0m\n\u001b[0m\u001b[0;32m   1918\u001b[0m         \u001b[0mself\u001b[0m\u001b[1;33m.\u001b[0m\u001b[0munnamed_cols\u001b[0m \u001b[1;33m=\u001b[0m \u001b[0mself\u001b[0m\u001b[1;33m.\u001b[0m\u001b[0m_reader\u001b[0m\u001b[1;33m.\u001b[0m\u001b[0munnamed_cols\u001b[0m\u001b[1;33m\u001b[0m\u001b[1;33m\u001b[0m\u001b[0m\n\u001b[0;32m   1919\u001b[0m \u001b[1;33m\u001b[0m\u001b[0m\n",
      "\u001b[1;32mpandas\\_libs\\parsers.pyx\u001b[0m in \u001b[0;36mpandas._libs.parsers.TextReader.__cinit__\u001b[1;34m()\u001b[0m\n",
      "\u001b[1;32mpandas\\_libs\\parsers.pyx\u001b[0m in \u001b[0;36mpandas._libs.parsers.TextReader._setup_parser_source\u001b[1;34m()\u001b[0m\n",
      "\u001b[1;31mFileNotFoundError\u001b[0m: [Errno 2] File b'../001 - Data/Effects_of_Social_Media_(Responses).csv' does not exist: b'../001 - Data/Effects_of_Social_Media_(Responses).csv'"
     ]
    }
   ],
   "source": [
    "responses_df = pd.read_csv('../001 - Data/Effects_of_Social_Media_(Responses).csv')\n",
    "responses_df.head()"
   ]
  },
  {
   "cell_type": "code",
   "execution_count": null,
   "metadata": {},
   "outputs": [],
   "source": [
    "responses_df.columns"
   ]
  },
  {
   "cell_type": "code",
   "execution_count": null,
   "metadata": {
    "scrolled": true
   },
   "outputs": [],
   "source": [
    "responses_df = responses_df[['What is your age?',\n",
    "       'Which social media platform/s do you like the most or use the most?',\n",
    "       'How much time do you spend on social media in a day?',\n",
    "       'How much time do you spend on physical activities in a day?',\n",
    "       'How much do you feel that you are exposed to inappropriate content on these platforms (out of 10)?',\n",
    "       'Have you ever been a victim of any of these cyber crimes?',\n",
    "       'Which type of communication do you generally prefer?']]\n",
    "responses_df.head()"
   ]
  },
  {
   "cell_type": "code",
   "execution_count": null,
   "metadata": {},
   "outputs": [],
   "source": [
    "# Creating dataframe only for 18 to 21(young population)\n",
    "response_1 = responses_df.loc[(responses_df[\"What is your age?\"] >= 18) & (responses_df[\"What is your age?\"] <= 21)]\n",
    "\n",
    "response_1.head(16)"
   ]
  },
  {
   "cell_type": "code",
   "execution_count": null,
   "metadata": {},
   "outputs": [],
   "source": [
    "#bar chart of respondents exposure to crime, what type of crime\n",
    "crime_type=['Fake profiles','Photos being misused','Hacking','None of the above']\n",
    "numb_resps=[responses_df5['Fake profiles'].sum(),responses_df5['Photos being misused'].sum(),responses_df5['Hacking'].sum(),responses_df5['None of the above'].sum()]\n",
    "plt.bar(crime_type,numb_resps, color=\"lightgreen\", align=\"center\", width = 0.75)\n",
    "plt.title(\"Have you ever been a victim of any of these cyber crimes?\")\n",
    "tick_locations = [value for value in x_axis]\n",
    "plt.xticks(tick_locations, list(crime_type), rotation=\"vertical\")\n",
    "plt.xlabel(\"Type of Cyber Crime\")\n",
    "plt.ylabel(\"Number of Responses\")\n",
    "plt.show()\n"
   ]
  },
  {
   "cell_type": "code",
   "execution_count": null,
   "metadata": {},
   "outputs": [],
   "source": []
  },
  {
   "cell_type": "code",
   "execution_count": null,
   "metadata": {},
   "outputs": [],
   "source": [
    "social_media=[\"none\",\"less than 1 hr\",\"1 - 2.5 hrs\",\"upto 4 hrs\",\"more than 4 hrs\"]\n",
    "social_media_index=[]\n",
    "physical=[\"none\",\"less than 1 hr\",\"1 - 2.5 hrs\",\"upto 4 hrs\",\"more than 4 hrs\"]\n",
    "physical_index=[]\n",
    "for index , row in response_1.iterrows():\n",
    "    if row['How much time do you spend on social media in a day?']==\"none\":\n",
    "        social_media_index.append(0)\n",
    "    elif row['How much time do you spend on social media in a day?']==\"less than 1 hr\":\n",
    "        social_media_index.append(1)\n",
    "    elif row['How much time do you spend on social media in a day?']==\"1 - 2.5 hrs\":\n",
    "        social_media_index.append(2)\n",
    "    elif row['How much time do you spend on social media in a day?']==\"upto 4 hrs\":\n",
    "        social_media_index.append(3)\n",
    "    else:\n",
    "        social_media_index.append(4)\n",
    "    if row['How much time do you spend on physical activities in a day?']==\"none\":\n",
    "        physical_index.append(0)\n",
    "    elif row['How much time do you spend on physical activities in a day?']==\"less than 1 hr\":\n",
    "        physical_index.append(1)\n",
    "    elif row['How much time do you spend on physical activities in a day?']==\"1 - 2.5 hrs\":\n",
    "        physical_index.append(2)\n",
    "    elif row['How much time do you spend on physical activities in a day?']==\"upto 4 hrs\":\n",
    "        physical_index.append(3)\n",
    "    else:\n",
    "        physical_index.append(4)\n",
    "plt.scatter(physical_index,social_media_index)       \n",
    "plt.xlabel(\"time spend on physical activities\")\n",
    "plt.ylabel(\"time spend on social media\")\n",
    "plt.title(\"time spend on physical activities vs. time spend on social media\")\n",
    "x_axis = [v for v in range(len(physical))]\n",
    "tick_locations = [value for value in x_axis]\n",
    "plt.xticks(tick_locations,physical )\n",
    "y_axis = [v for v in range(len(social_media))]\n",
    "tick_locations = [value for value in y_axis]\n",
    "plt.yticks(tick_locations,social_media )\n",
    "(slope,intercept,rvalue,pvalue,stderr)=sts.linregress(physical_index,social_media_index)\n",
    "linear_equation=\"social media time=\"+str(round(slope,2))+\"*\"+\"physical activity time\"+\"+\"+str(round(intercept,2))\n",
    "data=pd.DataFrame({\n",
    "    \"physical activity\": physical_index,\n",
    "    \"social media activity\":social_media_index\n",
    "})\n",
    "reg_value=slope*data[[\"physical activity\"]]+intercept\n",
    "plt.plot(data[[\"physical activity\"]],reg_value,\"r-\")\n",
    "print(f\"The r-squared is: {rvalue}\")\n",
    "plt.annotate(linear_equation,(0,0.5),color=\"red\",fontsize=14)"
   ]
  },
  {
   "cell_type": "code",
   "execution_count": null,
   "metadata": {},
   "outputs": [],
   "source": [
    "[len(physical_index),len(social_media_index)]"
   ]
  },
  {
   "cell_type": "code",
   "execution_count": null,
   "metadata": {},
   "outputs": [],
   "source": [
    "platform_choice = responses_df['Which social media platform/s do you like the most or use the most?']\n",
    "platform_choice.unique()"
   ]
  },
  {
   "cell_type": "code",
   "execution_count": null,
   "metadata": {},
   "outputs": [],
   "source": [
    "platform_choice = responses_df['Which social media platform/s do you like the most or use the most?']\n",
    "platform_choice = platform_choice.str.split(',', expand=True)\n",
    "platform_choice.head()"
   ]
  },
  {
   "cell_type": "code",
   "execution_count": null,
   "metadata": {},
   "outputs": [],
   "source": [
    "platform_choice = responses_df['Which social media platform/s do you like the most or use the most?']\n",
    "\n",
    "facebook = 0\n",
    "whatsapp = 0\n",
    "instagram = 0\n",
    "twitter = 0\n",
    "youtube = 0\n",
    "snapchat = 0\n",
    "other = 0\n",
    "\n",
    "for i in range(0,len(platform_choice)):\n",
    "    if platform_choice[i].count('Facebook') > 0:\n",
    "        facebook = facebook + 1\n",
    "    if platform_choice[i].count('Whatsapp') > 0:\n",
    "        whatsapp = whatsapp + 1\n",
    "    if platform_choice[i].count('Instagram') > 0:\n",
    "        instagram = instagram + 1\n",
    "    if platform_choice[i].count('Twitter') > 0:\n",
    "        twitter = twitter + 1\n",
    "    if platform_choice[i].count('Youtube') > 0:\n",
    "        youtube = youtube + 1\n",
    "    if platform_choice[i].count('Snapchat') > 0:\n",
    "        snapchat = snapchat + 1\n",
    "    if platform_choice[i].count('Hike') > 0:\n",
    "        other = other + 1\n",
    "    if platform_choice[i].count('Tinder') > 0:\n",
    "        other = other + 1\n",
    "        \n",
    "platform_choice_count = {\"Facebook\" : facebook,\n",
    "                         \"Whatsapp\" : whatsapp,\n",
    "                         \"Instagram\" : instagram,\n",
    "                         \"Twitter\" : twitter,\n",
    "                         \"Youtube\" : youtube,\n",
    "                         \"Snapchat\" : snapchat,\n",
    "                         \"Other\" : other}\n",
    "platform_choice_count "
   ]
  },
  {
   "cell_type": "code",
   "execution_count": null,
   "metadata": {},
   "outputs": [],
   "source": [
    "crime_df = responses_df['Have you ever been a victim of any of these cyber crimes?']\n",
    "crime_df.unique()"
   ]
  },
  {
   "cell_type": "code",
   "execution_count": null,
   "metadata": {},
   "outputs": [],
   "source": [
    "crime_df = crime_df.replace(to_replace =\"Fake profiles, None of the above\", value =\"Fake profiles\") \n",
    "crime_df.unique()"
   ]
  },
  {
   "cell_type": "code",
   "execution_count": null,
   "metadata": {},
   "outputs": [],
   "source": [
    "fake = 0\n",
    "photo_misuse = 0\n",
    "hacking = 0\n",
    "none = 0\n",
    "\n",
    "for i in range(0,len(crime_df)):\n",
    "    if crime_df[i].count('Fake profiles') > 0:\n",
    "        fake = fake + 1\n",
    "    if crime_df[i].count('Photos being misused') > 0:\n",
    "        photo_misuse = photo_misuse + 1\n",
    "    if crime_df[i].count('Hacking') > 0:\n",
    "        hacking = hacking + 1\n",
    "    if crime_df[i].count('None of the above') > 0:\n",
    "        none = none + 1\n",
    "\n",
    "crime_count = {\"Fake profiles\" : fake,\n",
    "               \"Photos being misused\" : photo_misuse,\n",
    "               \"Hacking\" : hacking,\n",
    "               \"None of the above\" : none}\n",
    "crime_count "
   ]
  },
  {
   "cell_type": "code",
   "execution_count": null,
   "metadata": {},
   "outputs": [],
   "source": [
    "preferred_com = responses_df['Which type of communication do you generally prefer?']\n",
    "preferred_com.unique()"
   ]
  },
  {
   "cell_type": "code",
   "execution_count": null,
   "metadata": {},
   "outputs": [],
   "source": [
    "preferred_com.value_counts()"
   ]
  },
  {
   "cell_type": "code",
   "execution_count": null,
   "metadata": {},
   "outputs": [],
   "source": [
    "face = 0\n",
    "text = 0\n",
    "phone = 0\n",
    "social = 0\n",
    "\n",
    "for i in range(0,len(preferred_com)):\n",
    "    if preferred_com[i].count('face to face') > 0:\n",
    "        face = face + 1\n",
    "    if preferred_com[i].count('Text message') > 0:\n",
    "        text = text + 1\n",
    "    if preferred_com[i].count('through phone') > 0:\n",
    "        phone = phone + 1\n",
    "    if preferred_com[i].count('through social media') > 0:\n",
    "        social = social + 1\n",
    "        \n",
    "preferred_com_count = {\"Face to face\" : face,\n",
    "               \"Text message\" : text,\n",
    "               \"through phone\" : phone,\n",
    "               \"through social media\" : social}\n",
    "preferred_com_count"
   ]
  },
  {
   "cell_type": "code",
   "execution_count": null,
   "metadata": {},
   "outputs": [],
   "source": [
    "responses_df"
   ]
  },
  {
   "cell_type": "code",
   "execution_count": null,
   "metadata": {},
   "outputs": [],
   "source": [
    "responses_df1=responses_df[[\"Which social media platform/s do you like the most or use the most?\",\"How much time do you spend on social media in a day?\",\"Which type of communication do you generally prefer?\"]]\n",
    "responses_df1[\"Whatsapp\"]=\"\"\n",
    "responses_df1[\"Facebook\"]=\"\"\n",
    "responses_df1[\"Youtube\"]=\"\"\n",
    "responses_df1[\"Instagram\"]=\"\"\n",
    "responses_df1[\"Twitter\"]=\"\"\n",
    "responses_df1[\"Snapchat\"]=\"\"\n",
    "responses_df1[\"Hike\"]=\"\"\n",
    "responses_df1[\"Tinder\"]=\"\"\n",
    "responses_df1.head(7)\n",
    "\n",
    "for index , row in responses_df1.iterrows():\n",
    "    if \"Whatsapp\" in row['Which social media platform/s do you like the most or use the most?']:\n",
    "        row[\"Whatsapp\"]=1\n",
    "    else:\n",
    "        row[\"Whatsapp\"]=0\n",
    "    if \"Facebook\" in row['Which social media platform/s do you like the most or use the most?']:\n",
    "        row[\"Facebook\"]=1\n",
    "    else:\n",
    "        row[\"Facebook\"]=0\n",
    "    if \"Youtube\" in row['Which social media platform/s do you like the most or use the most?']:\n",
    "        row[\"Youtube\"]=1\n",
    "    else:\n",
    "        row[\"Youtube\"]=0\n",
    "    if \"Instagram\" in row['Which social media platform/s do you like the most or use the most?']:\n",
    "        row[\"Instagram\"]=1\n",
    "    else:\n",
    "        row[\"Instagram\"]=0   \n",
    "    if \"Twitter\" in row['Which social media platform/s do you like the most or use the most?']:\n",
    "        row[\"Twitter\"]=1\n",
    "    else:\n",
    "        row[\"Twitter\"]=0 \n",
    "    if \"Snapchat\" in row['Which social media platform/s do you like the most or use the most?']:\n",
    "        row[\"Snapchat\"]=1\n",
    "    else:\n",
    "        row[\"Snapchat\"]=0\n",
    "    if \"Hike\" in row['Which social media platform/s do you like the most or use the most?']:\n",
    "        row[\"Hike\"]=1\n",
    "    else:\n",
    "        row[\"Hike\"]=0\n",
    "    if \"Tinder\" in row['Which social media platform/s do you like the most or use the most?']:\n",
    "        row[\"Tinder\"]=1\n",
    "    else:\n",
    "        row[\"Tinder\"]=0\n",
    "responses_df1.head()\n",
    "    "
   ]
  },
  {
   "cell_type": "code",
   "execution_count": null,
   "metadata": {},
   "outputs": [],
   "source": [
    "responses_df2=responses_df1[[\"How much time do you spend on social media in a day?\",\"Whatsapp\",\"Facebook\",\"Youtube\",\"Instagram\",\"Twitter\",\"Snapchat\",\"Hike\",\"Tinder\"]]\n",
    "responses_df2_g=responses_df2.groupby(\"How much time do you spend on social media in a day?\")\n",
    "responses_df2_groupby=responses_df2_g.sum()\n",
    "responses_df2_groupby=responses_df2_groupby.reindex([\"none\", \"less than 1 hr\", \"1 - 2.5 hrs\",\"upto 4 hrs\",\"more than 4 hrs\"])\n",
    "responses_df2_groupby"
   ]
  },
  {
   "cell_type": "code",
   "execution_count": null,
   "metadata": {},
   "outputs": [],
   "source": [
    "\n",
    "responses_11=response_1[[\"Which social media platform/s do you like the most or use the most?\",\"How much time do you spend on social media in a day?\"]]\n",
    "responses_11[\"Whatsapp\"]=\"\"\n",
    "responses_11[\"Facebook\"]=\"\"\n",
    "responses_11[\"Youtube\"]=\"\"\n",
    "responses_11[\"Instagram\"]=\"\"\n",
    "responses_11[\"Twitter\"]=\"\"\n",
    "responses_11[\"Snapchat\"]=\"\"\n",
    "responses_11[\"Hike\"]=\"\"\n",
    "responses_11[\"Tinder\"]=\"\"\n",
    "responses_11.head(7)\n",
    "for index , row in responses_11.iterrows():\n",
    "    if \"Whatsapp\" in row['Which social media platform/s do you like the most or use the most?']:\n",
    "        row[\"Whatsapp\"]=1\n",
    "    else:\n",
    "        row[\"Whatsapp\"]=0\n",
    "    if \"Facebook\" in row['Which social media platform/s do you like the most or use the most?']:\n",
    "        row[\"Facebook\"]=1\n",
    "    else:\n",
    "        row[\"Facebook\"]=0\n",
    "    if \"Youtube\" in row['Which social media platform/s do you like the most or use the most?']:\n",
    "        row[\"Youtube\"]=1\n",
    "    else:\n",
    "        row[\"Youtube\"]=0\n",
    "    if \"Instagram\" in row['Which social media platform/s do you like the most or use the most?']:\n",
    "        row[\"Instagram\"]=1\n",
    "    else:\n",
    "        row[\"Instagram\"]=0   \n",
    "    if \"Twitter\" in row['Which social media platform/s do you like the most or use the most?']:\n",
    "        row[\"Twitter\"]=1\n",
    "    else:\n",
    "        row[\"Twitter\"]=0 \n",
    "    if \"Snapchat\" in row['Which social media platform/s do you like the most or use the most?']:\n",
    "        row[\"Snapchat\"]=1\n",
    "    else:\n",
    "        row[\"Snapchat\"]=0\n",
    "    if \"Hike\" in row['Which social media platform/s do you like the most or use the most?']:\n",
    "        row[\"Hike\"]=1\n",
    "    else:\n",
    "        row[\"Hike\"]=0\n",
    "    if \"Tinder\" in row['Which social media platform/s do you like the most or use the most?']:\n",
    "        row[\"Tinder\"]=1\n",
    "    else:\n",
    "        row[\"Tinder\"]=0\n",
    "responses_11.head()"
   ]
  },
  {
   "cell_type": "code",
   "execution_count": null,
   "metadata": {},
   "outputs": [],
   "source": [
    "responses_2=responses_11[[\"How much time do you spend on social media in a day?\",\"Whatsapp\",\"Facebook\",\"Youtube\",\"Instagram\",\"Twitter\",\"Snapchat\",\"Hike\",\"Tinder\"]]\n",
    "responses_2_g=responses_2.groupby(\"How much time do you spend on social media in a day?\")\n",
    "responses_2_groupby=responses_2_g.sum()\n",
    "print(responses_2_groupby.index)\n",
    "responses_2_groupby=responses_2_groupby.reindex([\"none\", \"less than 1 hr\", \"1 - 2.5 hrs\",\"upto 4 hrs\",\"more than 4 hrs\"])\n",
    "responses_2_groupby"
   ]
  },
  {
   "cell_type": "code",
   "execution_count": null,
   "metadata": {},
   "outputs": [],
   "source": [
    "#Plot time spend on social media vs number of people use Whatsapp the most\n",
    "x_axis = np.arange(len(responses_df2_groupby.index))\n",
    "plt.plot(x_axis,[v[0] for v in responses_df2_groupby[[\"Whatsapp\"]].to_numpy().tolist()])\n",
    "tick_locations = [value for value in x_axis]\n",
    "plt.xticks(tick_locations, [j for j in responses_df2_groupby.index])\n",
    "plt.xlabel(\"time spend on social media\")\n",
    "plt.ylabel(\"number of people use Whatsapp the most\")\n",
    "plt.title(\"time spend on social media vs. number of people use Whatsapp the most\")"
   ]
  },
  {
   "cell_type": "code",
   "execution_count": null,
   "metadata": {},
   "outputs": [],
   "source": [
    "#Plot time spend on social media vs number of people use Whatsapp the most with regression\n",
    "x_axis = np.arange(len(responses_2_groupby.index))\n",
    "plt.scatter(x_axis,[v[0] for v in responses_2_groupby[[\"Whatsapp\"]].to_numpy().tolist()])\n",
    "tick_locations = [value for value in x_axis]\n",
    "\n",
    "#Plot regression line\n",
    "(slope,intercept,rvalue,pvalue,stderr)=sts.linregress(x_axis,[v[0] for v in responses_2_groupby[[\"Whatsapp\"]].to_numpy().tolist()])\n",
    "linear_equation=\"number of people use Whatsapp the most=\"+str(round(slope,2))+\"*\"+\"x_axis\"+\"+\"+str(round(intercept,2))\n",
    "reg_value=slope*x_axis+intercept\n",
    "plt.plot(x_axis,reg_value,\"r-\")\n",
    "plt.annotate(linear_equation,(2,1),color=\"red\",fontsize=14)\n",
    "plt.xticks(tick_locations, [j for j in responses_2_groupby.index])\n",
    "\n",
    "\n",
    "print(f\"The r-squared is: {rvalue}\")\n",
    "plt.xlabel(\"time spend on social media\")\n",
    "plt.ylabel(\"number of people use Whatsapp the most\")\n",
    "plt.title(\"time spend on social media vs. number of people use Whatsapp the most\")"
   ]
  },
  {
   "cell_type": "code",
   "execution_count": null,
   "metadata": {},
   "outputs": [],
   "source": []
  },
  {
   "cell_type": "code",
   "execution_count": null,
   "metadata": {},
   "outputs": [],
   "source": [
    "#Plot time spend on social media vs number of people use Facebook the most\n",
    "x_axis = np.arange(len(responses_df2_groupby.index))\n",
    "plt.plot(x_axis,[v[0] for v in responses_df2_groupby[[\"Facebook\"]].to_numpy().tolist()])\n",
    "tick_locations = [value for value in x_axis]\n",
    "plt.xticks(tick_locations, [j for j in responses_df2_groupby.index])\n",
    "plt.xlabel(\"time spend on social media\")\n",
    "plt.ylabel(\"number of people use Facebook the most\")\n",
    "plt.title(\"time spend on social media vs. number of people use Facebook the most\")"
   ]
  },
  {
   "cell_type": "code",
   "execution_count": null,
   "metadata": {},
   "outputs": [],
   "source": [
    "#Plot time spend on social media vs number of people use Facebook the most with regression\n",
    "x_axis = np.arange(len(responses_2_groupby.index))\n",
    "plt.scatter(x_axis,[v[0] for v in responses_2_groupby[[\"Facebook\"]].to_numpy().tolist()])\n",
    "tick_locations = [value for value in x_axis]\n",
    "\n",
    "#Plot regression line\n",
    "(slope,intercept,rvalue,pvalue,stderr)=sts.linregress(x_axis,[v[0] for v in responses_2_groupby[[\"Facebook\"]].to_numpy().tolist()])\n",
    "linear_equation=\"number of people use Facebook the most=\"+str(round(slope,2))+\"*\"+\"x_axis\"+\"+\"+str(round(intercept,2))\n",
    "reg_value=slope*x_axis+intercept\n",
    "plt.plot(x_axis,reg_value,\"r-\")\n",
    "plt.annotate(linear_equation,(0,1),color=\"red\",fontsize=14)\n",
    "plt.xticks(tick_locations, [j for j in responses_2_groupby.index])\n",
    "\n",
    "\n",
    "print(f\"The r-squared is: {rvalue}\")\n",
    "plt.xlabel(\"time spend on social media\")\n",
    "plt.ylabel(\"number of people use Facebook the most\")\n",
    "plt.title(\"time spend on social media vs. number of people use Facebook the most\")"
   ]
  },
  {
   "cell_type": "code",
   "execution_count": null,
   "metadata": {},
   "outputs": [],
   "source": [
    "#Plot time spend on social media vs number of people use Youtube the most\n",
    "x_axis = np.arange(len(responses_df2_groupby.index))\n",
    "Youtube_plot=plt.plot(x_axis,[v[0] for v in responses_df2_groupby[[\"Youtube\"]].to_numpy().tolist()])\n",
    "tick_locations = [value for value in x_axis]\n",
    "plt.xticks(tick_locations, [j for j in responses_df2_groupby.index])\n",
    "plt.xlabel(\"time spend on social media\")\n",
    "plt.ylabel(\"number of people use Youtube the most\")\n",
    "plt.title(\"time spend on social media vs. number of people use Youtube the most\")"
   ]
  },
  {
   "cell_type": "code",
   "execution_count": null,
   "metadata": {},
   "outputs": [],
   "source": [
    "#Plot time spend on social media vs number of people use Youtube the most with regression\n",
    "x_axis = np.arange(len(responses_2_groupby.index))\n",
    "plt.scatter(x_axis,[v[0] for v in responses_2_groupby[[\"Youtube\"]].to_numpy().tolist()])\n",
    "tick_locations = [value for value in x_axis]\n",
    "\n",
    "#Plot regression line\n",
    "(slope,intercept,rvalue,pvalue,stderr)=sts.linregress(x_axis,[v[0] for v in responses_2_groupby[[\"Youtube\"]].to_numpy().tolist()])\n",
    "linear_equation=\"number of people use Youtube the most=\"+str(round(slope,2))+\"*\"+\"x_axis\"+\"+\"+str(round(intercept,2))\n",
    "reg_value=slope*x_axis+intercept\n",
    "plt.plot(x_axis,reg_value,\"r-\")\n",
    "plt.annotate(linear_equation,(0,1),color=\"red\",fontsize=14)\n",
    "plt.xticks(tick_locations, [j for j in responses_2_groupby.index])\n",
    "\n",
    "\n",
    "print(f\"The r-squared is: {rvalue}\")\n",
    "plt.xlabel(\"time spend on social media\")\n",
    "plt.ylabel(\"number of people use Youtube the most\")\n",
    "plt.title(\"time spend on social media vs. number of people use Youtube the most\")"
   ]
  },
  {
   "cell_type": "code",
   "execution_count": null,
   "metadata": {},
   "outputs": [],
   "source": [
    "#Plot time spend on social media vs number of people use Instagram the most\n",
    "x_axis = np.arange(len(responses_df2_groupby.index))\n",
    "Youtube_plot=plt.plot(x_axis,[v[0] for v in responses_df2_groupby[[\"Instagram\"]].to_numpy().tolist()])\n",
    "tick_locations = [value for value in x_axis]\n",
    "plt.xticks(tick_locations, [j for j in responses_df2_groupby.index])\n",
    "plt.xlabel(\"time spend on social media\")\n",
    "plt.ylabel(\"number of people use Instagram the most\")\n",
    "plt.title(\"time spend on social media vs. number of people use Instagram the most\")"
   ]
  },
  {
   "cell_type": "code",
   "execution_count": null,
   "metadata": {},
   "outputs": [],
   "source": [
    "#Plot time spend on social media vs number of people use Instagram the most with regression\n",
    "x_axis = np.arange(len(responses_2_groupby.index))\n",
    "plt.scatter(x_axis,[v[0] for v in responses_2_groupby[[\"Instagram\"]].to_numpy().tolist()])\n",
    "tick_locations = [value for value in x_axis]\n",
    "\n",
    "#Plot regression line\n",
    "(slope,intercept,rvalue,pvalue,stderr)=sts.linregress(x_axis,[v[0] for v in responses_2_groupby[[\"Instagram\"]].to_numpy().tolist()])\n",
    "linear_equation=\"number of people use Instagram the most=\"+str(round(slope,2))+\"*\"+\"x_axis\"+\"+\"+str(round(intercept,2))\n",
    "reg_value=slope*x_axis+intercept\n",
    "plt.plot(x_axis,reg_value,\"r-\")\n",
    "plt.annotate(linear_equation,(0,1),color=\"red\",fontsize=14)\n",
    "plt.xticks(tick_locations, [j for j in responses_2_groupby.index])\n",
    "\n",
    "\n",
    "print(f\"The r-squared is: {rvalue}\")\n",
    "plt.xlabel(\"time spend on social media\")\n",
    "plt.ylabel(\"number of people use Instagram the most\")\n",
    "plt.title(\"time spend on social media vs. number of people use Instagram the most\")"
   ]
  },
  {
   "cell_type": "code",
   "execution_count": null,
   "metadata": {},
   "outputs": [],
   "source": [
    "#Plot time spend on social media vs number of people use Twitter the most\n",
    "x_axis = np.arange(len(responses_df2_groupby.index))\n",
    "Youtube_plot=plt.plot(x_axis,[v[0] for v in responses_df2_groupby[[\"Twitter\"]].to_numpy().tolist()])\n",
    "tick_locations = [value for value in x_axis]\n",
    "plt.xticks(tick_locations, [j for j in responses_df2_groupby.index])\n",
    "plt.xlabel(\"time spend on social media\")\n",
    "plt.ylabel(\"number of people use Twitter the most\")\n",
    "plt.title(\"time spend on social media vs. number of people use Twitter the most\")"
   ]
  },
  {
   "cell_type": "code",
   "execution_count": null,
   "metadata": {},
   "outputs": [],
   "source": [
    "#Plot time spend on social media vs number of people use Twitter the most with regression\n",
    "x_axis = np.arange(len(responses_2_groupby.index))\n",
    "plt.scatter(x_axis,[v[0] for v in responses_2_groupby[[\"Twitter\"]].to_numpy().tolist()])\n",
    "tick_locations = [value for value in x_axis]\n",
    "\n",
    "#Plot regression line\n",
    "(slope,intercept,rvalue,pvalue,stderr)=sts.linregress(x_axis,[v[0] for v in responses_2_groupby[[\"Twitter\"]].to_numpy().tolist()])\n",
    "linear_equation=\"number of people use Twitter the most=\"+str(round(slope,2))+\"*\"+\"x_axis\"+\"+\"+str(round(intercept,2))\n",
    "reg_value=slope*x_axis+intercept\n",
    "plt.plot(x_axis,reg_value,\"r-\")\n",
    "plt.annotate(linear_equation,(0,1),color=\"red\",fontsize=14)\n",
    "plt.xticks(tick_locations, [j for j in responses_2_groupby.index])\n",
    "\n",
    "\n",
    "print(f\"The r-squared is: {rvalue}\")\n",
    "plt.xlabel(\"time spend on social media\")\n",
    "plt.ylabel(\"number of people use Twitter the most\")\n",
    "plt.title(\"time spend on social media vs. number of people use Twitter the most\")"
   ]
  },
  {
   "cell_type": "code",
   "execution_count": null,
   "metadata": {},
   "outputs": [],
   "source": [
    "#Plot time spend on social media vs number of people use Snapchat the most\n",
    "x_axis = np.arange(len(responses_df2_groupby.index))\n",
    "Youtube_plot=plt.plot(x_axis,[v[0] for v in responses_df2_groupby[[\"Snapchat\"]].to_numpy().tolist()])\n",
    "tick_locations = [value for value in x_axis]\n",
    "plt.xticks(tick_locations, [j for j in responses_df2_groupby.index])\n",
    "plt.xlabel(\"time spend on social media\")\n",
    "plt.ylabel(\"number of people use Snapchat the most\")\n",
    "plt.title(\"time spend on social media vs. number of people use Snapchat the most\")"
   ]
  },
  {
   "cell_type": "code",
   "execution_count": null,
   "metadata": {},
   "outputs": [],
   "source": [
    "#Plot time spend on social media vs number of people use Snapchat the most with regression\n",
    "x_axis = np.arange(len(responses_2_groupby.index))\n",
    "plt.scatter(x_axis,[v[0] for v in responses_2_groupby[[\"Snapchat\"]].to_numpy().tolist()])\n",
    "tick_locations = [value for value in x_axis]\n",
    "\n",
    "#Plot regression line\n",
    "(slope,intercept,rvalue,pvalue,stderr)=sts.linregress(x_axis,[v[0] for v in responses_2_groupby[[\"Snapchat\"]].to_numpy().tolist()])\n",
    "linear_equation=\"number of people use Snapchat the most=\"+str(round(slope,2))+\"*\"+\"x_axis\"+\"+\"+str(round(intercept,2))\n",
    "reg_value=slope*x_axis+intercept\n",
    "plt.plot(x_axis,reg_value,\"r-\")\n",
    "plt.annotate(linear_equation,(0,1),color=\"red\",fontsize=14)\n",
    "plt.xticks(tick_locations, [j for j in responses_2_groupby.index])\n",
    "\n",
    "\n",
    "print(f\"The r-squared is: {rvalue}\")\n",
    "plt.xlabel(\"time spend on social media\")\n",
    "plt.ylabel(\"number of people use Snapchat the most\")\n",
    "plt.title(\"time spend on social media vs. number of people use Snapchat the most\")"
   ]
  },
  {
   "cell_type": "code",
   "execution_count": null,
   "metadata": {},
   "outputs": [],
   "source": [
    "#Plot time spend on social media vs number of people use Hike the most\n",
    "x_axis = np.arange(len(responses_df2_groupby.index))\n",
    "plt.plot(x_axis,[v[0] for v in responses_df2_groupby[[\"Hike\"]].to_numpy().tolist()])\n",
    "tick_locations = [value for value in x_axis]\n",
    "plt.xticks(tick_locations, [j for j in responses_df2_groupby.index])\n",
    "plt.xlabel(\"time spend on social media\")\n",
    "plt.ylabel(\"number of people use Hike the most\")\n",
    "plt.title(\"time spend on social media vs. number of people use Hike the most\")"
   ]
  },
  {
   "cell_type": "code",
   "execution_count": null,
   "metadata": {},
   "outputs": [],
   "source": [
    "#Plot time spend on social media vs number of people use Hike the most with regression\n",
    "x_axis = np.arange(len(responses_2_groupby.index))\n",
    "plt.scatter(x_axis,[v[0] for v in responses_2_groupby[[\"Hike\"]].to_numpy().tolist()])\n",
    "tick_locations = [value for value in x_axis]\n",
    "\n",
    "#Plot regression line\n",
    "(slope,intercept,rvalue,pvalue,stderr)=sts.linregress(x_axis,[v[0] for v in responses_2_groupby[[\"Hike\"]].to_numpy().tolist()])\n",
    "linear_equation=\"number of people use Hike the most=\"+str(round(slope,2))+\"*\"+\"x_axis\"+\"+\"+str(round(intercept,2))\n",
    "reg_value=slope*x_axis+intercept\n",
    "plt.plot(x_axis,reg_value,\"r-\")\n",
    "plt.annotate(linear_equation,(0,1),color=\"red\",fontsize=14)\n",
    "plt.xticks(tick_locations, [j for j in responses_2_groupby.index])\n",
    "\n",
    "\n",
    "print(f\"The r-squared is: {rvalue}\")\n",
    "plt.xlabel(\"time spend on social media\")\n",
    "plt.ylabel(\"number of people use Hike the most\")\n",
    "plt.title(\"time spend on social media vs. number of people use Hike the most\")"
   ]
  },
  {
   "cell_type": "code",
   "execution_count": null,
   "metadata": {},
   "outputs": [],
   "source": [
    "#Plot time spend on social media vs number of people use Tinder the most\n",
    "x_axis = np.arange(len(responses_df2_groupby.index))\n",
    "plt.plot(x_axis,[v[0] for v in responses_df2_groupby[[\"Tinder\"]].to_numpy().tolist()])\n",
    "tick_locations = [value for value in x_axis]\n",
    "plt.xticks(tick_locations, [j for j in responses_df2_groupby.index])\n",
    "plt.xlabel(\"time spend on social media\")\n",
    "plt.ylabel(\"number of people use Tinder the most\")\n",
    "plt.title(\"time spend on social media vs. number of people use Tinder the most\")"
   ]
  },
  {
   "cell_type": "code",
   "execution_count": null,
   "metadata": {},
   "outputs": [],
   "source": [
    "#Plot time spend on social media vs number of people use Tinder the most with regression\n",
    "x_axis = np.arange(len(responses_2_groupby.index))\n",
    "plt.scatter(x_axis,[v[0] for v in responses_2_groupby[[\"Tinder\"]].to_numpy().tolist()])\n",
    "tick_locations = [value for value in x_axis]\n",
    "\n",
    "#Plot regression line\n",
    "(slope,intercept,rvalue,pvalue,stderr)=sts.linregress(x_axis,[v[0] for v in responses_2_groupby[[\"Tinder\"]].to_numpy().tolist()])\n",
    "linear_equation=\"number of people use Tinder the most=\"+str(round(slope,2))+\"*\"+\"x_axis\"+\"+\"+str(round(intercept,2))\n",
    "reg_value=slope*x_axis+intercept\n",
    "plt.plot(x_axis,reg_value,\"r-\")\n",
    "plt.annotate(linear_equation,(0,3),color=\"red\",fontsize=14)\n",
    "plt.xticks(tick_locations, [j for j in responses_2_groupby.index])\n",
    "\n",
    "\n",
    "print(f\"The r-squared is: {rvalue}\")\n",
    "plt.xlabel(\"time spend on social media\")\n",
    "plt.ylabel(\"number of people use Tinder the most\")\n",
    "plt.title(\"time spend on social media vs. number of people use Tinder the most\")"
   ]
  },
  {
   "cell_type": "code",
   "execution_count": null,
   "metadata": {},
   "outputs": [],
   "source": [
    "#Share of people with certain platform perference base on hour spend on social media for 18 to 21(young population)\n",
    "responses_21_groupby= responses_2_groupby.div(responses_2_groupby.sum(axis=1), axis=0)\n",
    "def my_autopct(pct):\n",
    "    return ('%.2f' % pct) if pct > 0 else ''\n",
    "fig, axs = plt.subplots(nrows=responses_21_groupby.index.size, ncols=1, figsize=(50,50))\n",
    "\n",
    "fig.subplots_adjust(hspace=0.5, wspace=0.05)\n",
    "\n",
    "i=0\n",
    "for row in range(responses_21_groupby.index.size ):\n",
    "    explode=(0.2,0.1,0.1,0.1,0.1,0.1,0.1,0.1)\n",
    "    fig.add_subplot(axs[row] )\n",
    "    plt.pie(responses_21_groupby.loc[responses_21_groupby.index[row],:], labels=responses_21_groupby.columns,explode=explode,autopct=my_autopct, shadow=True, startangle=60)\n",
    "    plt.axis('off')\n",
    "    plt.title(responses_41_groupby.index[i])\n",
    "    i=i+1"
   ]
  },
  {
   "cell_type": "code",
   "execution_count": null,
   "metadata": {},
   "outputs": [],
   "source": [
    "#Compare NO. of people with different platform preference base on hours spend on social media per day\n",
    "Whatsapp, = plt.plot(x_axis,[v[0] for v in responses_2_groupby[[\"Whatsapp\"]].to_numpy().tolist()],label=\"Whatsapp\")\n",
    "Facebook, = plt.plot(x_axis,[v[0] for v in responses_2_groupby[[\"Facebook\"]].to_numpy().tolist()],label=\"Facebook\")\n",
    "Youtube, = plt.plot(x_axis,[v[0] for v in responses_2_groupby[[\"Youtube\"]].to_numpy().tolist()],label=\"Youtube\")\n",
    "Instagram, = plt.plot(x_axis,[v[0] for v in responses_2_groupby[[\"Instagram\"]].to_numpy().tolist()],label=\"Instagram\")\n",
    "Snapchat, = plt.plot(x_axis,[v[0] for v in responses_2_groupby[[\"Snapchat\"]].to_numpy().tolist()],label=\"Snapchat\")\n",
    "Hike, = plt.plot(x_axis,[v[0] for v in responses_2_groupby[[\"Hike\"]].to_numpy().tolist()],label=\"Hike\")\n",
    "Tinder, = plt.plot(x_axis,[v[0] for v in responses_2_groupby[[\"Tinder\"]].to_numpy().tolist()],label=\"Tinder\")\n",
    "plt.legend(handles=[Whatsapp,Facebook,Youtube, Instagram,Snapchat,Hike,Tinder,], loc=\"best\")\n",
    "plt.xticks(tick_locations, [j for j in responses_2_groupby.index])\n",
    "plt.xlabel(\"time spend on social media\")\n",
    "plt.ylabel(\"NO. of people based on platform prefrence\")\n",
    "plt.title(\"time spend on social media vs. NO. of people based on platform prefrence\")\n",
    "plt.figure(figsize=(15,15))\n",
    "plt.show()\n",
    "\n"
   ]
  },
  {
   "cell_type": "code",
   "execution_count": null,
   "metadata": {},
   "outputs": [],
   "source": [
    "responses_df[\"Which type of communication do you generally prefer?\"].unique()"
   ]
  },
  {
   "cell_type": "code",
   "execution_count": null,
   "metadata": {},
   "outputs": [],
   "source": [
    "responses_df3=responses_df[[\"Which type of communication do you generally prefer?\",\"How much time do you spend on social media in a day?\"]]\n",
    "responses_df3[\"through phone\"]=\"\"\n",
    "responses_df3[\"Text message\"]=\"\"\n",
    "responses_df3[\"face to face\"]=\"\"\n",
    "responses_df3[\"through social media\"]=\"\"\n",
    "responses_df3.head(7)\n",
    "\n",
    "for index , row in responses_df3.iterrows():\n",
    "    if \"through phone\" in row['Which type of communication do you generally prefer?']:\n",
    "        row[\"through phone\"]=1\n",
    "    else:\n",
    "        row[\"through phone\"]=0\n",
    "    if \"Text message\" in row['Which type of communication do you generally prefer?']:\n",
    "        row[\"Text message\"]=1\n",
    "    else:\n",
    "        row[\"Text message\"]=0\n",
    "    if \"face to face\" in row['Which type of communication do you generally prefer?']:\n",
    "        row[\"face to face\"]=1\n",
    "    else:\n",
    "        row[\"face to face\"]=0\n",
    "    if \"through social media\" in row['Which type of communication do you generally prefer?']:\n",
    "        row[\"through social media\"]=1\n",
    "    else:\n",
    "        row[\"through social media\"]=0   \n",
    "    \n",
    "responses_df3.head(10)\n",
    "    "
   ]
  },
  {
   "cell_type": "code",
   "execution_count": null,
   "metadata": {},
   "outputs": [],
   "source": [
    "#Create table counting mention of prefered communication type for all data\n",
    "responses_df4=responses_df3[[\"How much time do you spend on social media in a day?\",\"through phone\",\"Text message\",\"face to face\",\"through social media\"]]\n",
    "responses_df4_g=responses_df4.groupby(\"How much time do you spend on social media in a day?\")\n",
    "responses_df4_groupby=responses_df4_g.sum()\n",
    "print(responses_df4_groupby.index)\n",
    "responses_df4_groupby=responses_df4_groupby.reindex([\"none\", \"less than 1 hr\", \"1 - 2.5 hrs\",\"upto 4 hrs\",\"more than 4 hrs\"])\n",
    "responses_df4_groupby"
   ]
  },
  {
   "cell_type": "code",
   "execution_count": null,
   "metadata": {},
   "outputs": [],
   "source": [
    "#Create table counting mention of prefered communication type for 18 to 21(young population)\n",
    "responses_3=response_1[[\"Which type of communication do you generally prefer?\",\"How much time do you spend on social media in a day?\"]]\n",
    "responses_3[\"through phone\"]=\"\"\n",
    "responses_3[\"Text message\"]=\"\"\n",
    "responses_3[\"face to face\"]=\"\"\n",
    "responses_3[\"through social media\"]=\"\"\n",
    "responses_3.head(7)\n",
    "\n",
    "for index , row in responses_3.iterrows():\n",
    "    if \"through phone\" in row['Which type of communication do you generally prefer?']:\n",
    "        row[\"through phone\"]=1\n",
    "    else:\n",
    "        row[\"through phone\"]=0\n",
    "    if \"Text message\" in row['Which type of communication do you generally prefer?']:\n",
    "        row[\"Text message\"]=1\n",
    "    else:\n",
    "        row[\"Text message\"]=0\n",
    "    if \"face to face\" in row['Which type of communication do you generally prefer?']:\n",
    "        row[\"face to face\"]=1\n",
    "    else:\n",
    "        row[\"face to face\"]=0\n",
    "    if \"through social media\" in row['Which type of communication do you generally prefer?']:\n",
    "        row[\"through social media\"]=1\n",
    "    else:\n",
    "        row[\"through social media\"]=0   \n",
    "    \n",
    "responses_3.head()"
   ]
  },
  {
   "cell_type": "code",
   "execution_count": null,
   "metadata": {},
   "outputs": [],
   "source": [
    "#Rearrange index \n",
    "responses_4=responses_3[[\"How much time do you spend on social media in a day?\",\"through phone\",\"Text message\",\"face to face\",\"through social media\"]]\n",
    "responses_4_g=responses_4.groupby(\"How much time do you spend on social media in a day?\")\n",
    "responses_4_groupby=responses_4_g.sum()\n",
    "print(responses_4_groupby.index)\n",
    "responses_4_groupby=responses_4_groupby.reindex([\"none\", \"less than 1 hr\", \"1 - 2.5 hrs\",\"upto 4 hrs\",\"more than 4 hrs\"])\n",
    "responses_4_groupby"
   ]
  },
  {
   "cell_type": "code",
   "execution_count": null,
   "metadata": {},
   "outputs": [],
   "source": [
    "#Plot time spend on social media vs No. of people prefer communication through phone\n",
    "x_axis = np.arange(len(responses_4_groupby.index))\n",
    "plt.plot(x_axis,[v[0] for v in responses_4_groupby[[\"through phone\"]].to_numpy().tolist()])\n",
    "tick_locations = [value for value in x_axis]\n",
    "plt.xticks(tick_locations, [j for j in responses_4_groupby.index])\n",
    "plt.xlabel(\"time spend on social media\")\n",
    "plt.ylabel(\"NO. of people prefer phone communication\")\n",
    "plt.title(\"time spend on social media vs. number of people prefer phone communication\")"
   ]
  },
  {
   "cell_type": "code",
   "execution_count": null,
   "metadata": {},
   "outputs": [],
   "source": [
    "#Plot time spend on social media vs No. of people prefer communication through phone with regression\n",
    "x_axis = np.arange(len(responses_4_groupby.index))\n",
    "plt.scatter(x_axis,[v[0] for v in responses_4_groupby[[\"through phone\"]].to_numpy().tolist()])\n",
    "tick_locations = [value for value in x_axis]\n",
    "\n",
    "#Plot regression line\n",
    "(slope,intercept,rvalue,pvalue,stderr)=sts.linregress(x_axis,[v[0] for v in responses_4_groupby[[\"through phone\"]].to_numpy().tolist()])\n",
    "linear_equation=\"NO. of people prefer phone communication=\"+str(round(slope,2))+\"*\"+\"x_axis\"+\"+\"+str(round(intercept,2))\n",
    "reg_value=slope*x_axis+intercept\n",
    "plt.plot(x_axis,reg_value,\"r-\")\n",
    "plt.annotate(linear_equation,(2,1),color=\"red\",fontsize=14)\n",
    "plt.xticks(tick_locations, [j for j in responses_4_groupby.index])\n",
    "\n",
    "\n",
    "print(f\"The r-squared is: {rvalue}\")\n",
    "plt.xlabel(\"time spend on social media\")\n",
    "plt.ylabel(\"NO. of people prefer phone communication\")\n",
    "plt.title(\"time spend on social media vs. number of people prefer phone communication\")\n"
   ]
  },
  {
   "cell_type": "code",
   "execution_count": null,
   "metadata": {},
   "outputs": [],
   "source": [
    "#Plot time spend on social media vs No. of people prefer communication through text message\n",
    "x_axis = np.arange(len(responses_df4_groupby.index))\n",
    "Youtube_plot=plt.plot(x_axis,[v[0] for v in responses_df4_groupby[[\"Text message\"]].to_numpy().tolist()])\n",
    "tick_locations = [value for value in x_axis]\n",
    "plt.xticks(tick_locations, [j for j in responses_df4_groupby.index])\n",
    "plt.xlabel(\"time spend on social media\")\n",
    "plt.ylabel(\"NO. of people perfer text message communication\")\n",
    "plt.title(\"time spend on social media vs. NO. of people perfer text message communication\")\n",
    "plt.figure(figsize=(300,300))"
   ]
  },
  {
   "cell_type": "code",
   "execution_count": null,
   "metadata": {},
   "outputs": [],
   "source": [
    "#Plot time spend on social media vs No. of people prefer communication through text message with regression\n",
    "x_axis = np.arange(len(responses_4_groupby.index))\n",
    "plt.scatter(x_axis,[v[0] for v in responses_4_groupby[[\"Text message\"]].to_numpy().tolist()])\n",
    "tick_locations = [value for value in x_axis]\n",
    "\n",
    "\n",
    "#Plot regression line\n",
    "(slope,intercept,rvalue,pvalue,stderr)=sts.linregress(x_axis,[v[0] for v in responses_4_groupby[[\"Text message\"]].to_numpy().tolist()])\n",
    "linear_equation=\"NO. of people prefer Text message communication=\"+str(round(slope,2))+\"*\"+\"x_axis\"+\"+\"+str(round(intercept,2))\n",
    "reg_value=slope*x_axis+intercept\n",
    "plt.plot(x_axis,reg_value,\"r-\")\n",
    "plt.annotate(linear_equation,(2,1),color=\"red\",fontsize=14)\n",
    "plt.xticks(tick_locations, [j for j in responses_4_groupby.index])\n",
    "\n",
    "\n",
    "print(f\"The r-squared is: {rvalue}\")\n",
    "plt.xlabel(\"time spend on social media\")\n",
    "plt.ylabel(\"NO. of people prefer Text message\")\n",
    "plt.title(\"time spend on social media vs. number of people prefer Text message\")\n"
   ]
  },
  {
   "cell_type": "code",
   "execution_count": null,
   "metadata": {},
   "outputs": [],
   "source": [
    "#Plot time spend on social media vs No. of people prefer face to face communication\n",
    "x_axis = np.arange(len(responses_df4_groupby.index))\n",
    "Youtube_plot=plt.plot(x_axis,[v[0] for v in responses_df4_groupby[[\"face to face\"]].to_numpy().tolist()])\n",
    "tick_locations = [value for value in x_axis]\n",
    "plt.xticks(tick_locations, [j for j in responses_df4_groupby.index])\n",
    "plt.xlabel(\"time spend on social media\")\n",
    "plt.ylabel(\"NO. of people perfer face to face communication\")\n",
    "plt.title(\"time spend on social media vs. NO. of people perfer face to face communication\")\n",
    "plt.figure(figsize=(300,300))"
   ]
  },
  {
   "cell_type": "code",
   "execution_count": null,
   "metadata": {},
   "outputs": [],
   "source": [
    "#Plot time spend on social media vs No. of people prefer face to face communication with regression\n",
    "x_axis = np.arange(len(responses_4_groupby.index))\n",
    "plt.scatter(x_axis,[v[0] for v in responses_4_groupby[[\"face to face\"]].to_numpy().tolist()])\n",
    "tick_locations = [value for value in x_axis]\n",
    "\n",
    "\n",
    "#Plot regression line\n",
    "(slope,intercept,rvalue,pvalue,stderr)=sts.linregress(x_axis,[v[0] for v in responses_4_groupby[[\"face to face\"]].to_numpy().tolist()])\n",
    "linear_equation=\"NO. of people prefer face to face communication=\"+str(round(slope,2))+\"*\"+\"x_axis\"+\"+\"+str(round(intercept,2))\n",
    "reg_value=slope*x_axis+intercept\n",
    "plt.plot(x_axis,reg_value,\"r-\")\n",
    "plt.annotate(linear_equation,(0,1),color=\"red\",fontsize=14)\n",
    "plt.xticks(tick_locations, [j for j in responses_4_groupby.index])\n",
    "\n",
    "\n",
    "print(f\"The r-squared is: {rvalue}\")\n",
    "plt.xlabel(\"time spend on social media\")\n",
    "plt.ylabel(\"NO. of people prefer face to face communication\")\n",
    "plt.title(\"time spend on social media vs. number of people prefer face to face communication\")\n"
   ]
  },
  {
   "cell_type": "code",
   "execution_count": null,
   "metadata": {},
   "outputs": [],
   "source": [
    "#Plot time spend on social media vs No. of people prefer communication through social media\n",
    "x_axis = np.arange(len(responses_df4_groupby.index))\n",
    "Youtube_plot=plt.plot(x_axis,[v[0] for v in responses_df4_groupby[[\"through social media\"]].to_numpy().tolist()])\n",
    "tick_locations = [value for value in x_axis]\n",
    "plt.xticks(tick_locations, [j for j in responses_df4_groupby.index])\n",
    "plt.xlabel(\"time spend on social media\")\n",
    "plt.ylabel(\"NO.of people perfer communication over social media\")\n",
    "plt.title(\"time spend on social media vs. NO.of people perfer communication on social media\")\n",
    "plt.figure(figsize=(400,400))"
   ]
  },
  {
   "cell_type": "code",
   "execution_count": null,
   "metadata": {},
   "outputs": [],
   "source": [
    "#Plot time spend on social media vs No. of people prefer through social media communication with regression\n",
    "x_axis = np.arange(len(responses_4_groupby.index))\n",
    "plt.scatter(x_axis,[v[0] for v in responses_4_groupby[[\"through social media\"]].to_numpy().tolist()])\n",
    "tick_locations = [value for value in x_axis]\n",
    "\n",
    "\n",
    "#Plot regression line\n",
    "(slope,intercept,rvalue,pvalue,stderr)=sts.linregress(x_axis,[v[0] for v in responses_4_groupby[[\"through social media\"]].to_numpy().tolist()])\n",
    "linear_equation=\"NO. of people prefer through social media communication=\"+str(round(slope,2))+\"*\"+\"x_axis\"+\"+\"+str(round(intercept,2))\n",
    "reg_value=slope*x_axis+intercept\n",
    "plt.plot(x_axis,reg_value,\"r-\")\n",
    "plt.annotate(linear_equation,(2,1),color=\"red\",fontsize=14)\n",
    "plt.xticks(tick_locations, [j for j in responses_4_groupby.index])\n",
    "\n",
    "\n",
    "print(f\"The r-squared is: {rvalue}\")\n",
    "plt.xlabel(\"time spend on social media\")\n",
    "plt.ylabel(\"NO. of people prefer communication on social media\")\n",
    "plt.title(\"time spend on social media vs. NO. of people prefer communication on social media\")\n"
   ]
  },
  {
   "cell_type": "code",
   "execution_count": null,
   "metadata": {},
   "outputs": [],
   "source": [
    "#Share of people with certain communication perference base on hour spend on social media\n",
    "responses_41_groupby= responses_4_groupby.div(responses_4_groupby.sum(axis=1), axis=0)\n",
    "def my_autopct(pct):\n",
    "    return ('%.2f' % pct) if pct > 0 else ''\n",
    "fig, axs = plt.subplots(nrows=responses_41_groupby.index.size, ncols=1, figsize=(50,50))\n",
    "\n",
    "fig.subplots_adjust(hspace=0.5, wspace=0.05)\n",
    "\n",
    "i=0\n",
    "for row in range(responses_41_groupby.index.size ):\n",
    "    explode=(0.2,0.1,0.1,0.1)\n",
    "    fig.add_subplot(axs[row] )\n",
    "    plt.pie(responses_41_groupby.loc[responses_41_groupby.index[row],:], labels=responses_41_groupby.columns,explode=explode,autopct=my_autopct, shadow=True, startangle=90)\n",
    "    plt.axis('off')\n",
    "    plt.title(responses_41_groupby.index[i])\n",
    "    i=i+1"
   ]
  },
  {
   "cell_type": "code",
   "execution_count": null,
   "metadata": {},
   "outputs": [],
   "source": [
    "#Compare NO. of people with different communication type preference base on hours spend on social media per day\n",
    "through_phone, = plt.plot(x_axis,[v[0] for v in responses_4_groupby[[\"through phone\"]].to_numpy().tolist()],label=\"through phone\" )\n",
    "Text_message, = plt.plot(x_axis,[v[0] for v in responses_4_groupby[[\"Text message\"]].to_numpy().tolist()],label=\"Text message\")\n",
    "face_to_face, = plt.plot(x_axis,[v[0] for v in responses_4_groupby[[\"face to face\"]].to_numpy().tolist()],label=\"face to face\")\n",
    "through_social_media, = plt.plot(x_axis,[v[0] for v in responses_4_groupby[[\"through social media\"]].to_numpy().tolist()],label=\"through social media\")\n",
    "plt.legend(handles=[through_phone, Text_message,face_to_face,through_social_media, ], loc=\"best\")\n",
    "plt.xticks(tick_locations, [j for j in responses_4_groupby.index])\n",
    "plt.xlabel(\"time spend on social media\")\n",
    "plt.ylabel(\"NO. of people perfer certain communication\")\n",
    "plt.title(\"time spend on social media vs. NO. of people perfer certain communication\")\n",
    "plt.figure(figsize=(5,15))\n",
    "plt.show()\n",
    "\n",
    "\n",
    "through_phone_list=[v[0] for v in responses_4_groupby[[\"through phone\"]].to_numpy().tolist()]\n",
    "phone_percent=[v/sum(through_phone_list) for v in through_phone_list]\n",
    "print(phone_percent)\n",
    "\n",
    "\n",
    "Text_message_list=[v[0] for v in responses_4_groupby[[\"Text message\"]].to_numpy().tolist()]\n",
    "message_percent=[v/sum(Text_message_list) for v in Text_message_list]\n",
    "print(message_percent)\n",
    "\n",
    "face_to_face_list=[v[0] for v in responses_4_groupby[[\"face to face\"]].to_numpy().tolist()]\n",
    "face_to_face_percent=[v/sum(face_to_face_list) for v in face_to_face_list]\n",
    "print(face_to_face_percent)\n",
    "      \n",
    "       "
   ]
  },
  {
   "cell_type": "code",
   "execution_count": null,
   "metadata": {},
   "outputs": [],
   "source": [
    "responses_df"
   ]
  },
  {
   "cell_type": "code",
   "execution_count": null,
   "metadata": {},
   "outputs": [],
   "source": [
    "responses_df5=responses_df[[\"Have you ever been a victim of any of these cyber crimes?\",\"How much time do you spend on social media in a day?\"]]\n",
    "responses_df5[\"Fake profiles\"]=\"\"\n",
    "responses_df5[\"Photos being misused\"]=\"\"\n",
    "responses_df5[\"Hacking\"]=\"\"\n",
    "responses_df5[\"None of the above\"]=\"\"\n",
    "responses_df5.head(7)\n",
    "\n",
    "for index , row in responses_df5.iterrows():\n",
    "    if \"Fake profiles\" in row['Have you ever been a victim of any of these cyber crimes?']:\n",
    "        row[\"Fake profiles\"]=1\n",
    "    else:\n",
    "        row[\"Fake profiles\"]=0\n",
    "    if \"Photos being misused\" in row['Have you ever been a victim of any of these cyber crimes?']:\n",
    "        row[\"Photos being misused\"]=1\n",
    "    else:\n",
    "        row[\"Photos being misused\"]=0\n",
    "    if \"Hacking\" in row['Have you ever been a victim of any of these cyber crimes?']:\n",
    "        row[\"Hacking\"]=1\n",
    "    else:\n",
    "        row[\"Hacking\"]=0\n",
    "    if \"None of the above\" in row['Have you ever been a victim of any of these cyber crimes?']:\n",
    "        row[\"None of the above\"]=1\n",
    "    else:\n",
    "        row[\"None of the above\"]=0   \n",
    "    \n",
    "responses_df5.head()\n",
    "    \n",
    "    "
   ]
  },
  {
   "cell_type": "code",
   "execution_count": null,
   "metadata": {},
   "outputs": [],
   "source": [
    "responses_df6=responses_df5[[\"How much time do you spend on social media in a day?\",\"Fake profiles\",\"Photos being misused\",\"Hacking\",\"None of the above\"]]\n",
    "responses_df6_g=responses_df6.groupby(\"How much time do you spend on social media in a day?\")\n",
    "responses_df6_groupby=responses_df6_g.sum()\n",
    "print(responses_df6)\n",
    "responses_df6_groupby=responses_df6_groupby.reindex([\"none\", \"less than 1 hr\", \"1 - 2.5 hrs\",\"upto 4 hrs\",\"more than 4 hrs\"])\n",
    "responses_df6_groupby"
   ]
  },
  {
   "cell_type": "code",
   "execution_count": null,
   "metadata": {},
   "outputs": [],
   "source": [
    "responses_5=response_1[[\"Have you ever been a victim of any of these cyber crimes?\",\"How much time do you spend on social media in a day?\"]]\n",
    "responses_5[\"Fake profiles\"]=\"\"\n",
    "responses_5[\"Photos being misused\"]=\"\"\n",
    "responses_5[\"Hacking\"]=\"\"\n",
    "responses_5[\"None of the above\"]=\"\"\n",
    "responses_5.head(7)\n",
    "\n",
    "for index , row in responses_5.iterrows():\n",
    "    if \"Fake profiles\" in row['Have you ever been a victim of any of these cyber crimes?']:\n",
    "        row[\"Fake profiles\"]=1\n",
    "    else:\n",
    "        row[\"Fake profiles\"]=0\n",
    "    if \"Photos being misused\" in row['Have you ever been a victim of any of these cyber crimes?']:\n",
    "        row[\"Photos being misused\"]=1\n",
    "    else:\n",
    "        row[\"Photos being misused\"]=0\n",
    "    if \"Hacking\" in row['Have you ever been a victim of any of these cyber crimes?']:\n",
    "        row[\"Hacking\"]=1\n",
    "    else:\n",
    "        row[\"Hacking\"]=0\n",
    "    if \"None of the above\" in row['Have you ever been a victim of any of these cyber crimes?']:\n",
    "        row[\"None of the above\"]=1\n",
    "    else:\n",
    "        row[\"None of the above\"]=0   \n",
    "    \n",
    "responses_5.head()"
   ]
  },
  {
   "cell_type": "code",
   "execution_count": null,
   "metadata": {},
   "outputs": [],
   "source": [
    "responses_6=responses_5[[\"How much time do you spend on social media in a day?\",\"Fake profiles\",\"Photos being misused\",\"Hacking\",\"None of the above\"]]\n",
    "responses_6_g=responses_6.groupby(\"How much time do you spend on social media in a day?\")\n",
    "responses_6_groupby=responses_6_g.sum()\n",
    "print(responses_6_groupby.index)\n",
    "responses_6_groupby=responses_6_groupby.reindex([\"none\", \"less than 1 hr\", \"1 - 2.5 hrs\",\"upto 4 hrs\",\"more than 4 hrs\"])\n",
    "responses_6_groupby"
   ]
  },
  {
   "cell_type": "code",
   "execution_count": null,
   "metadata": {},
   "outputs": [],
   "source": [
    "#Plot time spend on social media vs No. of people suffer from Fake profiles\n",
    "x_axis = np.arange(len(responses_df6_groupby.index))\n",
    "plt.plot(x_axis,[v[0] for v in responses_df6_groupby[[\"Fake profiles\"]].to_numpy().tolist()])\n",
    "tick_locations = [value for value in x_axis]\n",
    "plt.xticks(tick_locations, [j for j in responses_df6_groupby.index])\n",
    "plt.xlabel(\"time spend on social media\")\n",
    "plt.ylabel(\"No. of people suffer from Fake profiles\")\n",
    "plt.title(\"time spend on social media vs. No. of people suffer from Fake profiles\")"
   ]
  },
  {
   "cell_type": "code",
   "execution_count": null,
   "metadata": {},
   "outputs": [],
   "source": [
    "#Plot time spend on social media vs No. of people suffer from Fake profiles with regression\n",
    "x_axis = np.arange(len(responses_6_groupby.index))\n",
    "plt.scatter(x_axis,[v[0] for v in responses_6_groupby[[\"Fake profiles\"]].to_numpy().tolist()])\n",
    "tick_locations = [value for value in x_axis]\n",
    "\n",
    "\n",
    "#Plot regression line\n",
    "(slope,intercept,rvalue,pvalue,stderr)=sts.linregress(x_axis,[v[0] for v in responses_6_groupby[[\"Fake profiles\"]].to_numpy().tolist()])\n",
    "linear_equation=\"No. of people suffer from Fake profiles=\"+str(round(slope,2))+\"*\"+\"x_axis\"+\"+\"+str(round(intercept,2))\n",
    "reg_value=slope*x_axis+intercept\n",
    "plt.plot(x_axis,reg_value,\"r-\")\n",
    "plt.annotate(linear_equation,(2,1),color=\"red\",fontsize=14)\n",
    "plt.xticks(tick_locations, [j for j in responses_6_groupby.index])\n",
    "\n",
    "\n",
    "print(f\"The r-squared is: {rvalue}\")\n",
    "plt.xlabel(\"time spend on social media\")\n",
    "plt.ylabel(\"No. of people suffer from Fake profiles\")\n",
    "plt.title(\"time spend on social media vs. No. of people suffer from Fake profiles\")\n"
   ]
  },
  {
   "cell_type": "code",
   "execution_count": null,
   "metadata": {},
   "outputs": [],
   "source": [
    "#Plot time spend on social media vs No. of people suffer from Photos being misused\n",
    "x_axis = np.arange(len(responses_df6_groupby.index))\n",
    "plt.plot(x_axis,[v[0] for v in responses_df6_groupby[[\"Photos being misused\"]].to_numpy().tolist()])\n",
    "tick_locations = [value for value in x_axis]\n",
    "plt.xticks(tick_locations, [j for j in responses_df6_groupby.index])\n",
    "plt.xlabel(\"time spend on social media\")\n",
    "plt.ylabel(\"No. of people suffer from Photos being misused\")\n",
    "plt.title(\"time spend on social media vs. No. of people suffer from Photos being misused\")\n",
    "plt.figure(figsize=(300,300))"
   ]
  },
  {
   "cell_type": "code",
   "execution_count": null,
   "metadata": {},
   "outputs": [],
   "source": [
    "#Plot time spend on social media vs No. of people suffer from Photos being misused with regression\n",
    "x_axis = np.arange(len(responses_6_groupby.index))\n",
    "plt.scatter(x_axis,[v[0] for v in responses_6_groupby[[\"Photos being misused\"]].to_numpy().tolist()])\n",
    "tick_locations = [value for value in x_axis]\n",
    "\n",
    "\n",
    "#Plot regression line\n",
    "(slope,intercept,rvalue,pvalue,stderr)=sts.linregress(x_axis,[v[0] for v in responses_6_groupby[[\"Photos being misused\"]].to_numpy().tolist()])\n",
    "linear_equation=\"No. of people suffer from Photos being misused=\"+str(round(slope,2))+\"*\"+\"x_axis\"+\"+\"+str(round(intercept,2))\n",
    "reg_value=slope*x_axis+intercept\n",
    "plt.plot(x_axis,reg_value,\"r-\")\n",
    "plt.annotate(linear_equation,(0,0),color=\"red\",fontsize=14)\n",
    "plt.xticks(tick_locations, [j for j in responses_6_groupby.index])\n",
    "\n",
    "\n",
    "print(f\"The r-squared is: {rvalue}\")\n",
    "plt.xlabel(\"time spend on social media\")\n",
    "plt.ylabel(\"No. of people suffer from Photos being misused\")\n",
    "plt.title(\"time spend on social media vs. No. of people suffer from Photos being misused\")\n"
   ]
  },
  {
   "cell_type": "code",
   "execution_count": null,
   "metadata": {},
   "outputs": [],
   "source": [
    "#Plot time spend on social media vs No. of people suffer from Hacking\n",
    "x_axis = np.arange(len(responses_df6_groupby.index))\n",
    "Youtube_plot=plt.plot(x_axis,[v[0] for v in responses_df6_groupby[[\"Hacking\"]].to_numpy().tolist()])\n",
    "tick_locations = [value for value in x_axis]\n",
    "plt.xticks(tick_locations, [j for j in responses_df6_groupby.index])\n",
    "plt.xlabel(\"time spend on social media\")\n",
    "plt.ylabel(\"No. of people suffer from Hacking\")\n",
    "plt.title(\"time spend on social media vs. No. of people suffer from Hacking\")"
   ]
  },
  {
   "cell_type": "code",
   "execution_count": null,
   "metadata": {},
   "outputs": [],
   "source": [
    "#Plot time spend on social media vs No. of people suffer from Hacking with regression\n",
    "x_axis = np.arange(len(responses_6_groupby.index))\n",
    "plt.scatter(x_axis,[v[0] for v in responses_6_groupby[[\"Hacking\"]].to_numpy().tolist()])\n",
    "tick_locations = [value for value in x_axis]\n",
    "\n",
    "\n",
    "#Plot regression line\n",
    "(slope,intercept,rvalue,pvalue,stderr)=sts.linregress(x_axis,[v[0] for v in responses_6_groupby[[\"Hacking\"]].to_numpy().tolist()])\n",
    "linear_equation=\"No. of people suffer from Hacking=\"+str(round(slope,2))+\"*\"+\"x_axis\"+\"+\"+str(round(intercept,2))\n",
    "reg_value=slope*x_axis+intercept\n",
    "plt.plot(x_axis,reg_value,\"r-\")\n",
    "plt.annotate(linear_equation,(2,1),color=\"red\",fontsize=14)\n",
    "plt.xticks(tick_locations, [j for j in responses_6_groupby.index])\n",
    "\n",
    "\n",
    "print(f\"The r-squared is: {rvalue}\")\n",
    "plt.xlabel(\"time spend on social media\")\n",
    "plt.ylabel(\"No. of people suffer from Hacking\")\n",
    "plt.title(\"time spend on social media vs. No. of people suffer from Hacking\")\n"
   ]
  },
  {
   "cell_type": "code",
   "execution_count": null,
   "metadata": {},
   "outputs": [],
   "source": [
    "#Plot time spend on social media vs No. of people suffer from other cyber crimes\n",
    "x_axis = np.arange(len(responses_df6_groupby.index))\n",
    "Youtube_plot=plt.plot(x_axis,[v[0] for v in responses_df6_groupby[[\"None of the above\"]].to_numpy().tolist()])\n",
    "tick_locations = [value for value in x_axis]\n",
    "plt.xticks(tick_locations, [j for j in responses_df6_groupby.index])\n",
    "plt.xlabel(\"time spend on social media\")\n",
    "plt.ylabel(\"No. of people suffer from other cyber crimes\")\n",
    "plt.title(\"time spend on social media vs. No. of people suffer from other cyber crimes\")"
   ]
  },
  {
   "cell_type": "code",
   "execution_count": null,
   "metadata": {},
   "outputs": [],
   "source": [
    "#Plot time spend on social media vs No. of people suffer from other cyber crimes with regression\n",
    "x_axis = np.arange(len(responses_6_groupby.index))\n",
    "plt.scatter(x_axis,[v[0] for v in responses_6_groupby[[\"None of the above\"]].to_numpy().tolist()])\n",
    "tick_locations = [value for value in x_axis]\n",
    "\n",
    "\n",
    "#Plot regression line\n",
    "(slope,intercept,rvalue,pvalue,stderr)=sts.linregress(x_axis,[v[0] for v in responses_6_groupby[[\"None of the above\"]].to_numpy().tolist()])\n",
    "linear_equation=\"No. of people suffer from other cyber crimes=\"+str(round(slope,2))+\"*\"+\"x_axis\"+\"+\"+str(round(intercept,2))\n",
    "reg_value=slope*x_axis+intercept\n",
    "plt.plot(x_axis,reg_value,\"r-\")\n",
    "plt.annotate(linear_equation,(0,1),color=\"red\",fontsize=14)\n",
    "plt.xticks(tick_locations, [j for j in responses_6_groupby.index])\n",
    "\n",
    "\n",
    "print(f\"The r-squared is: {rvalue}\")\n",
    "plt.xlabel(\"time spend on social media\")\n",
    "plt.ylabel(\"No. of people suffer from other cyber crimes\")\n",
    "plt.title(\"time spend on social media vs. No. of people suffer from other cyber crimes\")\n"
   ]
  },
  {
   "cell_type": "code",
   "execution_count": null,
   "metadata": {},
   "outputs": [],
   "source": [
    "#Share of type of cyber crime faced base on people's usual hour spend on social media per day\n",
    "responses_61_groupby= responses_6_groupby.div(responses_6_groupby.sum(axis=1), axis=0)\n",
    "def my_autopct(pct):\n",
    "    return ('%.2f' % pct) if pct > 0 else ''\n",
    "fig, axs = plt.subplots(nrows=responses_61_groupby.index.size, ncols=1, figsize=(50,50))\n",
    "\n",
    "fig.subplots_adjust(hspace=0.5, wspace=0.05)\n",
    "\n",
    "i=0\n",
    "for row in range(responses_61_groupby.index.size ):\n",
    "    explode=(0.2,0.1,0.1,0.1)\n",
    "    fig.add_subplot(axs[row] )\n",
    "    plt.pie(responses_61_groupby.loc[responses_21_groupby.index[row],:], labels=responses_61_groupby.columns,explode=explode,autopct=my_autopct, shadow=True, startangle=120)\n",
    "    plt.axis('off')\n",
    "    plt.title(responses_61_groupby.index[i])\n",
    "    i=i+1"
   ]
  },
  {
   "cell_type": "code",
   "execution_count": null,
   "metadata": {},
   "outputs": [],
   "source": [
    "#Compare NO.of people facing different cyber crime base on hours spend on social media per day\n",
    "Fake_profiles, = plt.plot(x_axis,[v[0] for v in responses_6_groupby[[\"Fake profiles\"]].to_numpy().tolist()],label=\"Fake profiles\" )\n",
    "Photos_being_misused, = plt.plot(x_axis,[v[0] for v in responses_6_groupby[[\"Photos being misused\"]].to_numpy().tolist()],label=\"Photos being misused\")\n",
    "Hacking, = plt.plot(x_axis,[v[0] for v in responses_6_groupby[[\"Hacking\"]].to_numpy().tolist()],label=\"Hacking\")\n",
    "Other_cyber_crimes, = plt.plot(x_axis,[v[0] for v in responses_6_groupby[[\"None of the above\"]].to_numpy().tolist()],label=\"Other cyber crimes\")\n",
    "plt.legend(handles=[Fake_profiles, Photos_being_misused,Hacking,Other_cyber_crimes,], loc=\"best\")\n",
    "plt.xticks(tick_locations, [j for j in responses_6_groupby.index])\n",
    "plt.xlabel(\"time spend on social media\")\n",
    "plt.ylabel(\"NO. of people suffering from cyber crime\")\n",
    "plt.title(\"time spend on social media vs. NO. of people suffering from cyber crime\")\n",
    "plt.figure(figsize=(5,15))\n",
    "plt.show()\n",
    "\n"
   ]
  },
  {
   "cell_type": "code",
   "execution_count": 5,
   "metadata": {},
   "outputs": [
    {
     "ename": "NameError",
     "evalue": "name 'responses_df5' is not defined",
     "output_type": "error",
     "traceback": [
      "\u001b[1;31m---------------------------------------------------------------------------\u001b[0m",
      "\u001b[1;31mNameError\u001b[0m                                 Traceback (most recent call last)",
      "\u001b[1;32m<ipython-input-5-ec92ab3b057f>\u001b[0m in \u001b[0;36m<module>\u001b[1;34m\u001b[0m\n\u001b[0;32m      1\u001b[0m \u001b[1;31m#bar chart of respondents exposure to crime, what type of crime\u001b[0m\u001b[1;33m\u001b[0m\u001b[1;33m\u001b[0m\u001b[1;33m\u001b[0m\u001b[0m\n\u001b[0;32m      2\u001b[0m \u001b[0mcrime_type\u001b[0m\u001b[1;33m=\u001b[0m\u001b[1;33m[\u001b[0m\u001b[1;34m'Fake profiles'\u001b[0m\u001b[1;33m,\u001b[0m\u001b[1;34m'Photos being misused'\u001b[0m\u001b[1;33m,\u001b[0m\u001b[1;34m'Hacking'\u001b[0m\u001b[1;33m,\u001b[0m\u001b[1;34m'None of the above'\u001b[0m\u001b[1;33m]\u001b[0m\u001b[1;33m\u001b[0m\u001b[1;33m\u001b[0m\u001b[0m\n\u001b[1;32m----> 3\u001b[1;33m \u001b[0mnumb_resps\u001b[0m\u001b[1;33m=\u001b[0m\u001b[1;33m[\u001b[0m\u001b[0mresponses_df5\u001b[0m\u001b[1;33m[\u001b[0m\u001b[1;34m'Fake profiles'\u001b[0m\u001b[1;33m]\u001b[0m\u001b[1;33m.\u001b[0m\u001b[0msum\u001b[0m\u001b[1;33m(\u001b[0m\u001b[1;33m)\u001b[0m\u001b[1;33m,\u001b[0m\u001b[0mresponses_df5\u001b[0m\u001b[1;33m[\u001b[0m\u001b[1;34m'Photos being misused'\u001b[0m\u001b[1;33m]\u001b[0m\u001b[1;33m.\u001b[0m\u001b[0msum\u001b[0m\u001b[1;33m(\u001b[0m\u001b[1;33m)\u001b[0m\u001b[1;33m,\u001b[0m\u001b[0mresponses_df5\u001b[0m\u001b[1;33m[\u001b[0m\u001b[1;34m'Hacking'\u001b[0m\u001b[1;33m]\u001b[0m\u001b[1;33m.\u001b[0m\u001b[0msum\u001b[0m\u001b[1;33m(\u001b[0m\u001b[1;33m)\u001b[0m\u001b[1;33m,\u001b[0m\u001b[0mresponses_df5\u001b[0m\u001b[1;33m[\u001b[0m\u001b[1;34m'None of the above'\u001b[0m\u001b[1;33m]\u001b[0m\u001b[1;33m.\u001b[0m\u001b[0msum\u001b[0m\u001b[1;33m(\u001b[0m\u001b[1;33m)\u001b[0m\u001b[1;33m]\u001b[0m\u001b[1;33m\u001b[0m\u001b[1;33m\u001b[0m\u001b[0m\n\u001b[0m\u001b[0;32m      4\u001b[0m \u001b[0mplt\u001b[0m\u001b[1;33m.\u001b[0m\u001b[0mbar\u001b[0m\u001b[1;33m(\u001b[0m\u001b[0mcrime_type\u001b[0m\u001b[1;33m,\u001b[0m\u001b[0mnumb_resps\u001b[0m\u001b[1;33m,\u001b[0m \u001b[0mcolor\u001b[0m\u001b[1;33m=\u001b[0m\u001b[1;34m\"lightgreen\"\u001b[0m\u001b[1;33m,\u001b[0m \u001b[0malign\u001b[0m\u001b[1;33m=\u001b[0m\u001b[1;34m\"center\"\u001b[0m\u001b[1;33m,\u001b[0m \u001b[0mwidth\u001b[0m \u001b[1;33m=\u001b[0m \u001b[1;36m0.75\u001b[0m\u001b[1;33m)\u001b[0m\u001b[1;33m\u001b[0m\u001b[1;33m\u001b[0m\u001b[0m\n\u001b[0;32m      5\u001b[0m \u001b[0mplt\u001b[0m\u001b[1;33m.\u001b[0m\u001b[0mtitle\u001b[0m\u001b[1;33m(\u001b[0m\u001b[1;34m\"Have you ever been a victim of any of these cyber crimes?\"\u001b[0m\u001b[1;33m)\u001b[0m\u001b[1;33m\u001b[0m\u001b[1;33m\u001b[0m\u001b[0m\n",
      "\u001b[1;31mNameError\u001b[0m: name 'responses_df5' is not defined"
     ]
    }
   ],
   "source": [
    "#bar chart of respondents exposure to crime, what type of crime\n",
    "crime_type=['Fake profiles','Photos being misused','Hacking','None of the above']\n",
    "numb_resps=[responses_df5['Fake profiles'].sum(),responses_df5['Photos being misused'].sum(),responses_df5['Hacking'].sum(),responses_df5['None of the above'].sum()]\n",
    "plt.bar(crime_type,numb_resps, color=\"lightgreen\", align=\"center\", width = 0.75)\n",
    "plt.title(\"Have you ever been a victim of any of these cyber crimes?\")\n",
    "tick_locations = [value for value in x_axis]\n",
    "plt.xticks(tick_locations, list(crime_type), rotation=\"vertical\")\n",
    "plt.xlabel(\"Type of Cyber Crime\")\n",
    "plt.ylabel(\"Number of Responses\")\n",
    "plt.show()"
   ]
  },
  {
   "cell_type": "code",
   "execution_count": 6,
   "metadata": {},
   "outputs": [
    {
     "ename": "NameError",
     "evalue": "name 'responses_df3' is not defined",
     "output_type": "error",
     "traceback": [
      "\u001b[1;31m---------------------------------------------------------------------------\u001b[0m",
      "\u001b[1;31mNameError\u001b[0m                                 Traceback (most recent call last)",
      "\u001b[1;32m<ipython-input-6-2a1077ee1e6a>\u001b[0m in \u001b[0;36m<module>\u001b[1;34m\u001b[0m\n\u001b[0;32m      1\u001b[0m \u001b[1;31m#bar chart of respondents of preferred communication\u001b[0m\u001b[1;33m\u001b[0m\u001b[1;33m\u001b[0m\u001b[1;33m\u001b[0m\u001b[0m\n\u001b[0;32m      2\u001b[0m \u001b[0mcomm_list\u001b[0m\u001b[1;33m=\u001b[0m\u001b[1;33m[\u001b[0m\u001b[1;34m'Phone Call'\u001b[0m\u001b[1;33m,\u001b[0m\u001b[1;34m'Text Message'\u001b[0m\u001b[1;33m,\u001b[0m\u001b[1;34m'Face to Face'\u001b[0m\u001b[1;33m,\u001b[0m\u001b[1;34m'Social Media'\u001b[0m\u001b[1;33m]\u001b[0m\u001b[1;33m\u001b[0m\u001b[1;33m\u001b[0m\u001b[0m\n\u001b[1;32m----> 3\u001b[1;33m \u001b[0mcomm_resps\u001b[0m\u001b[1;33m=\u001b[0m\u001b[1;33m[\u001b[0m\u001b[0mresponses_df3\u001b[0m\u001b[1;33m[\u001b[0m\u001b[1;34m'through phone'\u001b[0m\u001b[1;33m]\u001b[0m\u001b[1;33m.\u001b[0m\u001b[0msum\u001b[0m\u001b[1;33m(\u001b[0m\u001b[1;33m)\u001b[0m\u001b[1;33m,\u001b[0m\u001b[0mresponses_df3\u001b[0m\u001b[1;33m[\u001b[0m\u001b[1;34m'Text message'\u001b[0m\u001b[1;33m]\u001b[0m\u001b[1;33m.\u001b[0m\u001b[0msum\u001b[0m\u001b[1;33m(\u001b[0m\u001b[1;33m)\u001b[0m\u001b[1;33m,\u001b[0m\u001b[0mresponses_df3\u001b[0m\u001b[1;33m[\u001b[0m\u001b[1;34m'face to face'\u001b[0m\u001b[1;33m]\u001b[0m\u001b[1;33m.\u001b[0m\u001b[0msum\u001b[0m\u001b[1;33m(\u001b[0m\u001b[1;33m)\u001b[0m\u001b[1;33m,\u001b[0m\u001b[0mresponses_df3\u001b[0m\u001b[1;33m[\u001b[0m\u001b[1;34m'through social media'\u001b[0m\u001b[1;33m]\u001b[0m\u001b[1;33m.\u001b[0m\u001b[0msum\u001b[0m\u001b[1;33m(\u001b[0m\u001b[1;33m)\u001b[0m\u001b[1;33m]\u001b[0m\u001b[1;33m\u001b[0m\u001b[1;33m\u001b[0m\u001b[0m\n\u001b[0m\u001b[0;32m      4\u001b[0m \u001b[0mplt\u001b[0m\u001b[1;33m.\u001b[0m\u001b[0mbar\u001b[0m\u001b[1;33m(\u001b[0m\u001b[0mcomm_list\u001b[0m\u001b[1;33m,\u001b[0m\u001b[0mcomm_resps\u001b[0m\u001b[1;33m,\u001b[0m \u001b[0mcolor\u001b[0m\u001b[1;33m=\u001b[0m\u001b[1;34m\"purple\"\u001b[0m\u001b[1;33m,\u001b[0m \u001b[0malign\u001b[0m\u001b[1;33m=\u001b[0m\u001b[1;34m\"center\"\u001b[0m\u001b[1;33m,\u001b[0m \u001b[0mwidth\u001b[0m \u001b[1;33m=\u001b[0m \u001b[1;36m0.5\u001b[0m\u001b[1;33m)\u001b[0m\u001b[1;33m\u001b[0m\u001b[1;33m\u001b[0m\u001b[0m\n\u001b[0;32m      5\u001b[0m \u001b[0mplt\u001b[0m\u001b[1;33m.\u001b[0m\u001b[0mtitle\u001b[0m\u001b[1;33m(\u001b[0m\u001b[1;34m\"Which type of communication do you generally prefer?\"\u001b[0m\u001b[1;33m)\u001b[0m\u001b[1;33m\u001b[0m\u001b[1;33m\u001b[0m\u001b[0m\n",
      "\u001b[1;31mNameError\u001b[0m: name 'responses_df3' is not defined"
     ]
    }
   ],
   "source": [
    "#bar chart of respondents of preferred communication \n",
    "comm_list=['Phone Call','Text Message','Face to Face','Social Media']\n",
    "comm_resps=[responses_df3['through phone'].sum(),responses_df3['Text message'].sum(),responses_df3['face to face'].sum(),responses_df3['through social media'].sum()]\n",
    "plt.bar(comm_list,comm_resps, color=\"purple\", align=\"center\", width = 0.5)\n",
    "plt.title(\"Which type of communication do you generally prefer?\")\n",
    "tick_locations = [value for value in x_axis]\n",
    "plt.xticks(tick_locations, list(comm_list), rotation=\"vertical\")\n",
    "plt.xlabel(\"Preferred Communication\")\n",
    "plt.ylabel(\"Number of Responses\")\n",
    "plt.show()\n"
   ]
  },
  {
   "cell_type": "code",
   "execution_count": 7,
   "metadata": {},
   "outputs": [
    {
     "ename": "NameError",
     "evalue": "name 'responses_df' is not defined",
     "output_type": "error",
     "traceback": [
      "\u001b[1;31m---------------------------------------------------------------------------\u001b[0m",
      "\u001b[1;31mNameError\u001b[0m                                 Traceback (most recent call last)",
      "\u001b[1;32m<ipython-input-7-762d0f7c961a>\u001b[0m in \u001b[0;36m<module>\u001b[1;34m\u001b[0m\n\u001b[0;32m      1\u001b[0m \u001b[1;31m# Creating a pie chart considering respondent age (14 to 23)\u001b[0m\u001b[1;33m\u001b[0m\u001b[1;33m\u001b[0m\u001b[1;33m\u001b[0m\u001b[0m\n\u001b[1;32m----> 2\u001b[1;33m \u001b[0mage_df\u001b[0m \u001b[1;33m=\u001b[0m \u001b[0mresponses_df\u001b[0m\u001b[1;33m[\u001b[0m\u001b[1;34m'What is your age?'\u001b[0m\u001b[1;33m]\u001b[0m\u001b[1;33m\u001b[0m\u001b[1;33m\u001b[0m\u001b[0m\n\u001b[0m\u001b[0;32m      3\u001b[0m \u001b[0mage_details\u001b[0m \u001b[1;33m=\u001b[0m \u001b[1;33m[\u001b[0m\u001b[1;34m\"Age-19\"\u001b[0m\u001b[1;33m,\u001b[0m \u001b[1;34m\"Age-18\"\u001b[0m\u001b[1;33m,\u001b[0m \u001b[1;34m\"Age-20\"\u001b[0m\u001b[1;33m,\u001b[0m \u001b[1;34m\"Age-21\"\u001b[0m\u001b[1;33m,\u001b[0m \u001b[1;34m\"Age-23\"\u001b[0m\u001b[1;33m,\u001b[0m \u001b[1;34m\"Age-17\"\u001b[0m\u001b[1;33m,\u001b[0m \u001b[1;34m\"Age-22\"\u001b[0m\u001b[1;33m,\u001b[0m \u001b[1;34m\"Age-16\"\u001b[0m\u001b[1;33m,\u001b[0m \u001b[1;34m\"Age-14\"\u001b[0m\u001b[1;33m,\u001b[0m \u001b[1;34m\"Age-15\"\u001b[0m\u001b[1;33m]\u001b[0m\u001b[1;33m\u001b[0m\u001b[1;33m\u001b[0m\u001b[0m\n\u001b[0;32m      4\u001b[0m \u001b[0mcount\u001b[0m \u001b[1;33m=\u001b[0m \u001b[1;33m[\u001b[0m\u001b[1;36m136\u001b[0m\u001b[1;33m,\u001b[0m \u001b[1;36m84\u001b[0m\u001b[1;33m,\u001b[0m \u001b[1;36m37\u001b[0m\u001b[1;33m,\u001b[0m \u001b[1;36m12\u001b[0m\u001b[1;33m,\u001b[0m \u001b[1;36m8\u001b[0m\u001b[1;33m,\u001b[0m \u001b[1;36m5\u001b[0m\u001b[1;33m,\u001b[0m \u001b[1;36m4\u001b[0m\u001b[1;33m,\u001b[0m \u001b[1;36m2\u001b[0m\u001b[1;33m,\u001b[0m \u001b[1;36m2\u001b[0m\u001b[1;33m,\u001b[0m \u001b[1;36m1\u001b[0m\u001b[1;33m]\u001b[0m\u001b[1;33m\u001b[0m\u001b[1;33m\u001b[0m\u001b[0m\n\u001b[0;32m      5\u001b[0m \u001b[0mcolors\u001b[0m \u001b[1;33m=\u001b[0m \u001b[1;33m[\u001b[0m\u001b[1;34m\"yellowgreen\"\u001b[0m\u001b[1;33m,\u001b[0m \u001b[1;34m\"red\"\u001b[0m\u001b[1;33m,\u001b[0m \u001b[1;34m\"lightcoral\"\u001b[0m\u001b[1;33m,\u001b[0m \u001b[1;34m\"maroon\"\u001b[0m\u001b[1;33m,\u001b[0m \u001b[1;34m\"peachpuff\"\u001b[0m\u001b[1;33m,\u001b[0m \u001b[1;34m\"salmon\"\u001b[0m\u001b[1;33m,\u001b[0m \u001b[1;34m\"sienna\"\u001b[0m\u001b[1;33m,\u001b[0m \u001b[1;34m\"darkorange\"\u001b[0m\u001b[1;33m,\u001b[0m \u001b[1;34m\"chocolate\"\u001b[0m\u001b[1;33m,\u001b[0m \u001b[1;34m\"sandybrown\"\u001b[0m\u001b[1;33m]\u001b[0m\u001b[1;33m\u001b[0m\u001b[1;33m\u001b[0m\u001b[0m\n",
      "\u001b[1;31mNameError\u001b[0m: name 'responses_df' is not defined"
     ]
    }
   ],
   "source": [
    "# Creating a pie chart considering respondent age (14 to 23)\n",
    "age_df = responses_df['What is your age?']\n",
    "age_details = [\"Age-19\", \"Age-18\", \"Age-20\", \"Age-21\", \"Age-23\", \"Age-17\", \"Age-22\", \"Age-16\", \"Age-14\", \"Age-15\"]\n",
    "count = [136, 84, 37, 12, 8, 5, 4, 2, 2, 1]\n",
    "colors = [\"yellowgreen\", \"red\", \"lightcoral\", \"maroon\", \"peachpuff\", \"salmon\", \"sienna\", \"darkorange\", \"chocolate\", \"sandybrown\"]\n",
    "explode = (0.1, 0, 0, 0, 0, 0, 0, 0, 0, 0)\n",
    "b = sum(count)\n",
    "percent = [100*y/b for y in count]\n",
    "\n",
    "labels = ['{0} - {1:1.2f} %'.format(i,j) for i,j in zip(age_details, percent)]\n",
    "\n",
    "plt.title(\"Respondent Age\")\n",
    "plt.pie(count, explode=explode, colors=colors, shadow=True, startangle=300)\n",
    "plt.axis(\"equal\")\n",
    "plt.legend(labels=labels, loc=\"left center\", bbox_to_anchor=(0.1, 1.))\n",
    "plt.figure(figsize=(60,100))\n",
    "plt.show()"
   ]
  },
  {
   "cell_type": "code",
   "execution_count": 8,
   "metadata": {},
   "outputs": [
    {
     "data": {
      "image/png": "[encoded data removed]",
      "text/plain": [
       "<Figure size 432x288 with 1 Axes>"
      ]
     },
     "metadata": {},
     "output_type": "display_data"
    },
    {
     "data": {
      "text/plain": [
       "<Figure size 2880x2880 with 0 Axes>"
      ]
     },
     "metadata": {},
     "output_type": "display_data"
    }
   ],
   "source": [
    "# Creating a pie chart considering respondent age (18 to 21)\n",
    "age_details = [\"Age-19\", \"Age-18\", \"Age-20\", \"Age-21\"]\n",
    "count = [136,84,37, 12]\n",
    "colors = [\"red\", \"darkorange\", \"indianred\", \"lightsalmon\"]\n",
    "explode = (0.1, 0, 0, 0)\n",
    "plt.title(\"Respondent Age\")\n",
    "plt.pie(count, explode=explode, labels=age_details, colors=colors,\n",
    "        autopct=\"%1.0f%%\", shadow=True, startangle=100)\n",
    "plt.axis(\"equal\")\n",
    "plt.legend(loc=2)\n",
    "plt.figure(figsize=(40,40))\n",
    "plt.show()"
   ]
  },
  {
   "cell_type": "code",
   "execution_count": 9,
   "metadata": {},
   "outputs": [
    {
     "ename": "NameError",
     "evalue": "name 'response_1' is not defined",
     "output_type": "error",
     "traceback": [
      "\u001b[1;31m---------------------------------------------------------------------------\u001b[0m",
      "\u001b[1;31mNameError\u001b[0m                                 Traceback (most recent call last)",
      "\u001b[1;32m<ipython-input-9-d34f8e8f1b84>\u001b[0m in \u001b[0;36m<module>\u001b[1;34m\u001b[0m\n\u001b[0;32m      1\u001b[0m \u001b[1;31m# Creating a pie chart considering respondent age (18 to 21) for time spent online on social media\u001b[0m\u001b[1;33m\u001b[0m\u001b[1;33m\u001b[0m\u001b[1;33m\u001b[0m\u001b[0m\n\u001b[1;32m----> 2\u001b[1;33m \u001b[0mtime_spend_online_1\u001b[0m \u001b[1;33m=\u001b[0m \u001b[0mresponse_1\u001b[0m\u001b[1;33m[\u001b[0m\u001b[1;34m'How much time do you spend on social media in a day?'\u001b[0m\u001b[1;33m]\u001b[0m\u001b[1;33m\u001b[0m\u001b[1;33m\u001b[0m\u001b[0m\n\u001b[0m\u001b[0;32m      3\u001b[0m \u001b[0mtime_details_1\u001b[0m \u001b[1;33m=\u001b[0m \u001b[1;33m[\u001b[0m\u001b[1;34m\"Less than 1 hr\"\u001b[0m\u001b[1;33m,\u001b[0m \u001b[1;34m\"1 to 2.5 hrs\"\u001b[0m\u001b[1;33m,\u001b[0m \u001b[1;34m\"Upto 4 hrs\"\u001b[0m\u001b[1;33m,\u001b[0m \u001b[1;34m\"More than 4 hrs\"\u001b[0m\u001b[1;33m,\u001b[0m \u001b[1;34m\"None\"\u001b[0m\u001b[1;33m]\u001b[0m\u001b[1;33m\u001b[0m\u001b[1;33m\u001b[0m\u001b[0m\n\u001b[0;32m      4\u001b[0m \u001b[0mcount\u001b[0m \u001b[1;33m=\u001b[0m \u001b[1;33m[\u001b[0m\u001b[1;36m43\u001b[0m\u001b[1;33m,\u001b[0m\u001b[1;36m110\u001b[0m\u001b[1;33m,\u001b[0m\u001b[1;36m65\u001b[0m\u001b[1;33m,\u001b[0m\u001b[1;36m50\u001b[0m\u001b[1;33m,\u001b[0m\u001b[1;36m1\u001b[0m\u001b[1;33m]\u001b[0m\u001b[1;33m\u001b[0m\u001b[1;33m\u001b[0m\u001b[0m\n\u001b[0;32m      5\u001b[0m \u001b[0mcolors\u001b[0m \u001b[1;33m=\u001b[0m \u001b[1;33m[\u001b[0m\u001b[1;34m\"red\"\u001b[0m\u001b[1;33m,\u001b[0m \u001b[1;34m\"salmon\"\u001b[0m\u001b[1;33m,\u001b[0m \u001b[1;34m\"darkorange\"\u001b[0m\u001b[1;33m,\u001b[0m \u001b[1;34m\"indianred\"\u001b[0m\u001b[1;33m,\u001b[0m \u001b[1;34m\"lightsalmon\"\u001b[0m\u001b[1;33m]\u001b[0m\u001b[1;33m\u001b[0m\u001b[1;33m\u001b[0m\u001b[0m\n",
      "\u001b[1;31mNameError\u001b[0m: name 'response_1' is not defined"
     ]
    }
   ],
   "source": [
    "# Creating a pie chart considering respondent age (18 to 21) for time spent online on social media\n",
    "time_spend_online_1 = response_1['How much time do you spend on social media in a day?']\n",
    "time_details_1 = [\"Less than 1 hr\", \"1 to 2.5 hrs\", \"Upto 4 hrs\", \"More than 4 hrs\", \"None\"]\n",
    "count = [43,110,65,50,1]\n",
    "colors = [\"red\", \"salmon\", \"darkorange\", \"indianred\", \"lightsalmon\"]\n",
    "explode = (0, 0.1, 0, 0,0)\n",
    "plt.title(\"Time spend- Online\")\n",
    "plt.pie(count, explode=explode, labels=time_details_1, colors=colors,\n",
    "        autopct=\"%1.0f%%\", shadow=True, startangle=100)\n",
    "plt.axis(\"equal\")\n",
    "plt.legend(loc=0)\n",
    "plt.figure(figsize=(40,40))\n",
    "plt.show()"
   ]
  },
  {
   "cell_type": "code",
   "execution_count": 10,
   "metadata": {},
   "outputs": [
    {
     "ename": "NameError",
     "evalue": "name 'response_1' is not defined",
     "output_type": "error",
     "traceback": [
      "\u001b[1;31m---------------------------------------------------------------------------\u001b[0m",
      "\u001b[1;31mNameError\u001b[0m                                 Traceback (most recent call last)",
      "\u001b[1;32m<ipython-input-10-b097ce61e6bb>\u001b[0m in \u001b[0;36m<module>\u001b[1;34m\u001b[0m\n\u001b[0;32m      1\u001b[0m \u001b[1;31m# Creating a pie chart considering respondent age (18 to 21) for time spent offline on physical activity\u001b[0m\u001b[1;33m\u001b[0m\u001b[1;33m\u001b[0m\u001b[1;33m\u001b[0m\u001b[0m\n\u001b[1;32m----> 2\u001b[1;33m \u001b[0mtime_spend_online_1\u001b[0m \u001b[1;33m=\u001b[0m \u001b[0mresponse_1\u001b[0m\u001b[1;33m[\u001b[0m\u001b[1;34m'How much time do you spend on physical activities in a day?'\u001b[0m\u001b[1;33m]\u001b[0m\u001b[1;33m\u001b[0m\u001b[1;33m\u001b[0m\u001b[0m\n\u001b[0m\u001b[0;32m      3\u001b[0m \u001b[0mtime_details_1\u001b[0m \u001b[1;33m=\u001b[0m \u001b[1;33m[\u001b[0m\u001b[1;34m\"Less than 1 hr\"\u001b[0m\u001b[1;33m,\u001b[0m \u001b[1;34m\"1 to 2.5 hrs\"\u001b[0m\u001b[1;33m,\u001b[0m \u001b[1;34m\"Upto 4 hrs\"\u001b[0m\u001b[1;33m,\u001b[0m \u001b[1;34m\"More than 4 hrs\"\u001b[0m\u001b[1;33m,\u001b[0m \u001b[1;34m\"None\"\u001b[0m\u001b[1;33m]\u001b[0m\u001b[1;33m\u001b[0m\u001b[1;33m\u001b[0m\u001b[0m\n\u001b[0;32m      4\u001b[0m \u001b[0mcount\u001b[0m \u001b[1;33m=\u001b[0m \u001b[1;33m[\u001b[0m\u001b[1;36m112\u001b[0m\u001b[1;33m,\u001b[0m\u001b[1;36m95\u001b[0m\u001b[1;33m,\u001b[0m\u001b[1;36m15\u001b[0m\u001b[1;33m,\u001b[0m\u001b[1;36m5\u001b[0m\u001b[1;33m,\u001b[0m\u001b[1;36m42\u001b[0m\u001b[1;33m]\u001b[0m\u001b[1;33m\u001b[0m\u001b[1;33m\u001b[0m\u001b[0m\n\u001b[0;32m      5\u001b[0m \u001b[0mcolors\u001b[0m \u001b[1;33m=\u001b[0m \u001b[1;33m[\u001b[0m\u001b[1;34m\"red\"\u001b[0m\u001b[1;33m,\u001b[0m \u001b[1;34m\"salmon\"\u001b[0m\u001b[1;33m,\u001b[0m \u001b[1;34m\"darkorange\"\u001b[0m\u001b[1;33m,\u001b[0m \u001b[1;34m\"indianred\"\u001b[0m\u001b[1;33m,\u001b[0m \u001b[1;34m\"lightsalmon\"\u001b[0m\u001b[1;33m]\u001b[0m\u001b[1;33m\u001b[0m\u001b[1;33m\u001b[0m\u001b[0m\n",
      "\u001b[1;31mNameError\u001b[0m: name 'response_1' is not defined"
     ]
    }
   ],
   "source": [
    "# Creating a pie chart considering respondent age (18 to 21) for time spent offline on physical activity\n",
    "time_spend_online_1 = response_1['How much time do you spend on physical activities in a day?']\n",
    "time_details_1 = [\"Less than 1 hr\", \"1 to 2.5 hrs\", \"Upto 4 hrs\", \"More than 4 hrs\", \"None\"]\n",
    "count = [112,95,15,5,42]\n",
    "colors = [\"red\", \"salmon\", \"darkorange\", \"indianred\", \"lightsalmon\"]\n",
    "explode = (0.1, 0.1, 0, 0,0)\n",
    "plt.title(\"Time spend- Online\")\n",
    "plt.pie(count, explode=explode, labels=time_details_1, colors=colors,\n",
    "        autopct=\"%1.0f%%\", shadow=True, startangle=100)\n",
    "plt.axis(\"equal\")\n",
    "plt.legend(loc=0)\n",
    "plt.figure(figsize=(40,40))\n",
    "plt.show()"
   ]
  },
  {
   "cell_type": "code",
   "execution_count": null,
   "metadata": {},
   "outputs": [],
   "source": []
  }
 ],
 "metadata": {
  "kernelspec": {
   "display_name": "Python 3",
   "language": "python",
   "name": "python3"
  },
  "language_info": {
   "codemirror_mode": {
    "name": "ipython",
    "version": 3
   },
   "file_extension": ".py",
   "mimetype": "text/x-python",
   "name": "python",
   "nbconvert_exporter": "python",
   "pygments_lexer": "ipython3",
   "version": "3.7.4"
  }
 },
 "nbformat": 4,
 "nbformat_minor": 2
}
